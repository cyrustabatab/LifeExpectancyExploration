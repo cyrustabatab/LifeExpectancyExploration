{
 "cells": [
  {
   "cell_type": "code",
   "execution_count": 1,
   "id": "dominican-birth",
   "metadata": {},
   "outputs": [],
   "source": [
    "import pandas as pd"
   ]
  },
  {
   "cell_type": "code",
   "execution_count": 2,
   "id": "compliant-trout",
   "metadata": {},
   "outputs": [],
   "source": [
    "file_name = 'life_expectancy.csv'"
   ]
  },
  {
   "cell_type": "code",
   "execution_count": 9,
   "id": "incorrect-belarus",
   "metadata": {},
   "outputs": [],
   "source": [
    "life = pd.read_csv(file_name,skiprows=2,header=1,usecols=['Country Name','Country Code','2018'])"
   ]
  },
  {
   "cell_type": "code",
   "execution_count": 10,
   "id": "basic-carter",
   "metadata": {},
   "outputs": [
    {
     "data": {
      "text/html": [
       "<div>\n",
       "<style scoped>\n",
       "    .dataframe tbody tr th:only-of-type {\n",
       "        vertical-align: middle;\n",
       "    }\n",
       "\n",
       "    .dataframe tbody tr th {\n",
       "        vertical-align: top;\n",
       "    }\n",
       "\n",
       "    .dataframe thead th {\n",
       "        text-align: right;\n",
       "    }\n",
       "</style>\n",
       "<table border=\"1\" class=\"dataframe\">\n",
       "  <thead>\n",
       "    <tr style=\"text-align: right;\">\n",
       "      <th></th>\n",
       "      <th>Country Name</th>\n",
       "      <th>Country Code</th>\n",
       "      <th>2018</th>\n",
       "    </tr>\n",
       "  </thead>\n",
       "  <tbody>\n",
       "    <tr>\n",
       "      <th>0</th>\n",
       "      <td>Aruba</td>\n",
       "      <td>ABW</td>\n",
       "      <td>76.152000</td>\n",
       "    </tr>\n",
       "    <tr>\n",
       "      <th>1</th>\n",
       "      <td>Afghanistan</td>\n",
       "      <td>AFG</td>\n",
       "      <td>64.486000</td>\n",
       "    </tr>\n",
       "    <tr>\n",
       "      <th>2</th>\n",
       "      <td>Angola</td>\n",
       "      <td>AGO</td>\n",
       "      <td>60.782000</td>\n",
       "    </tr>\n",
       "    <tr>\n",
       "      <th>3</th>\n",
       "      <td>Albania</td>\n",
       "      <td>ALB</td>\n",
       "      <td>78.458000</td>\n",
       "    </tr>\n",
       "    <tr>\n",
       "      <th>4</th>\n",
       "      <td>Andorra</td>\n",
       "      <td>AND</td>\n",
       "      <td>NaN</td>\n",
       "    </tr>\n",
       "    <tr>\n",
       "      <th>...</th>\n",
       "      <td>...</td>\n",
       "      <td>...</td>\n",
       "      <td>...</td>\n",
       "    </tr>\n",
       "    <tr>\n",
       "      <th>259</th>\n",
       "      <td>Kosovo</td>\n",
       "      <td>XKX</td>\n",
       "      <td>72.195122</td>\n",
       "    </tr>\n",
       "    <tr>\n",
       "      <th>260</th>\n",
       "      <td>Yemen, Rep.</td>\n",
       "      <td>YEM</td>\n",
       "      <td>66.096000</td>\n",
       "    </tr>\n",
       "    <tr>\n",
       "      <th>261</th>\n",
       "      <td>South Africa</td>\n",
       "      <td>ZAF</td>\n",
       "      <td>63.857000</td>\n",
       "    </tr>\n",
       "    <tr>\n",
       "      <th>262</th>\n",
       "      <td>Zambia</td>\n",
       "      <td>ZMB</td>\n",
       "      <td>63.510000</td>\n",
       "    </tr>\n",
       "    <tr>\n",
       "      <th>263</th>\n",
       "      <td>Zimbabwe</td>\n",
       "      <td>ZWE</td>\n",
       "      <td>61.195000</td>\n",
       "    </tr>\n",
       "  </tbody>\n",
       "</table>\n",
       "<p>264 rows × 3 columns</p>\n",
       "</div>"
      ],
      "text/plain": [
       "     Country Name Country Code       2018\n",
       "0           Aruba          ABW  76.152000\n",
       "1     Afghanistan          AFG  64.486000\n",
       "2          Angola          AGO  60.782000\n",
       "3         Albania          ALB  78.458000\n",
       "4         Andorra          AND        NaN\n",
       "..            ...          ...        ...\n",
       "259        Kosovo          XKX  72.195122\n",
       "260   Yemen, Rep.          YEM  66.096000\n",
       "261  South Africa          ZAF  63.857000\n",
       "262        Zambia          ZMB  63.510000\n",
       "263      Zimbabwe          ZWE  61.195000\n",
       "\n",
       "[264 rows x 3 columns]"
      ]
     },
     "execution_count": 10,
     "metadata": {},
     "output_type": "execute_result"
    }
   ],
   "source": [
    "life['20']"
   ]
  },
  {
   "cell_type": "code",
   "execution_count": 11,
   "id": "suffering-elizabeth",
   "metadata": {},
   "outputs": [],
   "source": [
    "import plotly.express as px"
   ]
  },
  {
   "cell_type": "code",
   "execution_count": 22,
   "id": "fancy-parliament",
   "metadata": {},
   "outputs": [
    {
     "data": {
      "application/vnd.plotly.v1+json": {
       "config": {
        "plotlyServerURL": "https://plot.ly"
       },
       "data": [
        {
         "coloraxis": "coloraxis",
         "geo": "geo",
         "hovertemplate": "<b>%{hovertext}</b><br><br>Country Code=%{location}<br>Life Expectancy=%{z}<extra></extra>",
         "hovertext": [
          "Aruba",
          "Afghanistan",
          "Angola",
          "Albania",
          "Andorra",
          "Arab World",
          "United Arab Emirates",
          "Argentina",
          "Armenia",
          "American Samoa",
          "Antigua and Barbuda",
          "Australia",
          "Austria",
          "Azerbaijan",
          "Burundi",
          "Belgium",
          "Benin",
          "Burkina Faso",
          "Bangladesh",
          "Bulgaria",
          "Bahrain",
          "Bahamas, The",
          "Bosnia and Herzegovina",
          "Belarus",
          "Belize",
          "Bermuda",
          "Bolivia",
          "Brazil",
          "Barbados",
          "Brunei Darussalam",
          "Bhutan",
          "Botswana",
          "Central African Republic",
          "Canada",
          "Central Europe and the Baltics",
          "Switzerland",
          "Channel Islands",
          "Chile",
          "China",
          "Cote d'Ivoire",
          "Cameroon",
          "Congo, Dem. Rep.",
          "Congo, Rep.",
          "Colombia",
          "Comoros",
          "Cabo Verde",
          "Costa Rica",
          "Caribbean small states",
          "Cuba",
          "Curacao",
          "Cayman Islands",
          "Cyprus",
          "Czech Republic",
          "Germany",
          "Djibouti",
          "Dominica",
          "Denmark",
          "Dominican Republic",
          "Algeria",
          "East Asia & Pacific (excluding high income)",
          "Early-demographic dividend",
          "East Asia & Pacific",
          "Europe & Central Asia (excluding high income)",
          "Europe & Central Asia",
          "Ecuador",
          "Egypt, Arab Rep.",
          "Euro area",
          "Eritrea",
          "Spain",
          "Estonia",
          "Ethiopia",
          "European Union",
          "Fragile and conflict affected situations",
          "Finland",
          "Fiji",
          "France",
          "Faroe Islands",
          "Micronesia, Fed. Sts.",
          "Gabon",
          "United Kingdom",
          "Georgia",
          "Ghana",
          "Gibraltar",
          "Guinea",
          "Gambia, The",
          "Guinea-Bissau",
          "Equatorial Guinea",
          "Greece",
          "Grenada",
          "Greenland",
          "Guatemala",
          "Guam",
          "Guyana",
          "High income",
          "Hong Kong SAR, China",
          "Honduras",
          "Heavily indebted poor countries (HIPC)",
          "Croatia",
          "Haiti",
          "Hungary",
          "IBRD only",
          "IDA & IBRD total",
          "IDA total",
          "IDA blend",
          "Indonesia",
          "IDA only",
          "Isle of Man",
          "India",
          "Not classified",
          "Ireland",
          "Iran, Islamic Rep.",
          "Iraq",
          "Iceland",
          "Israel",
          "Italy",
          "Jamaica",
          "Jordan",
          "Japan",
          "Kazakhstan",
          "Kenya",
          "Kyrgyz Republic",
          "Cambodia",
          "Kiribati",
          "St. Kitts and Nevis",
          "Korea, Rep.",
          "Kuwait",
          "Latin America & Caribbean (excluding high income)",
          "Lao PDR",
          "Lebanon",
          "Liberia",
          "Libya",
          "St. Lucia",
          "Latin America & Caribbean",
          "Least developed countries: UN classification",
          "Low income",
          "Liechtenstein",
          "Sri Lanka",
          "Lower middle income",
          "Low & middle income",
          "Lesotho",
          "Late-demographic dividend",
          "Lithuania",
          "Luxembourg",
          "Latvia",
          "Macao SAR, China",
          "St. Martin (French part)",
          "Morocco",
          "Monaco",
          "Moldova",
          "Madagascar",
          "Maldives",
          "Middle East & North Africa",
          "Mexico",
          "Marshall Islands",
          "Middle income",
          "North Macedonia",
          "Mali",
          "Malta",
          "Myanmar",
          "Middle East & North Africa (excluding high income)",
          "Montenegro",
          "Mongolia",
          "Northern Mariana Islands",
          "Mozambique",
          "Mauritania",
          "Mauritius",
          "Malawi",
          "Malaysia",
          "North America",
          "Namibia",
          "New Caledonia",
          "Niger",
          "Nigeria",
          "Nicaragua",
          "Netherlands",
          "Norway",
          "Nepal",
          "Nauru",
          "New Zealand",
          "OECD members",
          "Oman",
          "Other small states",
          "Pakistan",
          "Panama",
          "Peru",
          "Philippines",
          "Palau",
          "Papua New Guinea",
          "Poland",
          "Pre-demographic dividend",
          "Puerto Rico",
          "Korea, Dem. People’s Rep.",
          "Portugal",
          "Paraguay",
          "West Bank and Gaza",
          "Pacific island small states",
          "Post-demographic dividend",
          "French Polynesia",
          "Qatar",
          "Romania",
          "Russian Federation",
          "Rwanda",
          "South Asia",
          "Saudi Arabia",
          "Sudan",
          "Senegal",
          "Singapore",
          "Solomon Islands",
          "Sierra Leone",
          "El Salvador",
          "San Marino",
          "Somalia",
          "Serbia",
          "Sub-Saharan Africa (excluding high income)",
          "South Sudan",
          "Sub-Saharan Africa",
          "Small states",
          "Sao Tome and Principe",
          "Suriname",
          "Slovak Republic",
          "Slovenia",
          "Sweden",
          "Eswatini",
          "Sint Maarten (Dutch part)",
          "Seychelles",
          "Syrian Arab Republic",
          "Turks and Caicos Islands",
          "Chad",
          "East Asia & Pacific (IDA & IBRD countries)",
          "Europe & Central Asia (IDA & IBRD countries)",
          "Togo",
          "Thailand",
          "Tajikistan",
          "Turkmenistan",
          "Latin America & the Caribbean (IDA & IBRD countries)",
          "Timor-Leste",
          "Middle East & North Africa (IDA & IBRD countries)",
          "Tonga",
          "South Asia (IDA & IBRD)",
          "Sub-Saharan Africa (IDA & IBRD countries)",
          "Trinidad and Tobago",
          "Tunisia",
          "Turkey",
          "Tuvalu",
          "Tanzania",
          "Uganda",
          "Ukraine",
          "Upper middle income",
          "Uruguay",
          "United States",
          "Uzbekistan",
          "St. Vincent and the Grenadines",
          "Venezuela, RB",
          "British Virgin Islands",
          "Virgin Islands (U.S.)",
          "Vietnam",
          "Vanuatu",
          "World",
          "Samoa",
          "Kosovo",
          "Yemen, Rep.",
          "South Africa",
          "Zambia",
          "Zimbabwe"
         ],
         "locationmode": "ISO-3",
         "locations": [
          "ABW",
          "AFG",
          "AGO",
          "ALB",
          "AND",
          "ARB",
          "ARE",
          "ARG",
          "ARM",
          "ASM",
          "ATG",
          "AUS",
          "AUT",
          "AZE",
          "BDI",
          "BEL",
          "BEN",
          "BFA",
          "BGD",
          "BGR",
          "BHR",
          "BHS",
          "BIH",
          "BLR",
          "BLZ",
          "BMU",
          "BOL",
          "BRA",
          "BRB",
          "BRN",
          "BTN",
          "BWA",
          "CAF",
          "CAN",
          "CEB",
          "CHE",
          "CHI",
          "CHL",
          "CHN",
          "CIV",
          "CMR",
          "COD",
          "COG",
          "COL",
          "COM",
          "CPV",
          "CRI",
          "CSS",
          "CUB",
          "CUW",
          "CYM",
          "CYP",
          "CZE",
          "DEU",
          "DJI",
          "DMA",
          "DNK",
          "DOM",
          "DZA",
          "EAP",
          "EAR",
          "EAS",
          "ECA",
          "ECS",
          "ECU",
          "EGY",
          "EMU",
          "ERI",
          "ESP",
          "EST",
          "ETH",
          "EUU",
          "FCS",
          "FIN",
          "FJI",
          "FRA",
          "FRO",
          "FSM",
          "GAB",
          "GBR",
          "GEO",
          "GHA",
          "GIB",
          "GIN",
          "GMB",
          "GNB",
          "GNQ",
          "GRC",
          "GRD",
          "GRL",
          "GTM",
          "GUM",
          "GUY",
          "HIC",
          "HKG",
          "HND",
          "HPC",
          "HRV",
          "HTI",
          "HUN",
          "IBD",
          "IBT",
          "IDA",
          "IDB",
          "IDN",
          "IDX",
          "IMN",
          "IND",
          "INX",
          "IRL",
          "IRN",
          "IRQ",
          "ISL",
          "ISR",
          "ITA",
          "JAM",
          "JOR",
          "JPN",
          "KAZ",
          "KEN",
          "KGZ",
          "KHM",
          "KIR",
          "KNA",
          "KOR",
          "KWT",
          "LAC",
          "LAO",
          "LBN",
          "LBR",
          "LBY",
          "LCA",
          "LCN",
          "LDC",
          "LIC",
          "LIE",
          "LKA",
          "LMC",
          "LMY",
          "LSO",
          "LTE",
          "LTU",
          "LUX",
          "LVA",
          "MAC",
          "MAF",
          "MAR",
          "MCO",
          "MDA",
          "MDG",
          "MDV",
          "MEA",
          "MEX",
          "MHL",
          "MIC",
          "MKD",
          "MLI",
          "MLT",
          "MMR",
          "MNA",
          "MNE",
          "MNG",
          "MNP",
          "MOZ",
          "MRT",
          "MUS",
          "MWI",
          "MYS",
          "NAC",
          "NAM",
          "NCL",
          "NER",
          "NGA",
          "NIC",
          "NLD",
          "NOR",
          "NPL",
          "NRU",
          "NZL",
          "OED",
          "OMN",
          "OSS",
          "PAK",
          "PAN",
          "PER",
          "PHL",
          "PLW",
          "PNG",
          "POL",
          "PRE",
          "PRI",
          "PRK",
          "PRT",
          "PRY",
          "PSE",
          "PSS",
          "PST",
          "PYF",
          "QAT",
          "ROU",
          "RUS",
          "RWA",
          "SAS",
          "SAU",
          "SDN",
          "SEN",
          "SGP",
          "SLB",
          "SLE",
          "SLV",
          "SMR",
          "SOM",
          "SRB",
          "SSA",
          "SSD",
          "SSF",
          "SST",
          "STP",
          "SUR",
          "SVK",
          "SVN",
          "SWE",
          "SWZ",
          "SXM",
          "SYC",
          "SYR",
          "TCA",
          "TCD",
          "TEA",
          "TEC",
          "TGO",
          "THA",
          "TJK",
          "TKM",
          "TLA",
          "TLS",
          "TMN",
          "TON",
          "TSA",
          "TSS",
          "TTO",
          "TUN",
          "TUR",
          "TUV",
          "TZA",
          "UGA",
          "UKR",
          "UMC",
          "URY",
          "USA",
          "UZB",
          "VCT",
          "VEN",
          "VGB",
          "VIR",
          "VNM",
          "VUT",
          "WLD",
          "WSM",
          "XKX",
          "YEM",
          "ZAF",
          "ZMB",
          "ZWE"
         ],
         "name": "",
         "type": "choropleth",
         "z": [
          76.152,
          64.486,
          60.782,
          78.458,
          null,
          71.8068251623605,
          77.814,
          76.52,
          74.945,
          null,
          76.885,
          82.7487804878049,
          81.6926829268293,
          72.864,
          61.247,
          81.5951219512195,
          61.47,
          61.174,
          72.32,
          74.9634146341464,
          77.163,
          73.752,
          77.262,
          74.1756097560976,
          74.496,
          81.6517073170732,
          71.239,
          75.672,
          79.081,
          75.722,
          71.46,
          69.275,
          52.805,
          81.9487804878049,
          76.97684517184,
          83.7536585365854,
          82.928,
          80.042,
          76.704,
          57.422,
          58.921,
          60.368,
          64.29,
          77.109,
          64.118,
          72.782,
          80.095,
          73.6371089078694,
          78.726,
          null,
          null,
          80.828,
          79.0292682926829,
          80.8926829268293,
          66.582,
          null,
          80.9536585365854,
          73.892,
          76.693,
          75.2105121056207,
          70.4831906811833,
          76.0683364250094,
          73.590781529875,
          77.9086066864279,
          76.8,
          71.825,
          82.0596172798915,
          65.941,
          83.4317073170732,
          78.2439024390244,
          66.24,
          81.0344092172663,
          61.4999995849382,
          81.7341463414634,
          67.341,
          82.7243902439024,
          82.5487804878049,
          67.755,
          66.187,
          81.2560975609756,
          73.6,
          63.78,
          null,
          61.185,
          61.735,
          58.003,
          58.402,
          81.7878048780488,
          72.384,
          null,
          74.063,
          79.859,
          69.774,
          80.6561046818993,
          84.9341463414634,
          75.088,
          63.1350064011699,
          78.0707317073171,
          63.66,
          76.0658536585366,
          73.4048767291993,
          71.0717380418743,
          64.2478004723441,
          62.1617501399529,
          71.509,
          65.3040915219653,
          null,
          69.416,
          null,
          82.2560975609756,
          76.479,
          70.454,
          82.8609756097561,
          82.8024390243903,
          83.3463414634146,
          74.368,
          74.405,
          84.2109756097561,
          73.15,
          66.342,
          71.4,
          69.57,
          68.116,
          null,
          82.6268292682927,
          75.398,
          75.246114048204,
          67.61,
          78.875,
          63.73,
          72.724,
          76.057,
          75.4409477532745,
          65.0396241212957,
          63.4963387504082,
          83.0414634146342,
          76.812,
          68.4224690868156,
          70.9988194769754,
          53.705,
          76.2244436790799,
          75.6804878048781,
          82.2951219512195,
          74.7829268292683,
          84.118,
          79.8707317073171,
          76.453,
          null,
          71.808,
          66.681,
          78.627,
          74.0889092566827,
          74.992,
          null,
          71.8546257820263,
          75.688,
          58.893,
          82.4487804878049,
          66.867,
          73.5873582148883,
          76.77,
          69.689,
          null,
          60.163,
          64.704,
          74.4163414634146,
          63.798,
          75.997,
          78.8868905457275,
          63.373,
          77.1487804878049,
          62.024,
          54.332,
          74.275,
          81.8121951219512,
          82.7585365853659,
          70.478,
          null,
          81.8585365853659,
          80.0775295859723,
          77.633,
          68.5469317038401,
          67.114,
          78.329,
          76.516,
          71.095,
          null,
          64.263,
          77.6024390243903,
          60.8209562953764,
          79.7781951219512,
          72.095,
          81.3243902439024,
          74.131,
          73.895,
          69.929057966298,
          80.6598920018751,
          77.462,
          80.1,
          75.3585365853659,
          72.6573170731707,
          68.7,
          69.4122476461494,
          74.998,
          65.095,
          67.665,
          83.1463414634146,
          72.835,
          54.309,
          73.096,
          null,
          57.068,
          75.890243902439,
          61.2565331327445,
          57.604,
          61.2730146485793,
          69.5411324592597,
          70.17,
          71.57,
          77.2658536585366,
          81.3780487804878,
          82.5585365853659,
          59.401,
          null,
          72.8414634146341,
          71.779,
          null,
          53.977,
          75.2492291135899,
          74.0376029005072,
          60.76,
          76.931,
          70.879,
          68.073,
          75.3574154976003,
          69.26,
          73.5836428053412,
          70.801,
          69.4122476461494,
          61.2730146485793,
          73.38,
          76.505,
          77.437,
          null,
          65.015,
          62.973,
          71.5826829268293,
          75.3289849763003,
          77.77,
          78.5390243902439,
          71.573,
          72.415,
          72.128,
          null,
          79.5682926829268,
          75.317,
          70.323,
          72.5632818899911,
          73.187,
          72.1951219512195,
          66.096,
          63.857,
          63.51,
          61.195
         ]
        }
       ],
       "layout": {
        "autosize": true,
        "coloraxis": {
         "colorbar": {
          "title": {
           "text": "Life Expectancy"
          }
         },
         "colorscale": [
          [
           0,
           "rgb(0,0,131)"
          ],
          [
           0.2,
           "rgb(0,60,170)"
          ],
          [
           0.4,
           "rgb(5,255,255)"
          ],
          [
           0.6,
           "rgb(255,255,0)"
          ],
          [
           0.8,
           "rgb(250,0,0)"
          ],
          [
           1,
           "rgb(128,0,0)"
          ]
         ]
        },
        "geo": {
         "center": {
          "lat": 21.343345580293935,
          "lon": 103.31689475466628
         },
         "domain": {
          "x": [
           0,
           1
          ],
          "y": [
           0,
           1
          ]
         },
         "fitbounds": false,
         "projection": {
          "rotation": {
           "lon": 103.31689475466628
          },
          "scale": 0.5061019716995778
         },
         "scope": "world"
        },
        "legend": {
         "tracegroupgap": 0
        },
        "margin": {
         "t": 60
        },
        "template": {
         "data": {
          "bar": [
           {
            "error_x": {
             "color": "#2a3f5f"
            },
            "error_y": {
             "color": "#2a3f5f"
            },
            "marker": {
             "line": {
              "color": "#E5ECF6",
              "width": 0.5
             }
            },
            "type": "bar"
           }
          ],
          "barpolar": [
           {
            "marker": {
             "line": {
              "color": "#E5ECF6",
              "width": 0.5
             }
            },
            "type": "barpolar"
           }
          ],
          "carpet": [
           {
            "aaxis": {
             "endlinecolor": "#2a3f5f",
             "gridcolor": "white",
             "linecolor": "white",
             "minorgridcolor": "white",
             "startlinecolor": "#2a3f5f"
            },
            "baxis": {
             "endlinecolor": "#2a3f5f",
             "gridcolor": "white",
             "linecolor": "white",
             "minorgridcolor": "white",
             "startlinecolor": "#2a3f5f"
            },
            "type": "carpet"
           }
          ],
          "choropleth": [
           {
            "colorbar": {
             "outlinewidth": 0,
             "ticks": ""
            },
            "type": "choropleth"
           }
          ],
          "contour": [
           {
            "colorbar": {
             "outlinewidth": 0,
             "ticks": ""
            },
            "colorscale": [
             [
              0,
              "#0d0887"
             ],
             [
              0.1111111111111111,
              "#46039f"
             ],
             [
              0.2222222222222222,
              "#7201a8"
             ],
             [
              0.3333333333333333,
              "#9c179e"
             ],
             [
              0.4444444444444444,
              "#bd3786"
             ],
             [
              0.5555555555555556,
              "#d8576b"
             ],
             [
              0.6666666666666666,
              "#ed7953"
             ],
             [
              0.7777777777777778,
              "#fb9f3a"
             ],
             [
              0.8888888888888888,
              "#fdca26"
             ],
             [
              1,
              "#f0f921"
             ]
            ],
            "type": "contour"
           }
          ],
          "contourcarpet": [
           {
            "colorbar": {
             "outlinewidth": 0,
             "ticks": ""
            },
            "type": "contourcarpet"
           }
          ],
          "heatmap": [
           {
            "colorbar": {
             "outlinewidth": 0,
             "ticks": ""
            },
            "colorscale": [
             [
              0,
              "#0d0887"
             ],
             [
              0.1111111111111111,
              "#46039f"
             ],
             [
              0.2222222222222222,
              "#7201a8"
             ],
             [
              0.3333333333333333,
              "#9c179e"
             ],
             [
              0.4444444444444444,
              "#bd3786"
             ],
             [
              0.5555555555555556,
              "#d8576b"
             ],
             [
              0.6666666666666666,
              "#ed7953"
             ],
             [
              0.7777777777777778,
              "#fb9f3a"
             ],
             [
              0.8888888888888888,
              "#fdca26"
             ],
             [
              1,
              "#f0f921"
             ]
            ],
            "type": "heatmap"
           }
          ],
          "heatmapgl": [
           {
            "colorbar": {
             "outlinewidth": 0,
             "ticks": ""
            },
            "colorscale": [
             [
              0,
              "#0d0887"
             ],
             [
              0.1111111111111111,
              "#46039f"
             ],
             [
              0.2222222222222222,
              "#7201a8"
             ],
             [
              0.3333333333333333,
              "#9c179e"
             ],
             [
              0.4444444444444444,
              "#bd3786"
             ],
             [
              0.5555555555555556,
              "#d8576b"
             ],
             [
              0.6666666666666666,
              "#ed7953"
             ],
             [
              0.7777777777777778,
              "#fb9f3a"
             ],
             [
              0.8888888888888888,
              "#fdca26"
             ],
             [
              1,
              "#f0f921"
             ]
            ],
            "type": "heatmapgl"
           }
          ],
          "histogram": [
           {
            "marker": {
             "colorbar": {
              "outlinewidth": 0,
              "ticks": ""
             }
            },
            "type": "histogram"
           }
          ],
          "histogram2d": [
           {
            "colorbar": {
             "outlinewidth": 0,
             "ticks": ""
            },
            "colorscale": [
             [
              0,
              "#0d0887"
             ],
             [
              0.1111111111111111,
              "#46039f"
             ],
             [
              0.2222222222222222,
              "#7201a8"
             ],
             [
              0.3333333333333333,
              "#9c179e"
             ],
             [
              0.4444444444444444,
              "#bd3786"
             ],
             [
              0.5555555555555556,
              "#d8576b"
             ],
             [
              0.6666666666666666,
              "#ed7953"
             ],
             [
              0.7777777777777778,
              "#fb9f3a"
             ],
             [
              0.8888888888888888,
              "#fdca26"
             ],
             [
              1,
              "#f0f921"
             ]
            ],
            "type": "histogram2d"
           }
          ],
          "histogram2dcontour": [
           {
            "colorbar": {
             "outlinewidth": 0,
             "ticks": ""
            },
            "colorscale": [
             [
              0,
              "#0d0887"
             ],
             [
              0.1111111111111111,
              "#46039f"
             ],
             [
              0.2222222222222222,
              "#7201a8"
             ],
             [
              0.3333333333333333,
              "#9c179e"
             ],
             [
              0.4444444444444444,
              "#bd3786"
             ],
             [
              0.5555555555555556,
              "#d8576b"
             ],
             [
              0.6666666666666666,
              "#ed7953"
             ],
             [
              0.7777777777777778,
              "#fb9f3a"
             ],
             [
              0.8888888888888888,
              "#fdca26"
             ],
             [
              1,
              "#f0f921"
             ]
            ],
            "type": "histogram2dcontour"
           }
          ],
          "mesh3d": [
           {
            "colorbar": {
             "outlinewidth": 0,
             "ticks": ""
            },
            "type": "mesh3d"
           }
          ],
          "parcoords": [
           {
            "line": {
             "colorbar": {
              "outlinewidth": 0,
              "ticks": ""
             }
            },
            "type": "parcoords"
           }
          ],
          "pie": [
           {
            "automargin": true,
            "type": "pie"
           }
          ],
          "scatter": [
           {
            "marker": {
             "colorbar": {
              "outlinewidth": 0,
              "ticks": ""
             }
            },
            "type": "scatter"
           }
          ],
          "scatter3d": [
           {
            "line": {
             "colorbar": {
              "outlinewidth": 0,
              "ticks": ""
             }
            },
            "marker": {
             "colorbar": {
              "outlinewidth": 0,
              "ticks": ""
             }
            },
            "type": "scatter3d"
           }
          ],
          "scattercarpet": [
           {
            "marker": {
             "colorbar": {
              "outlinewidth": 0,
              "ticks": ""
             }
            },
            "type": "scattercarpet"
           }
          ],
          "scattergeo": [
           {
            "marker": {
             "colorbar": {
              "outlinewidth": 0,
              "ticks": ""
             }
            },
            "type": "scattergeo"
           }
          ],
          "scattergl": [
           {
            "marker": {
             "colorbar": {
              "outlinewidth": 0,
              "ticks": ""
             }
            },
            "type": "scattergl"
           }
          ],
          "scattermapbox": [
           {
            "marker": {
             "colorbar": {
              "outlinewidth": 0,
              "ticks": ""
             }
            },
            "type": "scattermapbox"
           }
          ],
          "scatterpolar": [
           {
            "marker": {
             "colorbar": {
              "outlinewidth": 0,
              "ticks": ""
             }
            },
            "type": "scatterpolar"
           }
          ],
          "scatterpolargl": [
           {
            "marker": {
             "colorbar": {
              "outlinewidth": 0,
              "ticks": ""
             }
            },
            "type": "scatterpolargl"
           }
          ],
          "scatterternary": [
           {
            "marker": {
             "colorbar": {
              "outlinewidth": 0,
              "ticks": ""
             }
            },
            "type": "scatterternary"
           }
          ],
          "surface": [
           {
            "colorbar": {
             "outlinewidth": 0,
             "ticks": ""
            },
            "colorscale": [
             [
              0,
              "#0d0887"
             ],
             [
              0.1111111111111111,
              "#46039f"
             ],
             [
              0.2222222222222222,
              "#7201a8"
             ],
             [
              0.3333333333333333,
              "#9c179e"
             ],
             [
              0.4444444444444444,
              "#bd3786"
             ],
             [
              0.5555555555555556,
              "#d8576b"
             ],
             [
              0.6666666666666666,
              "#ed7953"
             ],
             [
              0.7777777777777778,
              "#fb9f3a"
             ],
             [
              0.8888888888888888,
              "#fdca26"
             ],
             [
              1,
              "#f0f921"
             ]
            ],
            "type": "surface"
           }
          ],
          "table": [
           {
            "cells": {
             "fill": {
              "color": "#EBF0F8"
             },
             "line": {
              "color": "white"
             }
            },
            "header": {
             "fill": {
              "color": "#C8D4E3"
             },
             "line": {
              "color": "white"
             }
            },
            "type": "table"
           }
          ]
         },
         "layout": {
          "annotationdefaults": {
           "arrowcolor": "#2a3f5f",
           "arrowhead": 0,
           "arrowwidth": 1
          },
          "autotypenumbers": "strict",
          "coloraxis": {
           "colorbar": {
            "outlinewidth": 0,
            "ticks": ""
           }
          },
          "colorscale": {
           "diverging": [
            [
             0,
             "#8e0152"
            ],
            [
             0.1,
             "#c51b7d"
            ],
            [
             0.2,
             "#de77ae"
            ],
            [
             0.3,
             "#f1b6da"
            ],
            [
             0.4,
             "#fde0ef"
            ],
            [
             0.5,
             "#f7f7f7"
            ],
            [
             0.6,
             "#e6f5d0"
            ],
            [
             0.7,
             "#b8e186"
            ],
            [
             0.8,
             "#7fbc41"
            ],
            [
             0.9,
             "#4d9221"
            ],
            [
             1,
             "#276419"
            ]
           ],
           "sequential": [
            [
             0,
             "#0d0887"
            ],
            [
             0.1111111111111111,
             "#46039f"
            ],
            [
             0.2222222222222222,
             "#7201a8"
            ],
            [
             0.3333333333333333,
             "#9c179e"
            ],
            [
             0.4444444444444444,
             "#bd3786"
            ],
            [
             0.5555555555555556,
             "#d8576b"
            ],
            [
             0.6666666666666666,
             "#ed7953"
            ],
            [
             0.7777777777777778,
             "#fb9f3a"
            ],
            [
             0.8888888888888888,
             "#fdca26"
            ],
            [
             1,
             "#f0f921"
            ]
           ],
           "sequentialminus": [
            [
             0,
             "#0d0887"
            ],
            [
             0.1111111111111111,
             "#46039f"
            ],
            [
             0.2222222222222222,
             "#7201a8"
            ],
            [
             0.3333333333333333,
             "#9c179e"
            ],
            [
             0.4444444444444444,
             "#bd3786"
            ],
            [
             0.5555555555555556,
             "#d8576b"
            ],
            [
             0.6666666666666666,
             "#ed7953"
            ],
            [
             0.7777777777777778,
             "#fb9f3a"
            ],
            [
             0.8888888888888888,
             "#fdca26"
            ],
            [
             1,
             "#f0f921"
            ]
           ]
          },
          "colorway": [
           "#636efa",
           "#EF553B",
           "#00cc96",
           "#ab63fa",
           "#FFA15A",
           "#19d3f3",
           "#FF6692",
           "#B6E880",
           "#FF97FF",
           "#FECB52"
          ],
          "font": {
           "color": "#2a3f5f"
          },
          "geo": {
           "bgcolor": "white",
           "lakecolor": "white",
           "landcolor": "#E5ECF6",
           "showlakes": true,
           "showland": true,
           "subunitcolor": "white"
          },
          "hoverlabel": {
           "align": "left"
          },
          "hovermode": "closest",
          "mapbox": {
           "style": "light"
          },
          "paper_bgcolor": "white",
          "plot_bgcolor": "#E5ECF6",
          "polar": {
           "angularaxis": {
            "gridcolor": "white",
            "linecolor": "white",
            "ticks": ""
           },
           "bgcolor": "#E5ECF6",
           "radialaxis": {
            "gridcolor": "white",
            "linecolor": "white",
            "ticks": ""
           }
          },
          "scene": {
           "xaxis": {
            "backgroundcolor": "#E5ECF6",
            "gridcolor": "white",
            "gridwidth": 2,
            "linecolor": "white",
            "showbackground": true,
            "ticks": "",
            "zerolinecolor": "white"
           },
           "yaxis": {
            "backgroundcolor": "#E5ECF6",
            "gridcolor": "white",
            "gridwidth": 2,
            "linecolor": "white",
            "showbackground": true,
            "ticks": "",
            "zerolinecolor": "white"
           },
           "zaxis": {
            "backgroundcolor": "#E5ECF6",
            "gridcolor": "white",
            "gridwidth": 2,
            "linecolor": "white",
            "showbackground": true,
            "ticks": "",
            "zerolinecolor": "white"
           }
          },
          "shapedefaults": {
           "line": {
            "color": "#2a3f5f"
           }
          },
          "ternary": {
           "aaxis": {
            "gridcolor": "white",
            "linecolor": "white",
            "ticks": ""
           },
           "baxis": {
            "gridcolor": "white",
            "linecolor": "white",
            "ticks": ""
           },
           "bgcolor": "#E5ECF6",
           "caxis": {
            "gridcolor": "white",
            "linecolor": "white",
            "ticks": ""
           }
          },
          "title": {
           "x": 0.05
          },
          "xaxis": {
           "automargin": true,
           "gridcolor": "white",
           "linecolor": "white",
           "ticks": "",
           "title": {
            "standoff": 15
           },
           "zerolinecolor": "white",
           "zerolinewidth": 2
          },
          "yaxis": {
           "automargin": true,
           "gridcolor": "white",
           "linecolor": "white",
           "ticks": "",
           "title": {
            "standoff": 15
           },
           "zerolinecolor": "white",
           "zerolinewidth": 2
          }
         }
        },
        "title": {
         "text": "Life Expectancy 2018"
        }
       }
      },
      "image/png": "[encoded data removed]",
      "text/html": [
       "<div>                            <div id=\"8ca38b57-b3b6-419f-90e9-ca2f86a055a2\" class=\"plotly-graph-div\" style=\"height:525px; width:100%;\"></div>            <script type=\"text/javascript\">                require([\"plotly\"], function(Plotly) {                    window.PLOTLYENV=window.PLOTLYENV || {};                                    if (document.getElementById(\"8ca38b57-b3b6-419f-90e9-ca2f86a055a2\")) {                    Plotly.newPlot(                        \"8ca38b57-b3b6-419f-90e9-ca2f86a055a2\",                        [{\"coloraxis\": \"coloraxis\", \"geo\": \"geo\", \"hovertemplate\": \"<b>%{hovertext}</b><br><br>Country Code=%{location}<br>Life Expectancy=%{z}<extra></extra>\", \"hovertext\": [\"Aruba\", \"Afghanistan\", \"Angola\", \"Albania\", \"Andorra\", \"Arab World\", \"United Arab Emirates\", \"Argentina\", \"Armenia\", \"American Samoa\", \"Antigua and Barbuda\", \"Australia\", \"Austria\", \"Azerbaijan\", \"Burundi\", \"Belgium\", \"Benin\", \"Burkina Faso\", \"Bangladesh\", \"Bulgaria\", \"Bahrain\", \"Bahamas, The\", \"Bosnia and Herzegovina\", \"Belarus\", \"Belize\", \"Bermuda\", \"Bolivia\", \"Brazil\", \"Barbados\", \"Brunei Darussalam\", \"Bhutan\", \"Botswana\", \"Central African Republic\", \"Canada\", \"Central Europe and the Baltics\", \"Switzerland\", \"Channel Islands\", \"Chile\", \"China\", \"Cote d'Ivoire\", \"Cameroon\", \"Congo, Dem. Rep.\", \"Congo, Rep.\", \"Colombia\", \"Comoros\", \"Cabo Verde\", \"Costa Rica\", \"Caribbean small states\", \"Cuba\", \"Curacao\", \"Cayman Islands\", \"Cyprus\", \"Czech Republic\", \"Germany\", \"Djibouti\", \"Dominica\", \"Denmark\", \"Dominican Republic\", \"Algeria\", \"East Asia & Pacific (excluding high income)\", \"Early-demographic dividend\", \"East Asia & Pacific\", \"Europe & Central Asia (excluding high income)\", \"Europe & Central Asia\", \"Ecuador\", \"Egypt, Arab Rep.\", \"Euro area\", \"Eritrea\", \"Spain\", \"Estonia\", \"Ethiopia\", \"European Union\", \"Fragile and conflict affected situations\", \"Finland\", \"Fiji\", \"France\", \"Faroe Islands\", \"Micronesia, Fed. Sts.\", \"Gabon\", \"United Kingdom\", \"Georgia\", \"Ghana\", \"Gibraltar\", \"Guinea\", \"Gambia, The\", \"Guinea-Bissau\", \"Equatorial Guinea\", \"Greece\", \"Grenada\", \"Greenland\", \"Guatemala\", \"Guam\", \"Guyana\", \"High income\", \"Hong Kong SAR, China\", \"Honduras\", \"Heavily indebted poor countries (HIPC)\", \"Croatia\", \"Haiti\", \"Hungary\", \"IBRD only\", \"IDA & IBRD total\", \"IDA total\", \"IDA blend\", \"Indonesia\", \"IDA only\", \"Isle of Man\", \"India\", \"Not classified\", \"Ireland\", \"Iran, Islamic Rep.\", \"Iraq\", \"Iceland\", \"Israel\", \"Italy\", \"Jamaica\", \"Jordan\", \"Japan\", \"Kazakhstan\", \"Kenya\", \"Kyrgyz Republic\", \"Cambodia\", \"Kiribati\", \"St. Kitts and Nevis\", \"Korea, Rep.\", \"Kuwait\", \"Latin America & Caribbean (excluding high income)\", \"Lao PDR\", \"Lebanon\", \"Liberia\", \"Libya\", \"St. Lucia\", \"Latin America & Caribbean\", \"Least developed countries: UN classification\", \"Low income\", \"Liechtenstein\", \"Sri Lanka\", \"Lower middle income\", \"Low & middle income\", \"Lesotho\", \"Late-demographic dividend\", \"Lithuania\", \"Luxembourg\", \"Latvia\", \"Macao SAR, China\", \"St. Martin (French part)\", \"Morocco\", \"Monaco\", \"Moldova\", \"Madagascar\", \"Maldives\", \"Middle East & North Africa\", \"Mexico\", \"Marshall Islands\", \"Middle income\", \"North Macedonia\", \"Mali\", \"Malta\", \"Myanmar\", \"Middle East & North Africa (excluding high income)\", \"Montenegro\", \"Mongolia\", \"Northern Mariana Islands\", \"Mozambique\", \"Mauritania\", \"Mauritius\", \"Malawi\", \"Malaysia\", \"North America\", \"Namibia\", \"New Caledonia\", \"Niger\", \"Nigeria\", \"Nicaragua\", \"Netherlands\", \"Norway\", \"Nepal\", \"Nauru\", \"New Zealand\", \"OECD members\", \"Oman\", \"Other small states\", \"Pakistan\", \"Panama\", \"Peru\", \"Philippines\", \"Palau\", \"Papua New Guinea\", \"Poland\", \"Pre-demographic dividend\", \"Puerto Rico\", \"Korea, Dem. People\\u2019s Rep.\", \"Portugal\", \"Paraguay\", \"West Bank and Gaza\", \"Pacific island small states\", \"Post-demographic dividend\", \"French Polynesia\", \"Qatar\", \"Romania\", \"Russian Federation\", \"Rwanda\", \"South Asia\", \"Saudi Arabia\", \"Sudan\", \"Senegal\", \"Singapore\", \"Solomon Islands\", \"Sierra Leone\", \"El Salvador\", \"San Marino\", \"Somalia\", \"Serbia\", \"Sub-Saharan Africa (excluding high income)\", \"South Sudan\", \"Sub-Saharan Africa\", \"Small states\", \"Sao Tome and Principe\", \"Suriname\", \"Slovak Republic\", \"Slovenia\", \"Sweden\", \"Eswatini\", \"Sint Maarten (Dutch part)\", \"Seychelles\", \"Syrian Arab Republic\", \"Turks and Caicos Islands\", \"Chad\", \"East Asia & Pacific (IDA & IBRD countries)\", \"Europe & Central Asia (IDA & IBRD countries)\", \"Togo\", \"Thailand\", \"Tajikistan\", \"Turkmenistan\", \"Latin America & the Caribbean (IDA & IBRD countries)\", \"Timor-Leste\", \"Middle East & North Africa (IDA & IBRD countries)\", \"Tonga\", \"South Asia (IDA & IBRD)\", \"Sub-Saharan Africa (IDA & IBRD countries)\", \"Trinidad and Tobago\", \"Tunisia\", \"Turkey\", \"Tuvalu\", \"Tanzania\", \"Uganda\", \"Ukraine\", \"Upper middle income\", \"Uruguay\", \"United States\", \"Uzbekistan\", \"St. Vincent and the Grenadines\", \"Venezuela, RB\", \"British Virgin Islands\", \"Virgin Islands (U.S.)\", \"Vietnam\", \"Vanuatu\", \"World\", \"Samoa\", \"Kosovo\", \"Yemen, Rep.\", \"South Africa\", \"Zambia\", \"Zimbabwe\"], \"locationmode\": \"ISO-3\", \"locations\": [\"ABW\", \"AFG\", \"AGO\", \"ALB\", \"AND\", \"ARB\", \"ARE\", \"ARG\", \"ARM\", \"ASM\", \"ATG\", \"AUS\", \"AUT\", \"AZE\", \"BDI\", \"BEL\", \"BEN\", \"BFA\", \"BGD\", \"BGR\", \"BHR\", \"BHS\", \"BIH\", \"BLR\", \"BLZ\", \"BMU\", \"BOL\", \"BRA\", \"BRB\", \"BRN\", \"BTN\", \"BWA\", \"CAF\", \"CAN\", \"CEB\", \"CHE\", \"CHI\", \"CHL\", \"CHN\", \"CIV\", \"CMR\", \"COD\", \"COG\", \"COL\", \"COM\", \"CPV\", \"CRI\", \"CSS\", \"CUB\", \"CUW\", \"CYM\", \"CYP\", \"CZE\", \"DEU\", \"DJI\", \"DMA\", \"DNK\", \"DOM\", \"DZA\", \"EAP\", \"EAR\", \"EAS\", \"ECA\", \"ECS\", \"ECU\", \"EGY\", \"EMU\", \"ERI\", \"ESP\", \"EST\", \"ETH\", \"EUU\", \"FCS\", \"FIN\", \"FJI\", \"FRA\", \"FRO\", \"FSM\", \"GAB\", \"GBR\", \"GEO\", \"GHA\", \"GIB\", \"GIN\", \"GMB\", \"GNB\", \"GNQ\", \"GRC\", \"GRD\", \"GRL\", \"GTM\", \"GUM\", \"GUY\", \"HIC\", \"HKG\", \"HND\", \"HPC\", \"HRV\", \"HTI\", \"HUN\", \"IBD\", \"IBT\", \"IDA\", \"IDB\", \"IDN\", \"IDX\", \"IMN\", \"IND\", \"INX\", \"IRL\", \"IRN\", \"IRQ\", \"ISL\", \"ISR\", \"ITA\", \"JAM\", \"JOR\", \"JPN\", \"KAZ\", \"KEN\", \"KGZ\", \"KHM\", \"KIR\", \"KNA\", \"KOR\", \"KWT\", \"LAC\", \"LAO\", \"LBN\", \"LBR\", \"LBY\", \"LCA\", \"LCN\", \"LDC\", \"LIC\", \"LIE\", \"LKA\", \"LMC\", \"LMY\", \"LSO\", \"LTE\", \"LTU\", \"LUX\", \"LVA\", \"MAC\", \"MAF\", \"MAR\", \"MCO\", \"MDA\", \"MDG\", \"MDV\", \"MEA\", \"MEX\", \"MHL\", \"MIC\", \"MKD\", \"MLI\", \"MLT\", \"MMR\", \"MNA\", \"MNE\", \"MNG\", \"MNP\", \"MOZ\", \"MRT\", \"MUS\", \"MWI\", \"MYS\", \"NAC\", \"NAM\", \"NCL\", \"NER\", \"NGA\", \"NIC\", \"NLD\", \"NOR\", \"NPL\", \"NRU\", \"NZL\", \"OED\", \"OMN\", \"OSS\", \"PAK\", \"PAN\", \"PER\", \"PHL\", \"PLW\", \"PNG\", \"POL\", \"PRE\", \"PRI\", \"PRK\", \"PRT\", \"PRY\", \"PSE\", \"PSS\", \"PST\", \"PYF\", \"QAT\", \"ROU\", \"RUS\", \"RWA\", \"SAS\", \"SAU\", \"SDN\", \"SEN\", \"SGP\", \"SLB\", \"SLE\", \"SLV\", \"SMR\", \"SOM\", \"SRB\", \"SSA\", \"SSD\", \"SSF\", \"SST\", \"STP\", \"SUR\", \"SVK\", \"SVN\", \"SWE\", \"SWZ\", \"SXM\", \"SYC\", \"SYR\", \"TCA\", \"TCD\", \"TEA\", \"TEC\", \"TGO\", \"THA\", \"TJK\", \"TKM\", \"TLA\", \"TLS\", \"TMN\", \"TON\", \"TSA\", \"TSS\", \"TTO\", \"TUN\", \"TUR\", \"TUV\", \"TZA\", \"UGA\", \"UKR\", \"UMC\", \"URY\", \"USA\", \"UZB\", \"VCT\", \"VEN\", \"VGB\", \"VIR\", \"VNM\", \"VUT\", \"WLD\", \"WSM\", \"XKX\", \"YEM\", \"ZAF\", \"ZMB\", \"ZWE\"], \"name\": \"\", \"type\": \"choropleth\", \"z\": [76.152, 64.486, 60.782, 78.458, null, 71.8068251623605, 77.814, 76.52, 74.945, null, 76.885, 82.7487804878049, 81.6926829268293, 72.864, 61.247, 81.5951219512195, 61.47, 61.174, 72.32, 74.9634146341464, 77.163, 73.752, 77.262, 74.1756097560976, 74.496, 81.6517073170732, 71.239, 75.672, 79.081, 75.722, 71.46, 69.275, 52.805, 81.9487804878049, 76.97684517184, 83.7536585365854, 82.928, 80.042, 76.704, 57.422, 58.921, 60.368, 64.29, 77.109, 64.118, 72.782, 80.095, 73.6371089078694, 78.726, null, null, 80.828, 79.0292682926829, 80.8926829268293, 66.582, null, 80.9536585365854, 73.892, 76.693, 75.2105121056207, 70.4831906811833, 76.0683364250094, 73.590781529875, 77.9086066864279, 76.8, 71.825, 82.0596172798915, 65.941, 83.4317073170732, 78.2439024390244, 66.24, 81.0344092172663, 61.4999995849382, 81.7341463414634, 67.341, 82.7243902439024, 82.5487804878049, 67.755, 66.187, 81.2560975609756, 73.6, 63.78, null, 61.185, 61.735, 58.003, 58.402, 81.7878048780488, 72.384, null, 74.063, 79.859, 69.774, 80.6561046818993, 84.9341463414634, 75.088, 63.1350064011699, 78.0707317073171, 63.66, 76.0658536585366, 73.4048767291993, 71.0717380418743, 64.2478004723441, 62.1617501399529, 71.509, 65.3040915219653, null, 69.416, null, 82.2560975609756, 76.479, 70.454, 82.8609756097561, 82.8024390243903, 83.3463414634146, 74.368, 74.405, 84.2109756097561, 73.15, 66.342, 71.4, 69.57, 68.116, null, 82.6268292682927, 75.398, 75.246114048204, 67.61, 78.875, 63.73, 72.724, 76.057, 75.4409477532745, 65.0396241212957, 63.4963387504082, 83.0414634146342, 76.812, 68.4224690868156, 70.9988194769754, 53.705, 76.2244436790799, 75.6804878048781, 82.2951219512195, 74.7829268292683, 84.118, 79.8707317073171, 76.453, null, 71.808, 66.681, 78.627, 74.0889092566827, 74.992, null, 71.8546257820263, 75.688, 58.893, 82.4487804878049, 66.867, 73.5873582148883, 76.77, 69.689, null, 60.163, 64.704, 74.4163414634146, 63.798, 75.997, 78.8868905457275, 63.373, 77.1487804878049, 62.024, 54.332, 74.275, 81.8121951219512, 82.7585365853659, 70.478, null, 81.8585365853659, 80.0775295859723, 77.633, 68.5469317038401, 67.114, 78.329, 76.516, 71.095, null, 64.263, 77.6024390243903, 60.8209562953764, 79.7781951219512, 72.095, 81.3243902439024, 74.131, 73.895, 69.929057966298, 80.6598920018751, 77.462, 80.1, 75.3585365853659, 72.6573170731707, 68.7, 69.4122476461494, 74.998, 65.095, 67.665, 83.1463414634146, 72.835, 54.309, 73.096, null, 57.068, 75.890243902439, 61.2565331327445, 57.604, 61.2730146485793, 69.5411324592597, 70.17, 71.57, 77.2658536585366, 81.3780487804878, 82.5585365853659, 59.401, null, 72.8414634146341, 71.779, null, 53.977, 75.2492291135899, 74.0376029005072, 60.76, 76.931, 70.879, 68.073, 75.3574154976003, 69.26, 73.5836428053412, 70.801, 69.4122476461494, 61.2730146485793, 73.38, 76.505, 77.437, null, 65.015, 62.973, 71.5826829268293, 75.3289849763003, 77.77, 78.5390243902439, 71.573, 72.415, 72.128, null, 79.5682926829268, 75.317, 70.323, 72.5632818899911, 73.187, 72.1951219512195, 66.096, 63.857, 63.51, 61.195]}],                        {\"coloraxis\": {\"colorbar\": {\"title\": {\"text\": \"Life Expectancy\"}}, \"colorscale\": [[0.0, \"rgb(0,0,131)\"], [0.2, \"rgb(0,60,170)\"], [0.4, \"rgb(5,255,255)\"], [0.6, \"rgb(255,255,0)\"], [0.8, \"rgb(250,0,0)\"], [1.0, \"rgb(128,0,0)\"]]}, \"geo\": {\"center\": {}, \"domain\": {\"x\": [0.0, 1.0], \"y\": [0.0, 1.0]}, \"scope\": \"world\"}, \"legend\": {\"tracegroupgap\": 0}, \"margin\": {\"t\": 60}, \"template\": {\"data\": {\"bar\": [{\"error_x\": {\"color\": \"#2a3f5f\"}, \"error_y\": {\"color\": \"#2a3f5f\"}, \"marker\": {\"line\": {\"color\": \"#E5ECF6\", \"width\": 0.5}}, \"type\": \"bar\"}], \"barpolar\": [{\"marker\": {\"line\": {\"color\": \"#E5ECF6\", \"width\": 0.5}}, \"type\": \"barpolar\"}], \"carpet\": [{\"aaxis\": {\"endlinecolor\": \"#2a3f5f\", \"gridcolor\": \"white\", \"linecolor\": \"white\", \"minorgridcolor\": \"white\", \"startlinecolor\": \"#2a3f5f\"}, \"baxis\": {\"endlinecolor\": \"#2a3f5f\", \"gridcolor\": \"white\", \"linecolor\": \"white\", \"minorgridcolor\": \"white\", \"startlinecolor\": \"#2a3f5f\"}, \"type\": \"carpet\"}], \"choropleth\": [{\"colorbar\": {\"outlinewidth\": 0, \"ticks\": \"\"}, \"type\": \"choropleth\"}], \"contour\": [{\"colorbar\": {\"outlinewidth\": 0, \"ticks\": \"\"}, \"colorscale\": [[0.0, \"#0d0887\"], [0.1111111111111111, \"#46039f\"], [0.2222222222222222, \"#7201a8\"], [0.3333333333333333, \"#9c179e\"], [0.4444444444444444, \"#bd3786\"], [0.5555555555555556, \"#d8576b\"], [0.6666666666666666, \"#ed7953\"], [0.7777777777777778, \"#fb9f3a\"], [0.8888888888888888, \"#fdca26\"], [1.0, \"#f0f921\"]], \"type\": \"contour\"}], \"contourcarpet\": [{\"colorbar\": {\"outlinewidth\": 0, \"ticks\": \"\"}, \"type\": \"contourcarpet\"}], \"heatmap\": [{\"colorbar\": {\"outlinewidth\": 0, \"ticks\": \"\"}, \"colorscale\": [[0.0, \"#0d0887\"], [0.1111111111111111, \"#46039f\"], [0.2222222222222222, \"#7201a8\"], [0.3333333333333333, \"#9c179e\"], [0.4444444444444444, \"#bd3786\"], [0.5555555555555556, \"#d8576b\"], [0.6666666666666666, \"#ed7953\"], [0.7777777777777778, \"#fb9f3a\"], [0.8888888888888888, \"#fdca26\"], [1.0, \"#f0f921\"]], \"type\": \"heatmap\"}], \"heatmapgl\": [{\"colorbar\": {\"outlinewidth\": 0, \"ticks\": \"\"}, \"colorscale\": [[0.0, \"#0d0887\"], [0.1111111111111111, \"#46039f\"], [0.2222222222222222, \"#7201a8\"], [0.3333333333333333, \"#9c179e\"], [0.4444444444444444, \"#bd3786\"], [0.5555555555555556, \"#d8576b\"], [0.6666666666666666, \"#ed7953\"], [0.7777777777777778, \"#fb9f3a\"], [0.8888888888888888, \"#fdca26\"], [1.0, \"#f0f921\"]], \"type\": \"heatmapgl\"}], \"histogram\": [{\"marker\": {\"colorbar\": {\"outlinewidth\": 0, \"ticks\": \"\"}}, \"type\": \"histogram\"}], \"histogram2d\": [{\"colorbar\": {\"outlinewidth\": 0, \"ticks\": \"\"}, \"colorscale\": [[0.0, \"#0d0887\"], [0.1111111111111111, \"#46039f\"], [0.2222222222222222, \"#7201a8\"], [0.3333333333333333, \"#9c179e\"], [0.4444444444444444, \"#bd3786\"], [0.5555555555555556, \"#d8576b\"], [0.6666666666666666, \"#ed7953\"], [0.7777777777777778, \"#fb9f3a\"], [0.8888888888888888, \"#fdca26\"], [1.0, \"#f0f921\"]], \"type\": \"histogram2d\"}], \"histogram2dcontour\": [{\"colorbar\": {\"outlinewidth\": 0, \"ticks\": \"\"}, \"colorscale\": [[0.0, \"#0d0887\"], [0.1111111111111111, \"#46039f\"], [0.2222222222222222, \"#7201a8\"], [0.3333333333333333, \"#9c179e\"], [0.4444444444444444, \"#bd3786\"], [0.5555555555555556, \"#d8576b\"], [0.6666666666666666, \"#ed7953\"], [0.7777777777777778, \"#fb9f3a\"], [0.8888888888888888, \"#fdca26\"], [1.0, \"#f0f921\"]], \"type\": \"histogram2dcontour\"}], \"mesh3d\": [{\"colorbar\": {\"outlinewidth\": 0, \"ticks\": \"\"}, \"type\": \"mesh3d\"}], \"parcoords\": [{\"line\": {\"colorbar\": {\"outlinewidth\": 0, \"ticks\": \"\"}}, \"type\": \"parcoords\"}], \"pie\": [{\"automargin\": true, \"type\": \"pie\"}], \"scatter\": [{\"marker\": {\"colorbar\": {\"outlinewidth\": 0, \"ticks\": \"\"}}, \"type\": \"scatter\"}], \"scatter3d\": [{\"line\": {\"colorbar\": {\"outlinewidth\": 0, \"ticks\": \"\"}}, \"marker\": {\"colorbar\": {\"outlinewidth\": 0, \"ticks\": \"\"}}, \"type\": \"scatter3d\"}], \"scattercarpet\": [{\"marker\": {\"colorbar\": {\"outlinewidth\": 0, \"ticks\": \"\"}}, \"type\": \"scattercarpet\"}], \"scattergeo\": [{\"marker\": {\"colorbar\": {\"outlinewidth\": 0, \"ticks\": \"\"}}, \"type\": \"scattergeo\"}], \"scattergl\": [{\"marker\": {\"colorbar\": {\"outlinewidth\": 0, \"ticks\": \"\"}}, \"type\": \"scattergl\"}], \"scattermapbox\": [{\"marker\": {\"colorbar\": {\"outlinewidth\": 0, \"ticks\": \"\"}}, \"type\": \"scattermapbox\"}], \"scatterpolar\": [{\"marker\": {\"colorbar\": {\"outlinewidth\": 0, \"ticks\": \"\"}}, \"type\": \"scatterpolar\"}], \"scatterpolargl\": [{\"marker\": {\"colorbar\": {\"outlinewidth\": 0, \"ticks\": \"\"}}, \"type\": \"scatterpolargl\"}], \"scatterternary\": [{\"marker\": {\"colorbar\": {\"outlinewidth\": 0, \"ticks\": \"\"}}, \"type\": \"scatterternary\"}], \"surface\": [{\"colorbar\": {\"outlinewidth\": 0, \"ticks\": \"\"}, \"colorscale\": [[0.0, \"#0d0887\"], [0.1111111111111111, \"#46039f\"], [0.2222222222222222, \"#7201a8\"], [0.3333333333333333, \"#9c179e\"], [0.4444444444444444, \"#bd3786\"], [0.5555555555555556, \"#d8576b\"], [0.6666666666666666, \"#ed7953\"], [0.7777777777777778, \"#fb9f3a\"], [0.8888888888888888, \"#fdca26\"], [1.0, \"#f0f921\"]], \"type\": \"surface\"}], \"table\": [{\"cells\": {\"fill\": {\"color\": \"#EBF0F8\"}, \"line\": {\"color\": \"white\"}}, \"header\": {\"fill\": {\"color\": \"#C8D4E3\"}, \"line\": {\"color\": \"white\"}}, \"type\": \"table\"}]}, \"layout\": {\"annotationdefaults\": {\"arrowcolor\": \"#2a3f5f\", \"arrowhead\": 0, \"arrowwidth\": 1}, \"autotypenumbers\": \"strict\", \"coloraxis\": {\"colorbar\": {\"outlinewidth\": 0, \"ticks\": \"\"}}, \"colorscale\": {\"diverging\": [[0, \"#8e0152\"], [0.1, \"#c51b7d\"], [0.2, \"#de77ae\"], [0.3, \"#f1b6da\"], [0.4, \"#fde0ef\"], [0.5, \"#f7f7f7\"], [0.6, \"#e6f5d0\"], [0.7, \"#b8e186\"], [0.8, \"#7fbc41\"], [0.9, \"#4d9221\"], [1, \"#276419\"]], \"sequential\": [[0.0, \"#0d0887\"], [0.1111111111111111, \"#46039f\"], [0.2222222222222222, \"#7201a8\"], [0.3333333333333333, \"#9c179e\"], [0.4444444444444444, \"#bd3786\"], [0.5555555555555556, \"#d8576b\"], [0.6666666666666666, \"#ed7953\"], [0.7777777777777778, \"#fb9f3a\"], [0.8888888888888888, \"#fdca26\"], [1.0, \"#f0f921\"]], \"sequentialminus\": [[0.0, \"#0d0887\"], [0.1111111111111111, \"#46039f\"], [0.2222222222222222, \"#7201a8\"], [0.3333333333333333, \"#9c179e\"], [0.4444444444444444, \"#bd3786\"], [0.5555555555555556, \"#d8576b\"], [0.6666666666666666, \"#ed7953\"], [0.7777777777777778, \"#fb9f3a\"], [0.8888888888888888, \"#fdca26\"], [1.0, \"#f0f921\"]]}, \"colorway\": [\"#636efa\", \"#EF553B\", \"#00cc96\", \"#ab63fa\", \"#FFA15A\", \"#19d3f3\", \"#FF6692\", \"#B6E880\", \"#FF97FF\", \"#FECB52\"], \"font\": {\"color\": \"#2a3f5f\"}, \"geo\": {\"bgcolor\": \"white\", \"lakecolor\": \"white\", \"landcolor\": \"#E5ECF6\", \"showlakes\": true, \"showland\": true, \"subunitcolor\": \"white\"}, \"hoverlabel\": {\"align\": \"left\"}, \"hovermode\": \"closest\", \"mapbox\": {\"style\": \"light\"}, \"paper_bgcolor\": \"white\", \"plot_bgcolor\": \"#E5ECF6\", \"polar\": {\"angularaxis\": {\"gridcolor\": \"white\", \"linecolor\": \"white\", \"ticks\": \"\"}, \"bgcolor\": \"#E5ECF6\", \"radialaxis\": {\"gridcolor\": \"white\", \"linecolor\": \"white\", \"ticks\": \"\"}}, \"scene\": {\"xaxis\": {\"backgroundcolor\": \"#E5ECF6\", \"gridcolor\": \"white\", \"gridwidth\": 2, \"linecolor\": \"white\", \"showbackground\": true, \"ticks\": \"\", \"zerolinecolor\": \"white\"}, \"yaxis\": {\"backgroundcolor\": \"#E5ECF6\", \"gridcolor\": \"white\", \"gridwidth\": 2, \"linecolor\": \"white\", \"showbackground\": true, \"ticks\": \"\", \"zerolinecolor\": \"white\"}, \"zaxis\": {\"backgroundcolor\": \"#E5ECF6\", \"gridcolor\": \"white\", \"gridwidth\": 2, \"linecolor\": \"white\", \"showbackground\": true, \"ticks\": \"\", \"zerolinecolor\": \"white\"}}, \"shapedefaults\": {\"line\": {\"color\": \"#2a3f5f\"}}, \"ternary\": {\"aaxis\": {\"gridcolor\": \"white\", \"linecolor\": \"white\", \"ticks\": \"\"}, \"baxis\": {\"gridcolor\": \"white\", \"linecolor\": \"white\", \"ticks\": \"\"}, \"bgcolor\": \"#E5ECF6\", \"caxis\": {\"gridcolor\": \"white\", \"linecolor\": \"white\", \"ticks\": \"\"}}, \"title\": {\"x\": 0.05}, \"xaxis\": {\"automargin\": true, \"gridcolor\": \"white\", \"linecolor\": \"white\", \"ticks\": \"\", \"title\": {\"standoff\": 15}, \"zerolinecolor\": \"white\", \"zerolinewidth\": 2}, \"yaxis\": {\"automargin\": true, \"gridcolor\": \"white\", \"linecolor\": \"white\", \"ticks\": \"\", \"title\": {\"standoff\": 15}, \"zerolinecolor\": \"white\", \"zerolinewidth\": 2}}}, \"title\": {\"text\": \"Life Expectancy 2018\"}},                        {\"responsive\": true}                    ).then(function(){\n",
       "                            \n",
       "var gd = document.getElementById('8ca38b57-b3b6-419f-90e9-ca2f86a055a2');\n",
       "var x = new MutationObserver(function (mutations, observer) {{\n",
       "        var display = window.getComputedStyle(gd).display;\n",
       "        if (!display || display === 'none') {{\n",
       "            console.log([gd, 'removed!']);\n",
       "            Plotly.purge(gd);\n",
       "            observer.disconnect();\n",
       "        }}\n",
       "}});\n",
       "\n",
       "// Listen for the removal of the full notebook cells\n",
       "var notebookContainer = gd.closest('#notebook-container');\n",
       "if (notebookContainer) {{\n",
       "    x.observe(notebookContainer, {childList: true});\n",
       "}}\n",
       "\n",
       "// Listen for the clearing of the current output cell\n",
       "var outputEl = gd.closest('.output');\n",
       "if (outputEl) {{\n",
       "    x.observe(outputEl, {childList: true});\n",
       "}}\n",
       "\n",
       "                        })                };                });            </script>        </div>"
      ]
     },
     "metadata": {},
     "output_type": "display_data"
    }
   ],
   "source": [
    "fig = px.choropleth(data_frame=life,locationmode='ISO-3',locations='Country Code',scope='world',color='2018',labels={'2018': 'Life Expectancy'},hover_name='Country Name',color_continuous_scale='Jet')\n",
    "fig.update_layout(title='Life Expectancy 2018')"
   ]
  },
  {
   "cell_type": "code",
   "execution_count": 23,
   "id": "quiet-performance",
   "metadata": {},
   "outputs": [],
   "source": [
    "test = life.copy()"
   ]
  },
  {
   "cell_type": "code",
   "execution_count": 25,
   "id": "hydraulic-brooks",
   "metadata": {},
   "outputs": [],
   "source": [
    "test['2019'] = test['2018']"
   ]
  },
  {
   "cell_type": "code",
   "execution_count": 26,
   "id": "elegant-attraction",
   "metadata": {},
   "outputs": [
    {
     "data": {
      "text/html": [
       "<div>\n",
       "<style scoped>\n",
       "    .dataframe tbody tr th:only-of-type {\n",
       "        vertical-align: middle;\n",
       "    }\n",
       "\n",
       "    .dataframe tbody tr th {\n",
       "        vertical-align: top;\n",
       "    }\n",
       "\n",
       "    .dataframe thead th {\n",
       "        text-align: right;\n",
       "    }\n",
       "</style>\n",
       "<table border=\"1\" class=\"dataframe\">\n",
       "  <thead>\n",
       "    <tr style=\"text-align: right;\">\n",
       "      <th></th>\n",
       "      <th>Country Name</th>\n",
       "      <th>Country Code</th>\n",
       "      <th>2018</th>\n",
       "      <th>2019</th>\n",
       "    </tr>\n",
       "  </thead>\n",
       "  <tbody>\n",
       "    <tr>\n",
       "      <th>0</th>\n",
       "      <td>Aruba</td>\n",
       "      <td>ABW</td>\n",
       "      <td>76.152000</td>\n",
       "      <td>76.152000</td>\n",
       "    </tr>\n",
       "    <tr>\n",
       "      <th>1</th>\n",
       "      <td>Afghanistan</td>\n",
       "      <td>AFG</td>\n",
       "      <td>64.486000</td>\n",
       "      <td>64.486000</td>\n",
       "    </tr>\n",
       "    <tr>\n",
       "      <th>2</th>\n",
       "      <td>Angola</td>\n",
       "      <td>AGO</td>\n",
       "      <td>60.782000</td>\n",
       "      <td>60.782000</td>\n",
       "    </tr>\n",
       "    <tr>\n",
       "      <th>3</th>\n",
       "      <td>Albania</td>\n",
       "      <td>ALB</td>\n",
       "      <td>78.458000</td>\n",
       "      <td>78.458000</td>\n",
       "    </tr>\n",
       "    <tr>\n",
       "      <th>4</th>\n",
       "      <td>Andorra</td>\n",
       "      <td>AND</td>\n",
       "      <td>NaN</td>\n",
       "      <td>NaN</td>\n",
       "    </tr>\n",
       "    <tr>\n",
       "      <th>...</th>\n",
       "      <td>...</td>\n",
       "      <td>...</td>\n",
       "      <td>...</td>\n",
       "      <td>...</td>\n",
       "    </tr>\n",
       "    <tr>\n",
       "      <th>259</th>\n",
       "      <td>Kosovo</td>\n",
       "      <td>XKX</td>\n",
       "      <td>72.195122</td>\n",
       "      <td>72.195122</td>\n",
       "    </tr>\n",
       "    <tr>\n",
       "      <th>260</th>\n",
       "      <td>Yemen, Rep.</td>\n",
       "      <td>YEM</td>\n",
       "      <td>66.096000</td>\n",
       "      <td>66.096000</td>\n",
       "    </tr>\n",
       "    <tr>\n",
       "      <th>261</th>\n",
       "      <td>South Africa</td>\n",
       "      <td>ZAF</td>\n",
       "      <td>63.857000</td>\n",
       "      <td>63.857000</td>\n",
       "    </tr>\n",
       "    <tr>\n",
       "      <th>262</th>\n",
       "      <td>Zambia</td>\n",
       "      <td>ZMB</td>\n",
       "      <td>63.510000</td>\n",
       "      <td>63.510000</td>\n",
       "    </tr>\n",
       "    <tr>\n",
       "      <th>263</th>\n",
       "      <td>Zimbabwe</td>\n",
       "      <td>ZWE</td>\n",
       "      <td>61.195000</td>\n",
       "      <td>61.195000</td>\n",
       "    </tr>\n",
       "  </tbody>\n",
       "</table>\n",
       "<p>264 rows × 4 columns</p>\n",
       "</div>"
      ],
      "text/plain": [
       "     Country Name Country Code       2018       2019\n",
       "0           Aruba          ABW  76.152000  76.152000\n",
       "1     Afghanistan          AFG  64.486000  64.486000\n",
       "2          Angola          AGO  60.782000  60.782000\n",
       "3         Albania          ALB  78.458000  78.458000\n",
       "4         Andorra          AND        NaN        NaN\n",
       "..            ...          ...        ...        ...\n",
       "259        Kosovo          XKX  72.195122  72.195122\n",
       "260   Yemen, Rep.          YEM  66.096000  66.096000\n",
       "261  South Africa          ZAF  63.857000  63.857000\n",
       "262        Zambia          ZMB  63.510000  63.510000\n",
       "263      Zimbabwe          ZWE  61.195000  61.195000\n",
       "\n",
       "[264 rows x 4 columns]"
      ]
     },
     "execution_count": 26,
     "metadata": {},
     "output_type": "execute_result"
    }
   ],
   "source": [
    "test"
   ]
  },
  {
   "cell_type": "code",
   "execution_count": 30,
   "id": "skilled-smith",
   "metadata": {},
   "outputs": [],
   "source": [
    "test2 = test.melt(id_vars=['Country Name','Country Code'],value_vars=['2018','2019'],var_name='Year',value_name='Life Exp.')"
   ]
  },
  {
   "cell_type": "code",
   "execution_count": 31,
   "id": "romance-survival",
   "metadata": {},
   "outputs": [
    {
     "data": {
      "text/html": [
       "<div>\n",
       "<style scoped>\n",
       "    .dataframe tbody tr th:only-of-type {\n",
       "        vertical-align: middle;\n",
       "    }\n",
       "\n",
       "    .dataframe tbody tr th {\n",
       "        vertical-align: top;\n",
       "    }\n",
       "\n",
       "    .dataframe thead th {\n",
       "        text-align: right;\n",
       "    }\n",
       "</style>\n",
       "<table border=\"1\" class=\"dataframe\">\n",
       "  <thead>\n",
       "    <tr style=\"text-align: right;\">\n",
       "      <th></th>\n",
       "      <th>Country Name</th>\n",
       "      <th>Country Code</th>\n",
       "      <th>Year</th>\n",
       "      <th>Life Exp.</th>\n",
       "    </tr>\n",
       "  </thead>\n",
       "  <tbody>\n",
       "    <tr>\n",
       "      <th>0</th>\n",
       "      <td>Aruba</td>\n",
       "      <td>ABW</td>\n",
       "      <td>2018</td>\n",
       "      <td>76.152000</td>\n",
       "    </tr>\n",
       "    <tr>\n",
       "      <th>1</th>\n",
       "      <td>Afghanistan</td>\n",
       "      <td>AFG</td>\n",
       "      <td>2018</td>\n",
       "      <td>64.486000</td>\n",
       "    </tr>\n",
       "    <tr>\n",
       "      <th>2</th>\n",
       "      <td>Angola</td>\n",
       "      <td>AGO</td>\n",
       "      <td>2018</td>\n",
       "      <td>60.782000</td>\n",
       "    </tr>\n",
       "    <tr>\n",
       "      <th>3</th>\n",
       "      <td>Albania</td>\n",
       "      <td>ALB</td>\n",
       "      <td>2018</td>\n",
       "      <td>78.458000</td>\n",
       "    </tr>\n",
       "    <tr>\n",
       "      <th>4</th>\n",
       "      <td>Andorra</td>\n",
       "      <td>AND</td>\n",
       "      <td>2018</td>\n",
       "      <td>NaN</td>\n",
       "    </tr>\n",
       "    <tr>\n",
       "      <th>...</th>\n",
       "      <td>...</td>\n",
       "      <td>...</td>\n",
       "      <td>...</td>\n",
       "      <td>...</td>\n",
       "    </tr>\n",
       "    <tr>\n",
       "      <th>523</th>\n",
       "      <td>Kosovo</td>\n",
       "      <td>XKX</td>\n",
       "      <td>2019</td>\n",
       "      <td>72.195122</td>\n",
       "    </tr>\n",
       "    <tr>\n",
       "      <th>524</th>\n",
       "      <td>Yemen, Rep.</td>\n",
       "      <td>YEM</td>\n",
       "      <td>2019</td>\n",
       "      <td>66.096000</td>\n",
       "    </tr>\n",
       "    <tr>\n",
       "      <th>525</th>\n",
       "      <td>South Africa</td>\n",
       "      <td>ZAF</td>\n",
       "      <td>2019</td>\n",
       "      <td>63.857000</td>\n",
       "    </tr>\n",
       "    <tr>\n",
       "      <th>526</th>\n",
       "      <td>Zambia</td>\n",
       "      <td>ZMB</td>\n",
       "      <td>2019</td>\n",
       "      <td>63.510000</td>\n",
       "    </tr>\n",
       "    <tr>\n",
       "      <th>527</th>\n",
       "      <td>Zimbabwe</td>\n",
       "      <td>ZWE</td>\n",
       "      <td>2019</td>\n",
       "      <td>61.195000</td>\n",
       "    </tr>\n",
       "  </tbody>\n",
       "</table>\n",
       "<p>528 rows × 4 columns</p>\n",
       "</div>"
      ],
      "text/plain": [
       "     Country Name Country Code  Year  Life Exp.\n",
       "0           Aruba          ABW  2018  76.152000\n",
       "1     Afghanistan          AFG  2018  64.486000\n",
       "2          Angola          AGO  2018  60.782000\n",
       "3         Albania          ALB  2018  78.458000\n",
       "4         Andorra          AND  2018        NaN\n",
       "..            ...          ...   ...        ...\n",
       "523        Kosovo          XKX  2019  72.195122\n",
       "524   Yemen, Rep.          YEM  2019  66.096000\n",
       "525  South Africa          ZAF  2019  63.857000\n",
       "526        Zambia          ZMB  2019  63.510000\n",
       "527      Zimbabwe          ZWE  2019  61.195000\n",
       "\n",
       "[528 rows x 4 columns]"
      ]
     },
     "execution_count": 31,
     "metadata": {},
     "output_type": "execute_result"
    }
   ],
   "source": [
    "test2"
   ]
  },
  {
   "cell_type": "code",
   "execution_count": 36,
   "id": "innovative-stylus",
   "metadata": {},
   "outputs": [
    {
     "data": {
      "application/vnd.plotly.v1+json": {
       "config": {
        "plotlyServerURL": "https://plot.ly"
       },
       "data": [
        {
         "coloraxis": "coloraxis",
         "geo": "geo",
         "hovertemplate": "<b>%{hovertext}</b><br><br>Year=2018<br>Country Code=%{location}<br>Life Exp.=%{z}<extra></extra>",
         "hovertext": [
          "Aruba",
          "Afghanistan",
          "Angola",
          "Albania",
          "Andorra",
          "Arab World",
          "United Arab Emirates",
          "Argentina",
          "Armenia",
          "American Samoa",
          "Antigua and Barbuda",
          "Australia",
          "Austria",
          "Azerbaijan",
          "Burundi",
          "Belgium",
          "Benin",
          "Burkina Faso",
          "Bangladesh",
          "Bulgaria",
          "Bahrain",
          "Bahamas, The",
          "Bosnia and Herzegovina",
          "Belarus",
          "Belize",
          "Bermuda",
          "Bolivia",
          "Brazil",
          "Barbados",
          "Brunei Darussalam",
          "Bhutan",
          "Botswana",
          "Central African Republic",
          "Canada",
          "Central Europe and the Baltics",
          "Switzerland",
          "Channel Islands",
          "Chile",
          "China",
          "Cote d'Ivoire",
          "Cameroon",
          "Congo, Dem. Rep.",
          "Congo, Rep.",
          "Colombia",
          "Comoros",
          "Cabo Verde",
          "Costa Rica",
          "Caribbean small states",
          "Cuba",
          "Curacao",
          "Cayman Islands",
          "Cyprus",
          "Czech Republic",
          "Germany",
          "Djibouti",
          "Dominica",
          "Denmark",
          "Dominican Republic",
          "Algeria",
          "East Asia & Pacific (excluding high income)",
          "Early-demographic dividend",
          "East Asia & Pacific",
          "Europe & Central Asia (excluding high income)",
          "Europe & Central Asia",
          "Ecuador",
          "Egypt, Arab Rep.",
          "Euro area",
          "Eritrea",
          "Spain",
          "Estonia",
          "Ethiopia",
          "European Union",
          "Fragile and conflict affected situations",
          "Finland",
          "Fiji",
          "France",
          "Faroe Islands",
          "Micronesia, Fed. Sts.",
          "Gabon",
          "United Kingdom",
          "Georgia",
          "Ghana",
          "Gibraltar",
          "Guinea",
          "Gambia, The",
          "Guinea-Bissau",
          "Equatorial Guinea",
          "Greece",
          "Grenada",
          "Greenland",
          "Guatemala",
          "Guam",
          "Guyana",
          "High income",
          "Hong Kong SAR, China",
          "Honduras",
          "Heavily indebted poor countries (HIPC)",
          "Croatia",
          "Haiti",
          "Hungary",
          "IBRD only",
          "IDA & IBRD total",
          "IDA total",
          "IDA blend",
          "Indonesia",
          "IDA only",
          "Isle of Man",
          "India",
          "Not classified",
          "Ireland",
          "Iran, Islamic Rep.",
          "Iraq",
          "Iceland",
          "Israel",
          "Italy",
          "Jamaica",
          "Jordan",
          "Japan",
          "Kazakhstan",
          "Kenya",
          "Kyrgyz Republic",
          "Cambodia",
          "Kiribati",
          "St. Kitts and Nevis",
          "Korea, Rep.",
          "Kuwait",
          "Latin America & Caribbean (excluding high income)",
          "Lao PDR",
          "Lebanon",
          "Liberia",
          "Libya",
          "St. Lucia",
          "Latin America & Caribbean",
          "Least developed countries: UN classification",
          "Low income",
          "Liechtenstein",
          "Sri Lanka",
          "Lower middle income",
          "Low & middle income",
          "Lesotho",
          "Late-demographic dividend",
          "Lithuania",
          "Luxembourg",
          "Latvia",
          "Macao SAR, China",
          "St. Martin (French part)",
          "Morocco",
          "Monaco",
          "Moldova",
          "Madagascar",
          "Maldives",
          "Middle East & North Africa",
          "Mexico",
          "Marshall Islands",
          "Middle income",
          "North Macedonia",
          "Mali",
          "Malta",
          "Myanmar",
          "Middle East & North Africa (excluding high income)",
          "Montenegro",
          "Mongolia",
          "Northern Mariana Islands",
          "Mozambique",
          "Mauritania",
          "Mauritius",
          "Malawi",
          "Malaysia",
          "North America",
          "Namibia",
          "New Caledonia",
          "Niger",
          "Nigeria",
          "Nicaragua",
          "Netherlands",
          "Norway",
          "Nepal",
          "Nauru",
          "New Zealand",
          "OECD members",
          "Oman",
          "Other small states",
          "Pakistan",
          "Panama",
          "Peru",
          "Philippines",
          "Palau",
          "Papua New Guinea",
          "Poland",
          "Pre-demographic dividend",
          "Puerto Rico",
          "Korea, Dem. People’s Rep.",
          "Portugal",
          "Paraguay",
          "West Bank and Gaza",
          "Pacific island small states",
          "Post-demographic dividend",
          "French Polynesia",
          "Qatar",
          "Romania",
          "Russian Federation",
          "Rwanda",
          "South Asia",
          "Saudi Arabia",
          "Sudan",
          "Senegal",
          "Singapore",
          "Solomon Islands",
          "Sierra Leone",
          "El Salvador",
          "San Marino",
          "Somalia",
          "Serbia",
          "Sub-Saharan Africa (excluding high income)",
          "South Sudan",
          "Sub-Saharan Africa",
          "Small states",
          "Sao Tome and Principe",
          "Suriname",
          "Slovak Republic",
          "Slovenia",
          "Sweden",
          "Eswatini",
          "Sint Maarten (Dutch part)",
          "Seychelles",
          "Syrian Arab Republic",
          "Turks and Caicos Islands",
          "Chad",
          "East Asia & Pacific (IDA & IBRD countries)",
          "Europe & Central Asia (IDA & IBRD countries)",
          "Togo",
          "Thailand",
          "Tajikistan",
          "Turkmenistan",
          "Latin America & the Caribbean (IDA & IBRD countries)",
          "Timor-Leste",
          "Middle East & North Africa (IDA & IBRD countries)",
          "Tonga",
          "South Asia (IDA & IBRD)",
          "Sub-Saharan Africa (IDA & IBRD countries)",
          "Trinidad and Tobago",
          "Tunisia",
          "Turkey",
          "Tuvalu",
          "Tanzania",
          "Uganda",
          "Ukraine",
          "Upper middle income",
          "Uruguay",
          "United States",
          "Uzbekistan",
          "St. Vincent and the Grenadines",
          "Venezuela, RB",
          "British Virgin Islands",
          "Virgin Islands (U.S.)",
          "Vietnam",
          "Vanuatu",
          "World",
          "Samoa",
          "Kosovo",
          "Yemen, Rep.",
          "South Africa",
          "Zambia",
          "Zimbabwe"
         ],
         "locationmode": "ISO-3",
         "locations": [
          "ABW",
          "AFG",
          "AGO",
          "ALB",
          "AND",
          "ARB",
          "ARE",
          "ARG",
          "ARM",
          "ASM",
          "ATG",
          "AUS",
          "AUT",
          "AZE",
          "BDI",
          "BEL",
          "BEN",
          "BFA",
          "BGD",
          "BGR",
          "BHR",
          "BHS",
          "BIH",
          "BLR",
          "BLZ",
          "BMU",
          "BOL",
          "BRA",
          "BRB",
          "BRN",
          "BTN",
          "BWA",
          "CAF",
          "CAN",
          "CEB",
          "CHE",
          "CHI",
          "CHL",
          "CHN",
          "CIV",
          "CMR",
          "COD",
          "COG",
          "COL",
          "COM",
          "CPV",
          "CRI",
          "CSS",
          "CUB",
          "CUW",
          "CYM",
          "CYP",
          "CZE",
          "DEU",
          "DJI",
          "DMA",
          "DNK",
          "DOM",
          "DZA",
          "EAP",
          "EAR",
          "EAS",
          "ECA",
          "ECS",
          "ECU",
          "EGY",
          "EMU",
          "ERI",
          "ESP",
          "EST",
          "ETH",
          "EUU",
          "FCS",
          "FIN",
          "FJI",
          "FRA",
          "FRO",
          "FSM",
          "GAB",
          "GBR",
          "GEO",
          "GHA",
          "GIB",
          "GIN",
          "GMB",
          "GNB",
          "GNQ",
          "GRC",
          "GRD",
          "GRL",
          "GTM",
          "GUM",
          "GUY",
          "HIC",
          "HKG",
          "HND",
          "HPC",
          "HRV",
          "HTI",
          "HUN",
          "IBD",
          "IBT",
          "IDA",
          "IDB",
          "IDN",
          "IDX",
          "IMN",
          "IND",
          "INX",
          "IRL",
          "IRN",
          "IRQ",
          "ISL",
          "ISR",
          "ITA",
          "JAM",
          "JOR",
          "JPN",
          "KAZ",
          "KEN",
          "KGZ",
          "KHM",
          "KIR",
          "KNA",
          "KOR",
          "KWT",
          "LAC",
          "LAO",
          "LBN",
          "LBR",
          "LBY",
          "LCA",
          "LCN",
          "LDC",
          "LIC",
          "LIE",
          "LKA",
          "LMC",
          "LMY",
          "LSO",
          "LTE",
          "LTU",
          "LUX",
          "LVA",
          "MAC",
          "MAF",
          "MAR",
          "MCO",
          "MDA",
          "MDG",
          "MDV",
          "MEA",
          "MEX",
          "MHL",
          "MIC",
          "MKD",
          "MLI",
          "MLT",
          "MMR",
          "MNA",
          "MNE",
          "MNG",
          "MNP",
          "MOZ",
          "MRT",
          "MUS",
          "MWI",
          "MYS",
          "NAC",
          "NAM",
          "NCL",
          "NER",
          "NGA",
          "NIC",
          "NLD",
          "NOR",
          "NPL",
          "NRU",
          "NZL",
          "OED",
          "OMN",
          "OSS",
          "PAK",
          "PAN",
          "PER",
          "PHL",
          "PLW",
          "PNG",
          "POL",
          "PRE",
          "PRI",
          "PRK",
          "PRT",
          "PRY",
          "PSE",
          "PSS",
          "PST",
          "PYF",
          "QAT",
          "ROU",
          "RUS",
          "RWA",
          "SAS",
          "SAU",
          "SDN",
          "SEN",
          "SGP",
          "SLB",
          "SLE",
          "SLV",
          "SMR",
          "SOM",
          "SRB",
          "SSA",
          "SSD",
          "SSF",
          "SST",
          "STP",
          "SUR",
          "SVK",
          "SVN",
          "SWE",
          "SWZ",
          "SXM",
          "SYC",
          "SYR",
          "TCA",
          "TCD",
          "TEA",
          "TEC",
          "TGO",
          "THA",
          "TJK",
          "TKM",
          "TLA",
          "TLS",
          "TMN",
          "TON",
          "TSA",
          "TSS",
          "TTO",
          "TUN",
          "TUR",
          "TUV",
          "TZA",
          "UGA",
          "UKR",
          "UMC",
          "URY",
          "USA",
          "UZB",
          "VCT",
          "VEN",
          "VGB",
          "VIR",
          "VNM",
          "VUT",
          "WLD",
          "WSM",
          "XKX",
          "YEM",
          "ZAF",
          "ZMB",
          "ZWE"
         ],
         "name": "",
         "type": "choropleth",
         "z": [
          76.152,
          64.486,
          60.782,
          78.458,
          null,
          71.8068251623605,
          77.814,
          76.52,
          74.945,
          null,
          76.885,
          82.7487804878049,
          81.6926829268293,
          72.864,
          61.247,
          81.5951219512195,
          61.47,
          61.174,
          72.32,
          74.9634146341464,
          77.163,
          73.752,
          77.262,
          74.1756097560976,
          74.496,
          81.6517073170732,
          71.239,
          75.672,
          79.081,
          75.722,
          71.46,
          69.275,
          52.805,
          81.9487804878049,
          76.97684517184,
          83.7536585365854,
          82.928,
          80.042,
          76.704,
          57.422,
          58.921,
          60.368,
          64.29,
          77.109,
          64.118,
          72.782,
          80.095,
          73.6371089078694,
          78.726,
          null,
          null,
          80.828,
          79.0292682926829,
          80.8926829268293,
          66.582,
          null,
          80.9536585365854,
          73.892,
          76.693,
          75.2105121056207,
          70.4831906811833,
          76.0683364250094,
          73.590781529875,
          77.9086066864279,
          76.8,
          71.825,
          82.0596172798915,
          65.941,
          83.4317073170732,
          78.2439024390244,
          66.24,
          81.0344092172663,
          61.4999995849382,
          81.7341463414634,
          67.341,
          82.7243902439024,
          82.5487804878049,
          67.755,
          66.187,
          81.2560975609756,
          73.6,
          63.78,
          null,
          61.185,
          61.735,
          58.003,
          58.402,
          81.7878048780488,
          72.384,
          null,
          74.063,
          79.859,
          69.774,
          80.6561046818993,
          84.9341463414634,
          75.088,
          63.1350064011699,
          78.0707317073171,
          63.66,
          76.0658536585366,
          73.4048767291993,
          71.0717380418743,
          64.2478004723441,
          62.1617501399529,
          71.509,
          65.3040915219653,
          null,
          69.416,
          null,
          82.2560975609756,
          76.479,
          70.454,
          82.8609756097561,
          82.8024390243903,
          83.3463414634146,
          74.368,
          74.405,
          84.2109756097561,
          73.15,
          66.342,
          71.4,
          69.57,
          68.116,
          null,
          82.6268292682927,
          75.398,
          75.246114048204,
          67.61,
          78.875,
          63.73,
          72.724,
          76.057,
          75.4409477532745,
          65.0396241212957,
          63.4963387504082,
          83.0414634146342,
          76.812,
          68.4224690868156,
          70.9988194769754,
          53.705,
          76.2244436790799,
          75.6804878048781,
          82.2951219512195,
          74.7829268292683,
          84.118,
          79.8707317073171,
          76.453,
          null,
          71.808,
          66.681,
          78.627,
          74.0889092566827,
          74.992,
          null,
          71.8546257820263,
          75.688,
          58.893,
          82.4487804878049,
          66.867,
          73.5873582148883,
          76.77,
          69.689,
          null,
          60.163,
          64.704,
          74.4163414634146,
          63.798,
          75.997,
          78.8868905457275,
          63.373,
          77.1487804878049,
          62.024,
          54.332,
          74.275,
          81.8121951219512,
          82.7585365853659,
          70.478,
          null,
          81.8585365853659,
          80.0775295859723,
          77.633,
          68.5469317038401,
          67.114,
          78.329,
          76.516,
          71.095,
          null,
          64.263,
          77.6024390243903,
          60.8209562953764,
          79.7781951219512,
          72.095,
          81.3243902439024,
          74.131,
          73.895,
          69.929057966298,
          80.6598920018751,
          77.462,
          80.1,
          75.3585365853659,
          72.6573170731707,
          68.7,
          69.4122476461494,
          74.998,
          65.095,
          67.665,
          83.1463414634146,
          72.835,
          54.309,
          73.096,
          null,
          57.068,
          75.890243902439,
          61.2565331327445,
          57.604,
          61.2730146485793,
          69.5411324592597,
          70.17,
          71.57,
          77.2658536585366,
          81.3780487804878,
          82.5585365853659,
          59.401,
          null,
          72.8414634146341,
          71.779,
          null,
          53.977,
          75.2492291135899,
          74.0376029005072,
          60.76,
          76.931,
          70.879,
          68.073,
          75.3574154976003,
          69.26,
          73.5836428053412,
          70.801,
          69.4122476461494,
          61.2730146485793,
          73.38,
          76.505,
          77.437,
          null,
          65.015,
          62.973,
          71.5826829268293,
          75.3289849763003,
          77.77,
          78.5390243902439,
          71.573,
          72.415,
          72.128,
          null,
          79.5682926829268,
          75.317,
          70.323,
          72.5632818899911,
          73.187,
          72.1951219512195,
          66.096,
          63.857,
          63.51,
          61.195
         ]
        },
        {
         "coloraxis": "coloraxis",
         "geo": "geo2",
         "hovertemplate": "<b>%{hovertext}</b><br><br>Year=2019<br>Country Code=%{location}<br>Life Exp.=%{z}<extra></extra>",
         "hovertext": [
          "Aruba",
          "Afghanistan",
          "Angola",
          "Albania",
          "Andorra",
          "Arab World",
          "United Arab Emirates",
          "Argentina",
          "Armenia",
          "American Samoa",
          "Antigua and Barbuda",
          "Australia",
          "Austria",
          "Azerbaijan",
          "Burundi",
          "Belgium",
          "Benin",
          "Burkina Faso",
          "Bangladesh",
          "Bulgaria",
          "Bahrain",
          "Bahamas, The",
          "Bosnia and Herzegovina",
          "Belarus",
          "Belize",
          "Bermuda",
          "Bolivia",
          "Brazil",
          "Barbados",
          "Brunei Darussalam",
          "Bhutan",
          "Botswana",
          "Central African Republic",
          "Canada",
          "Central Europe and the Baltics",
          "Switzerland",
          "Channel Islands",
          "Chile",
          "China",
          "Cote d'Ivoire",
          "Cameroon",
          "Congo, Dem. Rep.",
          "Congo, Rep.",
          "Colombia",
          "Comoros",
          "Cabo Verde",
          "Costa Rica",
          "Caribbean small states",
          "Cuba",
          "Curacao",
          "Cayman Islands",
          "Cyprus",
          "Czech Republic",
          "Germany",
          "Djibouti",
          "Dominica",
          "Denmark",
          "Dominican Republic",
          "Algeria",
          "East Asia & Pacific (excluding high income)",
          "Early-demographic dividend",
          "East Asia & Pacific",
          "Europe & Central Asia (excluding high income)",
          "Europe & Central Asia",
          "Ecuador",
          "Egypt, Arab Rep.",
          "Euro area",
          "Eritrea",
          "Spain",
          "Estonia",
          "Ethiopia",
          "European Union",
          "Fragile and conflict affected situations",
          "Finland",
          "Fiji",
          "France",
          "Faroe Islands",
          "Micronesia, Fed. Sts.",
          "Gabon",
          "United Kingdom",
          "Georgia",
          "Ghana",
          "Gibraltar",
          "Guinea",
          "Gambia, The",
          "Guinea-Bissau",
          "Equatorial Guinea",
          "Greece",
          "Grenada",
          "Greenland",
          "Guatemala",
          "Guam",
          "Guyana",
          "High income",
          "Hong Kong SAR, China",
          "Honduras",
          "Heavily indebted poor countries (HIPC)",
          "Croatia",
          "Haiti",
          "Hungary",
          "IBRD only",
          "IDA & IBRD total",
          "IDA total",
          "IDA blend",
          "Indonesia",
          "IDA only",
          "Isle of Man",
          "India",
          "Not classified",
          "Ireland",
          "Iran, Islamic Rep.",
          "Iraq",
          "Iceland",
          "Israel",
          "Italy",
          "Jamaica",
          "Jordan",
          "Japan",
          "Kazakhstan",
          "Kenya",
          "Kyrgyz Republic",
          "Cambodia",
          "Kiribati",
          "St. Kitts and Nevis",
          "Korea, Rep.",
          "Kuwait",
          "Latin America & Caribbean (excluding high income)",
          "Lao PDR",
          "Lebanon",
          "Liberia",
          "Libya",
          "St. Lucia",
          "Latin America & Caribbean",
          "Least developed countries: UN classification",
          "Low income",
          "Liechtenstein",
          "Sri Lanka",
          "Lower middle income",
          "Low & middle income",
          "Lesotho",
          "Late-demographic dividend",
          "Lithuania",
          "Luxembourg",
          "Latvia",
          "Macao SAR, China",
          "St. Martin (French part)",
          "Morocco",
          "Monaco",
          "Moldova",
          "Madagascar",
          "Maldives",
          "Middle East & North Africa",
          "Mexico",
          "Marshall Islands",
          "Middle income",
          "North Macedonia",
          "Mali",
          "Malta",
          "Myanmar",
          "Middle East & North Africa (excluding high income)",
          "Montenegro",
          "Mongolia",
          "Northern Mariana Islands",
          "Mozambique",
          "Mauritania",
          "Mauritius",
          "Malawi",
          "Malaysia",
          "North America",
          "Namibia",
          "New Caledonia",
          "Niger",
          "Nigeria",
          "Nicaragua",
          "Netherlands",
          "Norway",
          "Nepal",
          "Nauru",
          "New Zealand",
          "OECD members",
          "Oman",
          "Other small states",
          "Pakistan",
          "Panama",
          "Peru",
          "Philippines",
          "Palau",
          "Papua New Guinea",
          "Poland",
          "Pre-demographic dividend",
          "Puerto Rico",
          "Korea, Dem. People’s Rep.",
          "Portugal",
          "Paraguay",
          "West Bank and Gaza",
          "Pacific island small states",
          "Post-demographic dividend",
          "French Polynesia",
          "Qatar",
          "Romania",
          "Russian Federation",
          "Rwanda",
          "South Asia",
          "Saudi Arabia",
          "Sudan",
          "Senegal",
          "Singapore",
          "Solomon Islands",
          "Sierra Leone",
          "El Salvador",
          "San Marino",
          "Somalia",
          "Serbia",
          "Sub-Saharan Africa (excluding high income)",
          "South Sudan",
          "Sub-Saharan Africa",
          "Small states",
          "Sao Tome and Principe",
          "Suriname",
          "Slovak Republic",
          "Slovenia",
          "Sweden",
          "Eswatini",
          "Sint Maarten (Dutch part)",
          "Seychelles",
          "Syrian Arab Republic",
          "Turks and Caicos Islands",
          "Chad",
          "East Asia & Pacific (IDA & IBRD countries)",
          "Europe & Central Asia (IDA & IBRD countries)",
          "Togo",
          "Thailand",
          "Tajikistan",
          "Turkmenistan",
          "Latin America & the Caribbean (IDA & IBRD countries)",
          "Timor-Leste",
          "Middle East & North Africa (IDA & IBRD countries)",
          "Tonga",
          "South Asia (IDA & IBRD)",
          "Sub-Saharan Africa (IDA & IBRD countries)",
          "Trinidad and Tobago",
          "Tunisia",
          "Turkey",
          "Tuvalu",
          "Tanzania",
          "Uganda",
          "Ukraine",
          "Upper middle income",
          "Uruguay",
          "United States",
          "Uzbekistan",
          "St. Vincent and the Grenadines",
          "Venezuela, RB",
          "British Virgin Islands",
          "Virgin Islands (U.S.)",
          "Vietnam",
          "Vanuatu",
          "World",
          "Samoa",
          "Kosovo",
          "Yemen, Rep.",
          "South Africa",
          "Zambia",
          "Zimbabwe"
         ],
         "locationmode": "ISO-3",
         "locations": [
          "ABW",
          "AFG",
          "AGO",
          "ALB",
          "AND",
          "ARB",
          "ARE",
          "ARG",
          "ARM",
          "ASM",
          "ATG",
          "AUS",
          "AUT",
          "AZE",
          "BDI",
          "BEL",
          "BEN",
          "BFA",
          "BGD",
          "BGR",
          "BHR",
          "BHS",
          "BIH",
          "BLR",
          "BLZ",
          "BMU",
          "BOL",
          "BRA",
          "BRB",
          "BRN",
          "BTN",
          "BWA",
          "CAF",
          "CAN",
          "CEB",
          "CHE",
          "CHI",
          "CHL",
          "CHN",
          "CIV",
          "CMR",
          "COD",
          "COG",
          "COL",
          "COM",
          "CPV",
          "CRI",
          "CSS",
          "CUB",
          "CUW",
          "CYM",
          "CYP",
          "CZE",
          "DEU",
          "DJI",
          "DMA",
          "DNK",
          "DOM",
          "DZA",
          "EAP",
          "EAR",
          "EAS",
          "ECA",
          "ECS",
          "ECU",
          "EGY",
          "EMU",
          "ERI",
          "ESP",
          "EST",
          "ETH",
          "EUU",
          "FCS",
          "FIN",
          "FJI",
          "FRA",
          "FRO",
          "FSM",
          "GAB",
          "GBR",
          "GEO",
          "GHA",
          "GIB",
          "GIN",
          "GMB",
          "GNB",
          "GNQ",
          "GRC",
          "GRD",
          "GRL",
          "GTM",
          "GUM",
          "GUY",
          "HIC",
          "HKG",
          "HND",
          "HPC",
          "HRV",
          "HTI",
          "HUN",
          "IBD",
          "IBT",
          "IDA",
          "IDB",
          "IDN",
          "IDX",
          "IMN",
          "IND",
          "INX",
          "IRL",
          "IRN",
          "IRQ",
          "ISL",
          "ISR",
          "ITA",
          "JAM",
          "JOR",
          "JPN",
          "KAZ",
          "KEN",
          "KGZ",
          "KHM",
          "KIR",
          "KNA",
          "KOR",
          "KWT",
          "LAC",
          "LAO",
          "LBN",
          "LBR",
          "LBY",
          "LCA",
          "LCN",
          "LDC",
          "LIC",
          "LIE",
          "LKA",
          "LMC",
          "LMY",
          "LSO",
          "LTE",
          "LTU",
          "LUX",
          "LVA",
          "MAC",
          "MAF",
          "MAR",
          "MCO",
          "MDA",
          "MDG",
          "MDV",
          "MEA",
          "MEX",
          "MHL",
          "MIC",
          "MKD",
          "MLI",
          "MLT",
          "MMR",
          "MNA",
          "MNE",
          "MNG",
          "MNP",
          "MOZ",
          "MRT",
          "MUS",
          "MWI",
          "MYS",
          "NAC",
          "NAM",
          "NCL",
          "NER",
          "NGA",
          "NIC",
          "NLD",
          "NOR",
          "NPL",
          "NRU",
          "NZL",
          "OED",
          "OMN",
          "OSS",
          "PAK",
          "PAN",
          "PER",
          "PHL",
          "PLW",
          "PNG",
          "POL",
          "PRE",
          "PRI",
          "PRK",
          "PRT",
          "PRY",
          "PSE",
          "PSS",
          "PST",
          "PYF",
          "QAT",
          "ROU",
          "RUS",
          "RWA",
          "SAS",
          "SAU",
          "SDN",
          "SEN",
          "SGP",
          "SLB",
          "SLE",
          "SLV",
          "SMR",
          "SOM",
          "SRB",
          "SSA",
          "SSD",
          "SSF",
          "SST",
          "STP",
          "SUR",
          "SVK",
          "SVN",
          "SWE",
          "SWZ",
          "SXM",
          "SYC",
          "SYR",
          "TCA",
          "TCD",
          "TEA",
          "TEC",
          "TGO",
          "THA",
          "TJK",
          "TKM",
          "TLA",
          "TLS",
          "TMN",
          "TON",
          "TSA",
          "TSS",
          "TTO",
          "TUN",
          "TUR",
          "TUV",
          "TZA",
          "UGA",
          "UKR",
          "UMC",
          "URY",
          "USA",
          "UZB",
          "VCT",
          "VEN",
          "VGB",
          "VIR",
          "VNM",
          "VUT",
          "WLD",
          "WSM",
          "XKX",
          "YEM",
          "ZAF",
          "ZMB",
          "ZWE"
         ],
         "name": "",
         "type": "choropleth",
         "z": [
          76.152,
          64.486,
          60.782,
          78.458,
          null,
          71.8068251623605,
          77.814,
          76.52,
          74.945,
          null,
          76.885,
          82.7487804878049,
          81.6926829268293,
          72.864,
          61.247,
          81.5951219512195,
          61.47,
          61.174,
          72.32,
          74.9634146341464,
          77.163,
          73.752,
          77.262,
          74.1756097560976,
          74.496,
          81.6517073170732,
          71.239,
          75.672,
          79.081,
          75.722,
          71.46,
          69.275,
          52.805,
          81.9487804878049,
          76.97684517184,
          83.7536585365854,
          82.928,
          80.042,
          76.704,
          57.422,
          58.921,
          60.368,
          64.29,
          77.109,
          64.118,
          72.782,
          80.095,
          73.6371089078694,
          78.726,
          null,
          null,
          80.828,
          79.0292682926829,
          80.8926829268293,
          66.582,
          null,
          80.9536585365854,
          73.892,
          76.693,
          75.2105121056207,
          70.4831906811833,
          76.0683364250094,
          73.590781529875,
          77.9086066864279,
          76.8,
          71.825,
          82.0596172798915,
          65.941,
          83.4317073170732,
          78.2439024390244,
          66.24,
          81.0344092172663,
          61.4999995849382,
          81.7341463414634,
          67.341,
          82.7243902439024,
          82.5487804878049,
          67.755,
          66.187,
          81.2560975609756,
          73.6,
          63.78,
          null,
          61.185,
          61.735,
          58.003,
          58.402,
          81.7878048780488,
          72.384,
          null,
          74.063,
          79.859,
          69.774,
          80.6561046818993,
          84.9341463414634,
          75.088,
          63.1350064011699,
          78.0707317073171,
          63.66,
          76.0658536585366,
          73.4048767291993,
          71.0717380418743,
          64.2478004723441,
          62.1617501399529,
          71.509,
          65.3040915219653,
          null,
          69.416,
          null,
          82.2560975609756,
          76.479,
          70.454,
          82.8609756097561,
          82.8024390243903,
          83.3463414634146,
          74.368,
          74.405,
          84.2109756097561,
          73.15,
          66.342,
          71.4,
          69.57,
          68.116,
          null,
          82.6268292682927,
          75.398,
          75.246114048204,
          67.61,
          78.875,
          63.73,
          72.724,
          76.057,
          75.4409477532745,
          65.0396241212957,
          63.4963387504082,
          83.0414634146342,
          76.812,
          68.4224690868156,
          70.9988194769754,
          53.705,
          76.2244436790799,
          75.6804878048781,
          82.2951219512195,
          74.7829268292683,
          84.118,
          79.8707317073171,
          76.453,
          null,
          71.808,
          66.681,
          78.627,
          74.0889092566827,
          74.992,
          null,
          71.8546257820263,
          75.688,
          58.893,
          82.4487804878049,
          66.867,
          73.5873582148883,
          76.77,
          69.689,
          null,
          60.163,
          64.704,
          74.4163414634146,
          63.798,
          75.997,
          78.8868905457275,
          63.373,
          77.1487804878049,
          62.024,
          54.332,
          74.275,
          81.8121951219512,
          82.7585365853659,
          70.478,
          null,
          81.8585365853659,
          80.0775295859723,
          77.633,
          68.5469317038401,
          67.114,
          78.329,
          76.516,
          71.095,
          null,
          64.263,
          77.6024390243903,
          60.8209562953764,
          79.7781951219512,
          72.095,
          81.3243902439024,
          74.131,
          73.895,
          69.929057966298,
          80.6598920018751,
          77.462,
          80.1,
          75.3585365853659,
          72.6573170731707,
          68.7,
          69.4122476461494,
          74.998,
          65.095,
          67.665,
          83.1463414634146,
          72.835,
          54.309,
          73.096,
          null,
          57.068,
          75.890243902439,
          61.2565331327445,
          57.604,
          61.2730146485793,
          69.5411324592597,
          70.17,
          71.57,
          77.2658536585366,
          81.3780487804878,
          82.5585365853659,
          59.401,
          null,
          72.8414634146341,
          71.779,
          null,
          53.977,
          75.2492291135899,
          74.0376029005072,
          60.76,
          76.931,
          70.879,
          68.073,
          75.3574154976003,
          69.26,
          73.5836428053412,
          70.801,
          69.4122476461494,
          61.2730146485793,
          73.38,
          76.505,
          77.437,
          null,
          65.015,
          62.973,
          71.5826829268293,
          75.3289849763003,
          77.77,
          78.5390243902439,
          71.573,
          72.415,
          72.128,
          null,
          79.5682926829268,
          75.317,
          70.323,
          72.5632818899911,
          73.187,
          72.1951219512195,
          66.096,
          63.857,
          63.51,
          61.195
         ]
        }
       ],
       "layout": {
        "annotations": [
         {
          "font": {},
          "showarrow": false,
          "text": "Year=2018",
          "x": 0.245,
          "xanchor": "center",
          "xref": "paper",
          "y": 1,
          "yanchor": "bottom",
          "yref": "paper"
         },
         {
          "font": {},
          "showarrow": false,
          "text": "Year=2019",
          "x": 0.755,
          "xanchor": "center",
          "xref": "paper",
          "y": 1,
          "yanchor": "bottom",
          "yref": "paper"
         }
        ],
        "autosize": true,
        "coloraxis": {
         "colorbar": {
          "title": {
           "text": "Life Exp."
          }
         },
         "colorscale": [
          [
           0,
           "rgb(0,0,131)"
          ],
          [
           0.2,
           "rgb(0,60,170)"
          ],
          [
           0.4,
           "rgb(5,255,255)"
          ],
          [
           0.6,
           "rgb(255,255,0)"
          ],
          [
           0.8,
           "rgb(250,0,0)"
          ],
          [
           1,
           "rgb(128,0,0)"
          ]
         ]
        },
        "geo": {
         "center": {
          "lat": 37.80417669408759,
          "lon": -14.990833114101605
         },
         "domain": {
          "x": [
           0,
           0.49
          ],
          "y": [
           0,
           1
          ]
         },
         "projection": {
          "rotation": {
           "lon": 345.00916688589837
          },
          "scale": 0.3310222275988492
         },
         "scope": "world"
        },
        "geo2": {
         "center": {},
         "domain": {
          "x": [
           0.51,
           1
          ],
          "y": [
           0,
           1
          ]
         },
         "scope": "world"
        },
        "legend": {
         "tracegroupgap": 0
        },
        "margin": {
         "t": 60
        },
        "template": {
         "data": {
          "bar": [
           {
            "error_x": {
             "color": "#2a3f5f"
            },
            "error_y": {
             "color": "#2a3f5f"
            },
            "marker": {
             "line": {
              "color": "#E5ECF6",
              "width": 0.5
             }
            },
            "type": "bar"
           }
          ],
          "barpolar": [
           {
            "marker": {
             "line": {
              "color": "#E5ECF6",
              "width": 0.5
             }
            },
            "type": "barpolar"
           }
          ],
          "carpet": [
           {
            "aaxis": {
             "endlinecolor": "#2a3f5f",
             "gridcolor": "white",
             "linecolor": "white",
             "minorgridcolor": "white",
             "startlinecolor": "#2a3f5f"
            },
            "baxis": {
             "endlinecolor": "#2a3f5f",
             "gridcolor": "white",
             "linecolor": "white",
             "minorgridcolor": "white",
             "startlinecolor": "#2a3f5f"
            },
            "type": "carpet"
           }
          ],
          "choropleth": [
           {
            "colorbar": {
             "outlinewidth": 0,
             "ticks": ""
            },
            "type": "choropleth"
           }
          ],
          "contour": [
           {
            "colorbar": {
             "outlinewidth": 0,
             "ticks": ""
            },
            "colorscale": [
             [
              0,
              "#0d0887"
             ],
             [
              0.1111111111111111,
              "#46039f"
             ],
             [
              0.2222222222222222,
              "#7201a8"
             ],
             [
              0.3333333333333333,
              "#9c179e"
             ],
             [
              0.4444444444444444,
              "#bd3786"
             ],
             [
              0.5555555555555556,
              "#d8576b"
             ],
             [
              0.6666666666666666,
              "#ed7953"
             ],
             [
              0.7777777777777778,
              "#fb9f3a"
             ],
             [
              0.8888888888888888,
              "#fdca26"
             ],
             [
              1,
              "#f0f921"
             ]
            ],
            "type": "contour"
           }
          ],
          "contourcarpet": [
           {
            "colorbar": {
             "outlinewidth": 0,
             "ticks": ""
            },
            "type": "contourcarpet"
           }
          ],
          "heatmap": [
           {
            "colorbar": {
             "outlinewidth": 0,
             "ticks": ""
            },
            "colorscale": [
             [
              0,
              "#0d0887"
             ],
             [
              0.1111111111111111,
              "#46039f"
             ],
             [
              0.2222222222222222,
              "#7201a8"
             ],
             [
              0.3333333333333333,
              "#9c179e"
             ],
             [
              0.4444444444444444,
              "#bd3786"
             ],
             [
              0.5555555555555556,
              "#d8576b"
             ],
             [
              0.6666666666666666,
              "#ed7953"
             ],
             [
              0.7777777777777778,
              "#fb9f3a"
             ],
             [
              0.8888888888888888,
              "#fdca26"
             ],
             [
              1,
              "#f0f921"
             ]
            ],
            "type": "heatmap"
           }
          ],
          "heatmapgl": [
           {
            "colorbar": {
             "outlinewidth": 0,
             "ticks": ""
            },
            "colorscale": [
             [
              0,
              "#0d0887"
             ],
             [
              0.1111111111111111,
              "#46039f"
             ],
             [
              0.2222222222222222,
              "#7201a8"
             ],
             [
              0.3333333333333333,
              "#9c179e"
             ],
             [
              0.4444444444444444,
              "#bd3786"
             ],
             [
              0.5555555555555556,
              "#d8576b"
             ],
             [
              0.6666666666666666,
              "#ed7953"
             ],
             [
              0.7777777777777778,
              "#fb9f3a"
             ],
             [
              0.8888888888888888,
              "#fdca26"
             ],
             [
              1,
              "#f0f921"
             ]
            ],
            "type": "heatmapgl"
           }
          ],
          "histogram": [
           {
            "marker": {
             "colorbar": {
              "outlinewidth": 0,
              "ticks": ""
             }
            },
            "type": "histogram"
           }
          ],
          "histogram2d": [
           {
            "colorbar": {
             "outlinewidth": 0,
             "ticks": ""
            },
            "colorscale": [
             [
              0,
              "#0d0887"
             ],
             [
              0.1111111111111111,
              "#46039f"
             ],
             [
              0.2222222222222222,
              "#7201a8"
             ],
             [
              0.3333333333333333,
              "#9c179e"
             ],
             [
              0.4444444444444444,
              "#bd3786"
             ],
             [
              0.5555555555555556,
              "#d8576b"
             ],
             [
              0.6666666666666666,
              "#ed7953"
             ],
             [
              0.7777777777777778,
              "#fb9f3a"
             ],
             [
              0.8888888888888888,
              "#fdca26"
             ],
             [
              1,
              "#f0f921"
             ]
            ],
            "type": "histogram2d"
           }
          ],
          "histogram2dcontour": [
           {
            "colorbar": {
             "outlinewidth": 0,
             "ticks": ""
            },
            "colorscale": [
             [
              0,
              "#0d0887"
             ],
             [
              0.1111111111111111,
              "#46039f"
             ],
             [
              0.2222222222222222,
              "#7201a8"
             ],
             [
              0.3333333333333333,
              "#9c179e"
             ],
             [
              0.4444444444444444,
              "#bd3786"
             ],
             [
              0.5555555555555556,
              "#d8576b"
             ],
             [
              0.6666666666666666,
              "#ed7953"
             ],
             [
              0.7777777777777778,
              "#fb9f3a"
             ],
             [
              0.8888888888888888,
              "#fdca26"
             ],
             [
              1,
              "#f0f921"
             ]
            ],
            "type": "histogram2dcontour"
           }
          ],
          "mesh3d": [
           {
            "colorbar": {
             "outlinewidth": 0,
             "ticks": ""
            },
            "type": "mesh3d"
           }
          ],
          "parcoords": [
           {
            "line": {
             "colorbar": {
              "outlinewidth": 0,
              "ticks": ""
             }
            },
            "type": "parcoords"
           }
          ],
          "pie": [
           {
            "automargin": true,
            "type": "pie"
           }
          ],
          "scatter": [
           {
            "marker": {
             "colorbar": {
              "outlinewidth": 0,
              "ticks": ""
             }
            },
            "type": "scatter"
           }
          ],
          "scatter3d": [
           {
            "line": {
             "colorbar": {
              "outlinewidth": 0,
              "ticks": ""
             }
            },
            "marker": {
             "colorbar": {
              "outlinewidth": 0,
              "ticks": ""
             }
            },
            "type": "scatter3d"
           }
          ],
          "scattercarpet": [
           {
            "marker": {
             "colorbar": {
              "outlinewidth": 0,
              "ticks": ""
             }
            },
            "type": "scattercarpet"
           }
          ],
          "scattergeo": [
           {
            "marker": {
             "colorbar": {
              "outlinewidth": 0,
              "ticks": ""
             }
            },
            "type": "scattergeo"
           }
          ],
          "scattergl": [
           {
            "marker": {
             "colorbar": {
              "outlinewidth": 0,
              "ticks": ""
             }
            },
            "type": "scattergl"
           }
          ],
          "scattermapbox": [
           {
            "marker": {
             "colorbar": {
              "outlinewidth": 0,
              "ticks": ""
             }
            },
            "type": "scattermapbox"
           }
          ],
          "scatterpolar": [
           {
            "marker": {
             "colorbar": {
              "outlinewidth": 0,
              "ticks": ""
             }
            },
            "type": "scatterpolar"
           }
          ],
          "scatterpolargl": [
           {
            "marker": {
             "colorbar": {
              "outlinewidth": 0,
              "ticks": ""
             }
            },
            "type": "scatterpolargl"
           }
          ],
          "scatterternary": [
           {
            "marker": {
             "colorbar": {
              "outlinewidth": 0,
              "ticks": ""
             }
            },
            "type": "scatterternary"
           }
          ],
          "surface": [
           {
            "colorbar": {
             "outlinewidth": 0,
             "ticks": ""
            },
            "colorscale": [
             [
              0,
              "#0d0887"
             ],
             [
              0.1111111111111111,
              "#46039f"
             ],
             [
              0.2222222222222222,
              "#7201a8"
             ],
             [
              0.3333333333333333,
              "#9c179e"
             ],
             [
              0.4444444444444444,
              "#bd3786"
             ],
             [
              0.5555555555555556,
              "#d8576b"
             ],
             [
              0.6666666666666666,
              "#ed7953"
             ],
             [
              0.7777777777777778,
              "#fb9f3a"
             ],
             [
              0.8888888888888888,
              "#fdca26"
             ],
             [
              1,
              "#f0f921"
             ]
            ],
            "type": "surface"
           }
          ],
          "table": [
           {
            "cells": {
             "fill": {
              "color": "#EBF0F8"
             },
             "line": {
              "color": "white"
             }
            },
            "header": {
             "fill": {
              "color": "#C8D4E3"
             },
             "line": {
              "color": "white"
             }
            },
            "type": "table"
           }
          ]
         },
         "layout": {
          "annotationdefaults": {
           "arrowcolor": "#2a3f5f",
           "arrowhead": 0,
           "arrowwidth": 1
          },
          "autotypenumbers": "strict",
          "coloraxis": {
           "colorbar": {
            "outlinewidth": 0,
            "ticks": ""
           }
          },
          "colorscale": {
           "diverging": [
            [
             0,
             "#8e0152"
            ],
            [
             0.1,
             "#c51b7d"
            ],
            [
             0.2,
             "#de77ae"
            ],
            [
             0.3,
             "#f1b6da"
            ],
            [
             0.4,
             "#fde0ef"
            ],
            [
             0.5,
             "#f7f7f7"
            ],
            [
             0.6,
             "#e6f5d0"
            ],
            [
             0.7,
             "#b8e186"
            ],
            [
             0.8,
             "#7fbc41"
            ],
            [
             0.9,
             "#4d9221"
            ],
            [
             1,
             "#276419"
            ]
           ],
           "sequential": [
            [
             0,
             "#0d0887"
            ],
            [
             0.1111111111111111,
             "#46039f"
            ],
            [
             0.2222222222222222,
             "#7201a8"
            ],
            [
             0.3333333333333333,
             "#9c179e"
            ],
            [
             0.4444444444444444,
             "#bd3786"
            ],
            [
             0.5555555555555556,
             "#d8576b"
            ],
            [
             0.6666666666666666,
             "#ed7953"
            ],
            [
             0.7777777777777778,
             "#fb9f3a"
            ],
            [
             0.8888888888888888,
             "#fdca26"
            ],
            [
             1,
             "#f0f921"
            ]
           ],
           "sequentialminus": [
            [
             0,
             "#0d0887"
            ],
            [
             0.1111111111111111,
             "#46039f"
            ],
            [
             0.2222222222222222,
             "#7201a8"
            ],
            [
             0.3333333333333333,
             "#9c179e"
            ],
            [
             0.4444444444444444,
             "#bd3786"
            ],
            [
             0.5555555555555556,
             "#d8576b"
            ],
            [
             0.6666666666666666,
             "#ed7953"
            ],
            [
             0.7777777777777778,
             "#fb9f3a"
            ],
            [
             0.8888888888888888,
             "#fdca26"
            ],
            [
             1,
             "#f0f921"
            ]
           ]
          },
          "colorway": [
           "#636efa",
           "#EF553B",
           "#00cc96",
           "#ab63fa",
           "#FFA15A",
           "#19d3f3",
           "#FF6692",
           "#B6E880",
           "#FF97FF",
           "#FECB52"
          ],
          "font": {
           "color": "#2a3f5f"
          },
          "geo": {
           "bgcolor": "white",
           "lakecolor": "white",
           "landcolor": "#E5ECF6",
           "showlakes": true,
           "showland": true,
           "subunitcolor": "white"
          },
          "hoverlabel": {
           "align": "left"
          },
          "hovermode": "closest",
          "mapbox": {
           "style": "light"
          },
          "paper_bgcolor": "white",
          "plot_bgcolor": "#E5ECF6",
          "polar": {
           "angularaxis": {
            "gridcolor": "white",
            "linecolor": "white",
            "ticks": ""
           },
           "bgcolor": "#E5ECF6",
           "radialaxis": {
            "gridcolor": "white",
            "linecolor": "white",
            "ticks": ""
           }
          },
          "scene": {
           "xaxis": {
            "backgroundcolor": "#E5ECF6",
            "gridcolor": "white",
            "gridwidth": 2,
            "linecolor": "white",
            "showbackground": true,
            "ticks": "",
            "zerolinecolor": "white"
           },
           "yaxis": {
            "backgroundcolor": "#E5ECF6",
            "gridcolor": "white",
            "gridwidth": 2,
            "linecolor": "white",
            "showbackground": true,
            "ticks": "",
            "zerolinecolor": "white"
           },
           "zaxis": {
            "backgroundcolor": "#E5ECF6",
            "gridcolor": "white",
            "gridwidth": 2,
            "linecolor": "white",
            "showbackground": true,
            "ticks": "",
            "zerolinecolor": "white"
           }
          },
          "shapedefaults": {
           "line": {
            "color": "#2a3f5f"
           }
          },
          "ternary": {
           "aaxis": {
            "gridcolor": "white",
            "linecolor": "white",
            "ticks": ""
           },
           "baxis": {
            "gridcolor": "white",
            "linecolor": "white",
            "ticks": ""
           },
           "bgcolor": "#E5ECF6",
           "caxis": {
            "gridcolor": "white",
            "linecolor": "white",
            "ticks": ""
           }
          },
          "title": {
           "x": 0.05
          },
          "xaxis": {
           "automargin": true,
           "gridcolor": "white",
           "linecolor": "white",
           "ticks": "",
           "title": {
            "standoff": 15
           },
           "zerolinecolor": "white",
           "zerolinewidth": 2
          },
          "yaxis": {
           "automargin": true,
           "gridcolor": "white",
           "linecolor": "white",
           "ticks": "",
           "title": {
            "standoff": 15
           },
           "zerolinecolor": "white",
           "zerolinewidth": 2
          }
         }
        }
       }
      },
      "image/png": "[encoded data removed]",
      "text/html": [
       "<div>                            <div id=\"58039d39-60a4-4753-b578-ed4e509c015b\" class=\"plotly-graph-div\" style=\"height:525px; width:100%;\"></div>            <script type=\"text/javascript\">                require([\"plotly\"], function(Plotly) {                    window.PLOTLYENV=window.PLOTLYENV || {};                                    if (document.getElementById(\"58039d39-60a4-4753-b578-ed4e509c015b\")) {                    Plotly.newPlot(                        \"58039d39-60a4-4753-b578-ed4e509c015b\",                        [{\"coloraxis\": \"coloraxis\", \"geo\": \"geo\", \"hovertemplate\": \"<b>%{hovertext}</b><br><br>Year=2018<br>Country Code=%{location}<br>Life Exp.=%{z}<extra></extra>\", \"hovertext\": [\"Aruba\", \"Afghanistan\", \"Angola\", \"Albania\", \"Andorra\", \"Arab World\", \"United Arab Emirates\", \"Argentina\", \"Armenia\", \"American Samoa\", \"Antigua and Barbuda\", \"Australia\", \"Austria\", \"Azerbaijan\", \"Burundi\", \"Belgium\", \"Benin\", \"Burkina Faso\", \"Bangladesh\", \"Bulgaria\", \"Bahrain\", \"Bahamas, The\", \"Bosnia and Herzegovina\", \"Belarus\", \"Belize\", \"Bermuda\", \"Bolivia\", \"Brazil\", \"Barbados\", \"Brunei Darussalam\", \"Bhutan\", \"Botswana\", \"Central African Republic\", \"Canada\", \"Central Europe and the Baltics\", \"Switzerland\", \"Channel Islands\", \"Chile\", \"China\", \"Cote d'Ivoire\", \"Cameroon\", \"Congo, Dem. Rep.\", \"Congo, Rep.\", \"Colombia\", \"Comoros\", \"Cabo Verde\", \"Costa Rica\", \"Caribbean small states\", \"Cuba\", \"Curacao\", \"Cayman Islands\", \"Cyprus\", \"Czech Republic\", \"Germany\", \"Djibouti\", \"Dominica\", \"Denmark\", \"Dominican Republic\", \"Algeria\", \"East Asia & Pacific (excluding high income)\", \"Early-demographic dividend\", \"East Asia & Pacific\", \"Europe & Central Asia (excluding high income)\", \"Europe & Central Asia\", \"Ecuador\", \"Egypt, Arab Rep.\", \"Euro area\", \"Eritrea\", \"Spain\", \"Estonia\", \"Ethiopia\", \"European Union\", \"Fragile and conflict affected situations\", \"Finland\", \"Fiji\", \"France\", \"Faroe Islands\", \"Micronesia, Fed. Sts.\", \"Gabon\", \"United Kingdom\", \"Georgia\", \"Ghana\", \"Gibraltar\", \"Guinea\", \"Gambia, The\", \"Guinea-Bissau\", \"Equatorial Guinea\", \"Greece\", \"Grenada\", \"Greenland\", \"Guatemala\", \"Guam\", \"Guyana\", \"High income\", \"Hong Kong SAR, China\", \"Honduras\", \"Heavily indebted poor countries (HIPC)\", \"Croatia\", \"Haiti\", \"Hungary\", \"IBRD only\", \"IDA & IBRD total\", \"IDA total\", \"IDA blend\", \"Indonesia\", \"IDA only\", \"Isle of Man\", \"India\", \"Not classified\", \"Ireland\", \"Iran, Islamic Rep.\", \"Iraq\", \"Iceland\", \"Israel\", \"Italy\", \"Jamaica\", \"Jordan\", \"Japan\", \"Kazakhstan\", \"Kenya\", \"Kyrgyz Republic\", \"Cambodia\", \"Kiribati\", \"St. Kitts and Nevis\", \"Korea, Rep.\", \"Kuwait\", \"Latin America & Caribbean (excluding high income)\", \"Lao PDR\", \"Lebanon\", \"Liberia\", \"Libya\", \"St. Lucia\", \"Latin America & Caribbean\", \"Least developed countries: UN classification\", \"Low income\", \"Liechtenstein\", \"Sri Lanka\", \"Lower middle income\", \"Low & middle income\", \"Lesotho\", \"Late-demographic dividend\", \"Lithuania\", \"Luxembourg\", \"Latvia\", \"Macao SAR, China\", \"St. Martin (French part)\", \"Morocco\", \"Monaco\", \"Moldova\", \"Madagascar\", \"Maldives\", \"Middle East & North Africa\", \"Mexico\", \"Marshall Islands\", \"Middle income\", \"North Macedonia\", \"Mali\", \"Malta\", \"Myanmar\", \"Middle East & North Africa (excluding high income)\", \"Montenegro\", \"Mongolia\", \"Northern Mariana Islands\", \"Mozambique\", \"Mauritania\", \"Mauritius\", \"Malawi\", \"Malaysia\", \"North America\", \"Namibia\", \"New Caledonia\", \"Niger\", \"Nigeria\", \"Nicaragua\", \"Netherlands\", \"Norway\", \"Nepal\", \"Nauru\", \"New Zealand\", \"OECD members\", \"Oman\", \"Other small states\", \"Pakistan\", \"Panama\", \"Peru\", \"Philippines\", \"Palau\", \"Papua New Guinea\", \"Poland\", \"Pre-demographic dividend\", \"Puerto Rico\", \"Korea, Dem. People\\u2019s Rep.\", \"Portugal\", \"Paraguay\", \"West Bank and Gaza\", \"Pacific island small states\", \"Post-demographic dividend\", \"French Polynesia\", \"Qatar\", \"Romania\", \"Russian Federation\", \"Rwanda\", \"South Asia\", \"Saudi Arabia\", \"Sudan\", \"Senegal\", \"Singapore\", \"Solomon Islands\", \"Sierra Leone\", \"El Salvador\", \"San Marino\", \"Somalia\", \"Serbia\", \"Sub-Saharan Africa (excluding high income)\", \"South Sudan\", \"Sub-Saharan Africa\", \"Small states\", \"Sao Tome and Principe\", \"Suriname\", \"Slovak Republic\", \"Slovenia\", \"Sweden\", \"Eswatini\", \"Sint Maarten (Dutch part)\", \"Seychelles\", \"Syrian Arab Republic\", \"Turks and Caicos Islands\", \"Chad\", \"East Asia & Pacific (IDA & IBRD countries)\", \"Europe & Central Asia (IDA & IBRD countries)\", \"Togo\", \"Thailand\", \"Tajikistan\", \"Turkmenistan\", \"Latin America & the Caribbean (IDA & IBRD countries)\", \"Timor-Leste\", \"Middle East & North Africa (IDA & IBRD countries)\", \"Tonga\", \"South Asia (IDA & IBRD)\", \"Sub-Saharan Africa (IDA & IBRD countries)\", \"Trinidad and Tobago\", \"Tunisia\", \"Turkey\", \"Tuvalu\", \"Tanzania\", \"Uganda\", \"Ukraine\", \"Upper middle income\", \"Uruguay\", \"United States\", \"Uzbekistan\", \"St. Vincent and the Grenadines\", \"Venezuela, RB\", \"British Virgin Islands\", \"Virgin Islands (U.S.)\", \"Vietnam\", \"Vanuatu\", \"World\", \"Samoa\", \"Kosovo\", \"Yemen, Rep.\", \"South Africa\", \"Zambia\", \"Zimbabwe\"], \"locationmode\": \"ISO-3\", \"locations\": [\"ABW\", \"AFG\", \"AGO\", \"ALB\", \"AND\", \"ARB\", \"ARE\", \"ARG\", \"ARM\", \"ASM\", \"ATG\", \"AUS\", \"AUT\", \"AZE\", \"BDI\", \"BEL\", \"BEN\", \"BFA\", \"BGD\", \"BGR\", \"BHR\", \"BHS\", \"BIH\", \"BLR\", \"BLZ\", \"BMU\", \"BOL\", \"BRA\", \"BRB\", \"BRN\", \"BTN\", \"BWA\", \"CAF\", \"CAN\", \"CEB\", \"CHE\", \"CHI\", \"CHL\", \"CHN\", \"CIV\", \"CMR\", \"COD\", \"COG\", \"COL\", \"COM\", \"CPV\", \"CRI\", \"CSS\", \"CUB\", \"CUW\", \"CYM\", \"CYP\", \"CZE\", \"DEU\", \"DJI\", \"DMA\", \"DNK\", \"DOM\", \"DZA\", \"EAP\", \"EAR\", \"EAS\", \"ECA\", \"ECS\", \"ECU\", \"EGY\", \"EMU\", \"ERI\", \"ESP\", \"EST\", \"ETH\", \"EUU\", \"FCS\", \"FIN\", \"FJI\", \"FRA\", \"FRO\", \"FSM\", \"GAB\", \"GBR\", \"GEO\", \"GHA\", \"GIB\", \"GIN\", \"GMB\", \"GNB\", \"GNQ\", \"GRC\", \"GRD\", \"GRL\", \"GTM\", \"GUM\", \"GUY\", \"HIC\", \"HKG\", \"HND\", \"HPC\", \"HRV\", \"HTI\", \"HUN\", \"IBD\", \"IBT\", \"IDA\", \"IDB\", \"IDN\", \"IDX\", \"IMN\", \"IND\", \"INX\", \"IRL\", \"IRN\", \"IRQ\", \"ISL\", \"ISR\", \"ITA\", \"JAM\", \"JOR\", \"JPN\", \"KAZ\", \"KEN\", \"KGZ\", \"KHM\", \"KIR\", \"KNA\", \"KOR\", \"KWT\", \"LAC\", \"LAO\", \"LBN\", \"LBR\", \"LBY\", \"LCA\", \"LCN\", \"LDC\", \"LIC\", \"LIE\", \"LKA\", \"LMC\", \"LMY\", \"LSO\", \"LTE\", \"LTU\", \"LUX\", \"LVA\", \"MAC\", \"MAF\", \"MAR\", \"MCO\", \"MDA\", \"MDG\", \"MDV\", \"MEA\", \"MEX\", \"MHL\", \"MIC\", \"MKD\", \"MLI\", \"MLT\", \"MMR\", \"MNA\", \"MNE\", \"MNG\", \"MNP\", \"MOZ\", \"MRT\", \"MUS\", \"MWI\", \"MYS\", \"NAC\", \"NAM\", \"NCL\", \"NER\", \"NGA\", \"NIC\", \"NLD\", \"NOR\", \"NPL\", \"NRU\", \"NZL\", \"OED\", \"OMN\", \"OSS\", \"PAK\", \"PAN\", \"PER\", \"PHL\", \"PLW\", \"PNG\", \"POL\", \"PRE\", \"PRI\", \"PRK\", \"PRT\", \"PRY\", \"PSE\", \"PSS\", \"PST\", \"PYF\", \"QAT\", \"ROU\", \"RUS\", \"RWA\", \"SAS\", \"SAU\", \"SDN\", \"SEN\", \"SGP\", \"SLB\", \"SLE\", \"SLV\", \"SMR\", \"SOM\", \"SRB\", \"SSA\", \"SSD\", \"SSF\", \"SST\", \"STP\", \"SUR\", \"SVK\", \"SVN\", \"SWE\", \"SWZ\", \"SXM\", \"SYC\", \"SYR\", \"TCA\", \"TCD\", \"TEA\", \"TEC\", \"TGO\", \"THA\", \"TJK\", \"TKM\", \"TLA\", \"TLS\", \"TMN\", \"TON\", \"TSA\", \"TSS\", \"TTO\", \"TUN\", \"TUR\", \"TUV\", \"TZA\", \"UGA\", \"UKR\", \"UMC\", \"URY\", \"USA\", \"UZB\", \"VCT\", \"VEN\", \"VGB\", \"VIR\", \"VNM\", \"VUT\", \"WLD\", \"WSM\", \"XKX\", \"YEM\", \"ZAF\", \"ZMB\", \"ZWE\"], \"name\": \"\", \"type\": \"choropleth\", \"z\": [76.152, 64.486, 60.782, 78.458, null, 71.8068251623605, 77.814, 76.52, 74.945, null, 76.885, 82.7487804878049, 81.6926829268293, 72.864, 61.247, 81.5951219512195, 61.47, 61.174, 72.32, 74.9634146341464, 77.163, 73.752, 77.262, 74.1756097560976, 74.496, 81.6517073170732, 71.239, 75.672, 79.081, 75.722, 71.46, 69.275, 52.805, 81.9487804878049, 76.97684517184, 83.7536585365854, 82.928, 80.042, 76.704, 57.422, 58.921, 60.368, 64.29, 77.109, 64.118, 72.782, 80.095, 73.6371089078694, 78.726, null, null, 80.828, 79.0292682926829, 80.8926829268293, 66.582, null, 80.9536585365854, 73.892, 76.693, 75.2105121056207, 70.4831906811833, 76.0683364250094, 73.590781529875, 77.9086066864279, 76.8, 71.825, 82.0596172798915, 65.941, 83.4317073170732, 78.2439024390244, 66.24, 81.0344092172663, 61.4999995849382, 81.7341463414634, 67.341, 82.7243902439024, 82.5487804878049, 67.755, 66.187, 81.2560975609756, 73.6, 63.78, null, 61.185, 61.735, 58.003, 58.402, 81.7878048780488, 72.384, null, 74.063, 79.859, 69.774, 80.6561046818993, 84.9341463414634, 75.088, 63.1350064011699, 78.0707317073171, 63.66, 76.0658536585366, 73.4048767291993, 71.0717380418743, 64.2478004723441, 62.1617501399529, 71.509, 65.3040915219653, null, 69.416, null, 82.2560975609756, 76.479, 70.454, 82.8609756097561, 82.8024390243903, 83.3463414634146, 74.368, 74.405, 84.2109756097561, 73.15, 66.342, 71.4, 69.57, 68.116, null, 82.6268292682927, 75.398, 75.246114048204, 67.61, 78.875, 63.73, 72.724, 76.057, 75.4409477532745, 65.0396241212957, 63.4963387504082, 83.0414634146342, 76.812, 68.4224690868156, 70.9988194769754, 53.705, 76.2244436790799, 75.6804878048781, 82.2951219512195, 74.7829268292683, 84.118, 79.8707317073171, 76.453, null, 71.808, 66.681, 78.627, 74.0889092566827, 74.992, null, 71.8546257820263, 75.688, 58.893, 82.4487804878049, 66.867, 73.5873582148883, 76.77, 69.689, null, 60.163, 64.704, 74.4163414634146, 63.798, 75.997, 78.8868905457275, 63.373, 77.1487804878049, 62.024, 54.332, 74.275, 81.8121951219512, 82.7585365853659, 70.478, null, 81.8585365853659, 80.0775295859723, 77.633, 68.5469317038401, 67.114, 78.329, 76.516, 71.095, null, 64.263, 77.6024390243903, 60.8209562953764, 79.7781951219512, 72.095, 81.3243902439024, 74.131, 73.895, 69.929057966298, 80.6598920018751, 77.462, 80.1, 75.3585365853659, 72.6573170731707, 68.7, 69.4122476461494, 74.998, 65.095, 67.665, 83.1463414634146, 72.835, 54.309, 73.096, null, 57.068, 75.890243902439, 61.2565331327445, 57.604, 61.2730146485793, 69.5411324592597, 70.17, 71.57, 77.2658536585366, 81.3780487804878, 82.5585365853659, 59.401, null, 72.8414634146341, 71.779, null, 53.977, 75.2492291135899, 74.0376029005072, 60.76, 76.931, 70.879, 68.073, 75.3574154976003, 69.26, 73.5836428053412, 70.801, 69.4122476461494, 61.2730146485793, 73.38, 76.505, 77.437, null, 65.015, 62.973, 71.5826829268293, 75.3289849763003, 77.77, 78.5390243902439, 71.573, 72.415, 72.128, null, 79.5682926829268, 75.317, 70.323, 72.5632818899911, 73.187, 72.1951219512195, 66.096, 63.857, 63.51, 61.195]}, {\"coloraxis\": \"coloraxis\", \"geo\": \"geo2\", \"hovertemplate\": \"<b>%{hovertext}</b><br><br>Year=2019<br>Country Code=%{location}<br>Life Exp.=%{z}<extra></extra>\", \"hovertext\": [\"Aruba\", \"Afghanistan\", \"Angola\", \"Albania\", \"Andorra\", \"Arab World\", \"United Arab Emirates\", \"Argentina\", \"Armenia\", \"American Samoa\", \"Antigua and Barbuda\", \"Australia\", \"Austria\", \"Azerbaijan\", \"Burundi\", \"Belgium\", \"Benin\", \"Burkina Faso\", \"Bangladesh\", \"Bulgaria\", \"Bahrain\", \"Bahamas, The\", \"Bosnia and Herzegovina\", \"Belarus\", \"Belize\", \"Bermuda\", \"Bolivia\", \"Brazil\", \"Barbados\", \"Brunei Darussalam\", \"Bhutan\", \"Botswana\", \"Central African Republic\", \"Canada\", \"Central Europe and the Baltics\", \"Switzerland\", \"Channel Islands\", \"Chile\", \"China\", \"Cote d'Ivoire\", \"Cameroon\", \"Congo, Dem. Rep.\", \"Congo, Rep.\", \"Colombia\", \"Comoros\", \"Cabo Verde\", \"Costa Rica\", \"Caribbean small states\", \"Cuba\", \"Curacao\", \"Cayman Islands\", \"Cyprus\", \"Czech Republic\", \"Germany\", \"Djibouti\", \"Dominica\", \"Denmark\", \"Dominican Republic\", \"Algeria\", \"East Asia & Pacific (excluding high income)\", \"Early-demographic dividend\", \"East Asia & Pacific\", \"Europe & Central Asia (excluding high income)\", \"Europe & Central Asia\", \"Ecuador\", \"Egypt, Arab Rep.\", \"Euro area\", \"Eritrea\", \"Spain\", \"Estonia\", \"Ethiopia\", \"European Union\", \"Fragile and conflict affected situations\", \"Finland\", \"Fiji\", \"France\", \"Faroe Islands\", \"Micronesia, Fed. Sts.\", \"Gabon\", \"United Kingdom\", \"Georgia\", \"Ghana\", \"Gibraltar\", \"Guinea\", \"Gambia, The\", \"Guinea-Bissau\", \"Equatorial Guinea\", \"Greece\", \"Grenada\", \"Greenland\", \"Guatemala\", \"Guam\", \"Guyana\", \"High income\", \"Hong Kong SAR, China\", \"Honduras\", \"Heavily indebted poor countries (HIPC)\", \"Croatia\", \"Haiti\", \"Hungary\", \"IBRD only\", \"IDA & IBRD total\", \"IDA total\", \"IDA blend\", \"Indonesia\", \"IDA only\", \"Isle of Man\", \"India\", \"Not classified\", \"Ireland\", \"Iran, Islamic Rep.\", \"Iraq\", \"Iceland\", \"Israel\", \"Italy\", \"Jamaica\", \"Jordan\", \"Japan\", \"Kazakhstan\", \"Kenya\", \"Kyrgyz Republic\", \"Cambodia\", \"Kiribati\", \"St. Kitts and Nevis\", \"Korea, Rep.\", \"Kuwait\", \"Latin America & Caribbean (excluding high income)\", \"Lao PDR\", \"Lebanon\", \"Liberia\", \"Libya\", \"St. Lucia\", \"Latin America & Caribbean\", \"Least developed countries: UN classification\", \"Low income\", \"Liechtenstein\", \"Sri Lanka\", \"Lower middle income\", \"Low & middle income\", \"Lesotho\", \"Late-demographic dividend\", \"Lithuania\", \"Luxembourg\", \"Latvia\", \"Macao SAR, China\", \"St. Martin (French part)\", \"Morocco\", \"Monaco\", \"Moldova\", \"Madagascar\", \"Maldives\", \"Middle East & North Africa\", \"Mexico\", \"Marshall Islands\", \"Middle income\", \"North Macedonia\", \"Mali\", \"Malta\", \"Myanmar\", \"Middle East & North Africa (excluding high income)\", \"Montenegro\", \"Mongolia\", \"Northern Mariana Islands\", \"Mozambique\", \"Mauritania\", \"Mauritius\", \"Malawi\", \"Malaysia\", \"North America\", \"Namibia\", \"New Caledonia\", \"Niger\", \"Nigeria\", \"Nicaragua\", \"Netherlands\", \"Norway\", \"Nepal\", \"Nauru\", \"New Zealand\", \"OECD members\", \"Oman\", \"Other small states\", \"Pakistan\", \"Panama\", \"Peru\", \"Philippines\", \"Palau\", \"Papua New Guinea\", \"Poland\", \"Pre-demographic dividend\", \"Puerto Rico\", \"Korea, Dem. People\\u2019s Rep.\", \"Portugal\", \"Paraguay\", \"West Bank and Gaza\", \"Pacific island small states\", \"Post-demographic dividend\", \"French Polynesia\", \"Qatar\", \"Romania\", \"Russian Federation\", \"Rwanda\", \"South Asia\", \"Saudi Arabia\", \"Sudan\", \"Senegal\", \"Singapore\", \"Solomon Islands\", \"Sierra Leone\", \"El Salvador\", \"San Marino\", \"Somalia\", \"Serbia\", \"Sub-Saharan Africa (excluding high income)\", \"South Sudan\", \"Sub-Saharan Africa\", \"Small states\", \"Sao Tome and Principe\", \"Suriname\", \"Slovak Republic\", \"Slovenia\", \"Sweden\", \"Eswatini\", \"Sint Maarten (Dutch part)\", \"Seychelles\", \"Syrian Arab Republic\", \"Turks and Caicos Islands\", \"Chad\", \"East Asia & Pacific (IDA & IBRD countries)\", \"Europe & Central Asia (IDA & IBRD countries)\", \"Togo\", \"Thailand\", \"Tajikistan\", \"Turkmenistan\", \"Latin America & the Caribbean (IDA & IBRD countries)\", \"Timor-Leste\", \"Middle East & North Africa (IDA & IBRD countries)\", \"Tonga\", \"South Asia (IDA & IBRD)\", \"Sub-Saharan Africa (IDA & IBRD countries)\", \"Trinidad and Tobago\", \"Tunisia\", \"Turkey\", \"Tuvalu\", \"Tanzania\", \"Uganda\", \"Ukraine\", \"Upper middle income\", \"Uruguay\", \"United States\", \"Uzbekistan\", \"St. Vincent and the Grenadines\", \"Venezuela, RB\", \"British Virgin Islands\", \"Virgin Islands (U.S.)\", \"Vietnam\", \"Vanuatu\", \"World\", \"Samoa\", \"Kosovo\", \"Yemen, Rep.\", \"South Africa\", \"Zambia\", \"Zimbabwe\"], \"locationmode\": \"ISO-3\", \"locations\": [\"ABW\", \"AFG\", \"AGO\", \"ALB\", \"AND\", \"ARB\", \"ARE\", \"ARG\", \"ARM\", \"ASM\", \"ATG\", \"AUS\", \"AUT\", \"AZE\", \"BDI\", \"BEL\", \"BEN\", \"BFA\", \"BGD\", \"BGR\", \"BHR\", \"BHS\", \"BIH\", \"BLR\", \"BLZ\", \"BMU\", \"BOL\", \"BRA\", \"BRB\", \"BRN\", \"BTN\", \"BWA\", \"CAF\", \"CAN\", \"CEB\", \"CHE\", \"CHI\", \"CHL\", \"CHN\", \"CIV\", \"CMR\", \"COD\", \"COG\", \"COL\", \"COM\", \"CPV\", \"CRI\", \"CSS\", \"CUB\", \"CUW\", \"CYM\", \"CYP\", \"CZE\", \"DEU\", \"DJI\", \"DMA\", \"DNK\", \"DOM\", \"DZA\", \"EAP\", \"EAR\", \"EAS\", \"ECA\", \"ECS\", \"ECU\", \"EGY\", \"EMU\", \"ERI\", \"ESP\", \"EST\", \"ETH\", \"EUU\", \"FCS\", \"FIN\", \"FJI\", \"FRA\", \"FRO\", \"FSM\", \"GAB\", \"GBR\", \"GEO\", \"GHA\", \"GIB\", \"GIN\", \"GMB\", \"GNB\", \"GNQ\", \"GRC\", \"GRD\", \"GRL\", \"GTM\", \"GUM\", \"GUY\", \"HIC\", \"HKG\", \"HND\", \"HPC\", \"HRV\", \"HTI\", \"HUN\", \"IBD\", \"IBT\", \"IDA\", \"IDB\", \"IDN\", \"IDX\", \"IMN\", \"IND\", \"INX\", \"IRL\", \"IRN\", \"IRQ\", \"ISL\", \"ISR\", \"ITA\", \"JAM\", \"JOR\", \"JPN\", \"KAZ\", \"KEN\", \"KGZ\", \"KHM\", \"KIR\", \"KNA\", \"KOR\", \"KWT\", \"LAC\", \"LAO\", \"LBN\", \"LBR\", \"LBY\", \"LCA\", \"LCN\", \"LDC\", \"LIC\", \"LIE\", \"LKA\", \"LMC\", \"LMY\", \"LSO\", \"LTE\", \"LTU\", \"LUX\", \"LVA\", \"MAC\", \"MAF\", \"MAR\", \"MCO\", \"MDA\", \"MDG\", \"MDV\", \"MEA\", \"MEX\", \"MHL\", \"MIC\", \"MKD\", \"MLI\", \"MLT\", \"MMR\", \"MNA\", \"MNE\", \"MNG\", \"MNP\", \"MOZ\", \"MRT\", \"MUS\", \"MWI\", \"MYS\", \"NAC\", \"NAM\", \"NCL\", \"NER\", \"NGA\", \"NIC\", \"NLD\", \"NOR\", \"NPL\", \"NRU\", \"NZL\", \"OED\", \"OMN\", \"OSS\", \"PAK\", \"PAN\", \"PER\", \"PHL\", \"PLW\", \"PNG\", \"POL\", \"PRE\", \"PRI\", \"PRK\", \"PRT\", \"PRY\", \"PSE\", \"PSS\", \"PST\", \"PYF\", \"QAT\", \"ROU\", \"RUS\", \"RWA\", \"SAS\", \"SAU\", \"SDN\", \"SEN\", \"SGP\", \"SLB\", \"SLE\", \"SLV\", \"SMR\", \"SOM\", \"SRB\", \"SSA\", \"SSD\", \"SSF\", \"SST\", \"STP\", \"SUR\", \"SVK\", \"SVN\", \"SWE\", \"SWZ\", \"SXM\", \"SYC\", \"SYR\", \"TCA\", \"TCD\", \"TEA\", \"TEC\", \"TGO\", \"THA\", \"TJK\", \"TKM\", \"TLA\", \"TLS\", \"TMN\", \"TON\", \"TSA\", \"TSS\", \"TTO\", \"TUN\", \"TUR\", \"TUV\", \"TZA\", \"UGA\", \"UKR\", \"UMC\", \"URY\", \"USA\", \"UZB\", \"VCT\", \"VEN\", \"VGB\", \"VIR\", \"VNM\", \"VUT\", \"WLD\", \"WSM\", \"XKX\", \"YEM\", \"ZAF\", \"ZMB\", \"ZWE\"], \"name\": \"\", \"type\": \"choropleth\", \"z\": [76.152, 64.486, 60.782, 78.458, null, 71.8068251623605, 77.814, 76.52, 74.945, null, 76.885, 82.7487804878049, 81.6926829268293, 72.864, 61.247, 81.5951219512195, 61.47, 61.174, 72.32, 74.9634146341464, 77.163, 73.752, 77.262, 74.1756097560976, 74.496, 81.6517073170732, 71.239, 75.672, 79.081, 75.722, 71.46, 69.275, 52.805, 81.9487804878049, 76.97684517184, 83.7536585365854, 82.928, 80.042, 76.704, 57.422, 58.921, 60.368, 64.29, 77.109, 64.118, 72.782, 80.095, 73.6371089078694, 78.726, null, null, 80.828, 79.0292682926829, 80.8926829268293, 66.582, null, 80.9536585365854, 73.892, 76.693, 75.2105121056207, 70.4831906811833, 76.0683364250094, 73.590781529875, 77.9086066864279, 76.8, 71.825, 82.0596172798915, 65.941, 83.4317073170732, 78.2439024390244, 66.24, 81.0344092172663, 61.4999995849382, 81.7341463414634, 67.341, 82.7243902439024, 82.5487804878049, 67.755, 66.187, 81.2560975609756, 73.6, 63.78, null, 61.185, 61.735, 58.003, 58.402, 81.7878048780488, 72.384, null, 74.063, 79.859, 69.774, 80.6561046818993, 84.9341463414634, 75.088, 63.1350064011699, 78.0707317073171, 63.66, 76.0658536585366, 73.4048767291993, 71.0717380418743, 64.2478004723441, 62.1617501399529, 71.509, 65.3040915219653, null, 69.416, null, 82.2560975609756, 76.479, 70.454, 82.8609756097561, 82.8024390243903, 83.3463414634146, 74.368, 74.405, 84.2109756097561, 73.15, 66.342, 71.4, 69.57, 68.116, null, 82.6268292682927, 75.398, 75.246114048204, 67.61, 78.875, 63.73, 72.724, 76.057, 75.4409477532745, 65.0396241212957, 63.4963387504082, 83.0414634146342, 76.812, 68.4224690868156, 70.9988194769754, 53.705, 76.2244436790799, 75.6804878048781, 82.2951219512195, 74.7829268292683, 84.118, 79.8707317073171, 76.453, null, 71.808, 66.681, 78.627, 74.0889092566827, 74.992, null, 71.8546257820263, 75.688, 58.893, 82.4487804878049, 66.867, 73.5873582148883, 76.77, 69.689, null, 60.163, 64.704, 74.4163414634146, 63.798, 75.997, 78.8868905457275, 63.373, 77.1487804878049, 62.024, 54.332, 74.275, 81.8121951219512, 82.7585365853659, 70.478, null, 81.8585365853659, 80.0775295859723, 77.633, 68.5469317038401, 67.114, 78.329, 76.516, 71.095, null, 64.263, 77.6024390243903, 60.8209562953764, 79.7781951219512, 72.095, 81.3243902439024, 74.131, 73.895, 69.929057966298, 80.6598920018751, 77.462, 80.1, 75.3585365853659, 72.6573170731707, 68.7, 69.4122476461494, 74.998, 65.095, 67.665, 83.1463414634146, 72.835, 54.309, 73.096, null, 57.068, 75.890243902439, 61.2565331327445, 57.604, 61.2730146485793, 69.5411324592597, 70.17, 71.57, 77.2658536585366, 81.3780487804878, 82.5585365853659, 59.401, null, 72.8414634146341, 71.779, null, 53.977, 75.2492291135899, 74.0376029005072, 60.76, 76.931, 70.879, 68.073, 75.3574154976003, 69.26, 73.5836428053412, 70.801, 69.4122476461494, 61.2730146485793, 73.38, 76.505, 77.437, null, 65.015, 62.973, 71.5826829268293, 75.3289849763003, 77.77, 78.5390243902439, 71.573, 72.415, 72.128, null, 79.5682926829268, 75.317, 70.323, 72.5632818899911, 73.187, 72.1951219512195, 66.096, 63.857, 63.51, 61.195]}],                        {\"annotations\": [{\"font\": {}, \"showarrow\": false, \"text\": \"Year=2018\", \"x\": 0.245, \"xanchor\": \"center\", \"xref\": \"paper\", \"y\": 1.0, \"yanchor\": \"bottom\", \"yref\": \"paper\"}, {\"font\": {}, \"showarrow\": false, \"text\": \"Year=2019\", \"x\": 0.755, \"xanchor\": \"center\", \"xref\": \"paper\", \"y\": 1.0, \"yanchor\": \"bottom\", \"yref\": \"paper\"}], \"coloraxis\": {\"colorbar\": {\"title\": {\"text\": \"Life Exp.\"}}, \"colorscale\": [[0.0, \"rgb(0,0,131)\"], [0.2, \"rgb(0,60,170)\"], [0.4, \"rgb(5,255,255)\"], [0.6, \"rgb(255,255,0)\"], [0.8, \"rgb(250,0,0)\"], [1.0, \"rgb(128,0,0)\"]]}, \"geo\": {\"center\": {}, \"domain\": {\"x\": [0.0, 0.49], \"y\": [0.0, 1.0]}, \"scope\": \"world\"}, \"geo2\": {\"center\": {}, \"domain\": {\"x\": [0.51, 1.0], \"y\": [0.0, 1.0]}, \"scope\": \"world\"}, \"legend\": {\"tracegroupgap\": 0}, \"margin\": {\"t\": 60}, \"template\": {\"data\": {\"bar\": [{\"error_x\": {\"color\": \"#2a3f5f\"}, \"error_y\": {\"color\": \"#2a3f5f\"}, \"marker\": {\"line\": {\"color\": \"#E5ECF6\", \"width\": 0.5}}, \"type\": \"bar\"}], \"barpolar\": [{\"marker\": {\"line\": {\"color\": \"#E5ECF6\", \"width\": 0.5}}, \"type\": \"barpolar\"}], \"carpet\": [{\"aaxis\": {\"endlinecolor\": \"#2a3f5f\", \"gridcolor\": \"white\", \"linecolor\": \"white\", \"minorgridcolor\": \"white\", \"startlinecolor\": \"#2a3f5f\"}, \"baxis\": {\"endlinecolor\": \"#2a3f5f\", \"gridcolor\": \"white\", \"linecolor\": \"white\", \"minorgridcolor\": \"white\", \"startlinecolor\": \"#2a3f5f\"}, \"type\": \"carpet\"}], \"choropleth\": [{\"colorbar\": {\"outlinewidth\": 0, \"ticks\": \"\"}, \"type\": \"choropleth\"}], \"contour\": [{\"colorbar\": {\"outlinewidth\": 0, \"ticks\": \"\"}, \"colorscale\": [[0.0, \"#0d0887\"], [0.1111111111111111, \"#46039f\"], [0.2222222222222222, \"#7201a8\"], [0.3333333333333333, \"#9c179e\"], [0.4444444444444444, \"#bd3786\"], [0.5555555555555556, \"#d8576b\"], [0.6666666666666666, \"#ed7953\"], [0.7777777777777778, \"#fb9f3a\"], [0.8888888888888888, \"#fdca26\"], [1.0, \"#f0f921\"]], \"type\": \"contour\"}], \"contourcarpet\": [{\"colorbar\": {\"outlinewidth\": 0, \"ticks\": \"\"}, \"type\": \"contourcarpet\"}], \"heatmap\": [{\"colorbar\": {\"outlinewidth\": 0, \"ticks\": \"\"}, \"colorscale\": [[0.0, \"#0d0887\"], [0.1111111111111111, \"#46039f\"], [0.2222222222222222, \"#7201a8\"], [0.3333333333333333, \"#9c179e\"], [0.4444444444444444, \"#bd3786\"], [0.5555555555555556, \"#d8576b\"], [0.6666666666666666, \"#ed7953\"], [0.7777777777777778, \"#fb9f3a\"], [0.8888888888888888, \"#fdca26\"], [1.0, \"#f0f921\"]], \"type\": \"heatmap\"}], \"heatmapgl\": [{\"colorbar\": {\"outlinewidth\": 0, \"ticks\": \"\"}, \"colorscale\": [[0.0, \"#0d0887\"], [0.1111111111111111, \"#46039f\"], [0.2222222222222222, \"#7201a8\"], [0.3333333333333333, \"#9c179e\"], [0.4444444444444444, \"#bd3786\"], [0.5555555555555556, \"#d8576b\"], [0.6666666666666666, \"#ed7953\"], [0.7777777777777778, \"#fb9f3a\"], [0.8888888888888888, \"#fdca26\"], [1.0, \"#f0f921\"]], \"type\": \"heatmapgl\"}], \"histogram\": [{\"marker\": {\"colorbar\": {\"outlinewidth\": 0, \"ticks\": \"\"}}, \"type\": \"histogram\"}], \"histogram2d\": [{\"colorbar\": {\"outlinewidth\": 0, \"ticks\": \"\"}, \"colorscale\": [[0.0, \"#0d0887\"], [0.1111111111111111, \"#46039f\"], [0.2222222222222222, \"#7201a8\"], [0.3333333333333333, \"#9c179e\"], [0.4444444444444444, \"#bd3786\"], [0.5555555555555556, \"#d8576b\"], [0.6666666666666666, \"#ed7953\"], [0.7777777777777778, \"#fb9f3a\"], [0.8888888888888888, \"#fdca26\"], [1.0, \"#f0f921\"]], \"type\": \"histogram2d\"}], \"histogram2dcontour\": [{\"colorbar\": {\"outlinewidth\": 0, \"ticks\": \"\"}, \"colorscale\": [[0.0, \"#0d0887\"], [0.1111111111111111, \"#46039f\"], [0.2222222222222222, \"#7201a8\"], [0.3333333333333333, \"#9c179e\"], [0.4444444444444444, \"#bd3786\"], [0.5555555555555556, \"#d8576b\"], [0.6666666666666666, \"#ed7953\"], [0.7777777777777778, \"#fb9f3a\"], [0.8888888888888888, \"#fdca26\"], [1.0, \"#f0f921\"]], \"type\": \"histogram2dcontour\"}], \"mesh3d\": [{\"colorbar\": {\"outlinewidth\": 0, \"ticks\": \"\"}, \"type\": \"mesh3d\"}], \"parcoords\": [{\"line\": {\"colorbar\": {\"outlinewidth\": 0, \"ticks\": \"\"}}, \"type\": \"parcoords\"}], \"pie\": [{\"automargin\": true, \"type\": \"pie\"}], \"scatter\": [{\"marker\": {\"colorbar\": {\"outlinewidth\": 0, \"ticks\": \"\"}}, \"type\": \"scatter\"}], \"scatter3d\": [{\"line\": {\"colorbar\": {\"outlinewidth\": 0, \"ticks\": \"\"}}, \"marker\": {\"colorbar\": {\"outlinewidth\": 0, \"ticks\": \"\"}}, \"type\": \"scatter3d\"}], \"scattercarpet\": [{\"marker\": {\"colorbar\": {\"outlinewidth\": 0, \"ticks\": \"\"}}, \"type\": \"scattercarpet\"}], \"scattergeo\": [{\"marker\": {\"colorbar\": {\"outlinewidth\": 0, \"ticks\": \"\"}}, \"type\": \"scattergeo\"}], \"scattergl\": [{\"marker\": {\"colorbar\": {\"outlinewidth\": 0, \"ticks\": \"\"}}, \"type\": \"scattergl\"}], \"scattermapbox\": [{\"marker\": {\"colorbar\": {\"outlinewidth\": 0, \"ticks\": \"\"}}, \"type\": \"scattermapbox\"}], \"scatterpolar\": [{\"marker\": {\"colorbar\": {\"outlinewidth\": 0, \"ticks\": \"\"}}, \"type\": \"scatterpolar\"}], \"scatterpolargl\": [{\"marker\": {\"colorbar\": {\"outlinewidth\": 0, \"ticks\": \"\"}}, \"type\": \"scatterpolargl\"}], \"scatterternary\": [{\"marker\": {\"colorbar\": {\"outlinewidth\": 0, \"ticks\": \"\"}}, \"type\": \"scatterternary\"}], \"surface\": [{\"colorbar\": {\"outlinewidth\": 0, \"ticks\": \"\"}, \"colorscale\": [[0.0, \"#0d0887\"], [0.1111111111111111, \"#46039f\"], [0.2222222222222222, \"#7201a8\"], [0.3333333333333333, \"#9c179e\"], [0.4444444444444444, \"#bd3786\"], [0.5555555555555556, \"#d8576b\"], [0.6666666666666666, \"#ed7953\"], [0.7777777777777778, \"#fb9f3a\"], [0.8888888888888888, \"#fdca26\"], [1.0, \"#f0f921\"]], \"type\": \"surface\"}], \"table\": [{\"cells\": {\"fill\": {\"color\": \"#EBF0F8\"}, \"line\": {\"color\": \"white\"}}, \"header\": {\"fill\": {\"color\": \"#C8D4E3\"}, \"line\": {\"color\": \"white\"}}, \"type\": \"table\"}]}, \"layout\": {\"annotationdefaults\": {\"arrowcolor\": \"#2a3f5f\", \"arrowhead\": 0, \"arrowwidth\": 1}, \"autotypenumbers\": \"strict\", \"coloraxis\": {\"colorbar\": {\"outlinewidth\": 0, \"ticks\": \"\"}}, \"colorscale\": {\"diverging\": [[0, \"#8e0152\"], [0.1, \"#c51b7d\"], [0.2, \"#de77ae\"], [0.3, \"#f1b6da\"], [0.4, \"#fde0ef\"], [0.5, \"#f7f7f7\"], [0.6, \"#e6f5d0\"], [0.7, \"#b8e186\"], [0.8, \"#7fbc41\"], [0.9, \"#4d9221\"], [1, \"#276419\"]], \"sequential\": [[0.0, \"#0d0887\"], [0.1111111111111111, \"#46039f\"], [0.2222222222222222, \"#7201a8\"], [0.3333333333333333, \"#9c179e\"], [0.4444444444444444, \"#bd3786\"], [0.5555555555555556, \"#d8576b\"], [0.6666666666666666, \"#ed7953\"], [0.7777777777777778, \"#fb9f3a\"], [0.8888888888888888, \"#fdca26\"], [1.0, \"#f0f921\"]], \"sequentialminus\": [[0.0, \"#0d0887\"], [0.1111111111111111, \"#46039f\"], [0.2222222222222222, \"#7201a8\"], [0.3333333333333333, \"#9c179e\"], [0.4444444444444444, \"#bd3786\"], [0.5555555555555556, \"#d8576b\"], [0.6666666666666666, \"#ed7953\"], [0.7777777777777778, \"#fb9f3a\"], [0.8888888888888888, \"#fdca26\"], [1.0, \"#f0f921\"]]}, \"colorway\": [\"#636efa\", \"#EF553B\", \"#00cc96\", \"#ab63fa\", \"#FFA15A\", \"#19d3f3\", \"#FF6692\", \"#B6E880\", \"#FF97FF\", \"#FECB52\"], \"font\": {\"color\": \"#2a3f5f\"}, \"geo\": {\"bgcolor\": \"white\", \"lakecolor\": \"white\", \"landcolor\": \"#E5ECF6\", \"showlakes\": true, \"showland\": true, \"subunitcolor\": \"white\"}, \"hoverlabel\": {\"align\": \"left\"}, \"hovermode\": \"closest\", \"mapbox\": {\"style\": \"light\"}, \"paper_bgcolor\": \"white\", \"plot_bgcolor\": \"#E5ECF6\", \"polar\": {\"angularaxis\": {\"gridcolor\": \"white\", \"linecolor\": \"white\", \"ticks\": \"\"}, \"bgcolor\": \"#E5ECF6\", \"radialaxis\": {\"gridcolor\": \"white\", \"linecolor\": \"white\", \"ticks\": \"\"}}, \"scene\": {\"xaxis\": {\"backgroundcolor\": \"#E5ECF6\", \"gridcolor\": \"white\", \"gridwidth\": 2, \"linecolor\": \"white\", \"showbackground\": true, \"ticks\": \"\", \"zerolinecolor\": \"white\"}, \"yaxis\": {\"backgroundcolor\": \"#E5ECF6\", \"gridcolor\": \"white\", \"gridwidth\": 2, \"linecolor\": \"white\", \"showbackground\": true, \"ticks\": \"\", \"zerolinecolor\": \"white\"}, \"zaxis\": {\"backgroundcolor\": \"#E5ECF6\", \"gridcolor\": \"white\", \"gridwidth\": 2, \"linecolor\": \"white\", \"showbackground\": true, \"ticks\": \"\", \"zerolinecolor\": \"white\"}}, \"shapedefaults\": {\"line\": {\"color\": \"#2a3f5f\"}}, \"ternary\": {\"aaxis\": {\"gridcolor\": \"white\", \"linecolor\": \"white\", \"ticks\": \"\"}, \"baxis\": {\"gridcolor\": \"white\", \"linecolor\": \"white\", \"ticks\": \"\"}, \"bgcolor\": \"#E5ECF6\", \"caxis\": {\"gridcolor\": \"white\", \"linecolor\": \"white\", \"ticks\": \"\"}}, \"title\": {\"x\": 0.05}, \"xaxis\": {\"automargin\": true, \"gridcolor\": \"white\", \"linecolor\": \"white\", \"ticks\": \"\", \"title\": {\"standoff\": 15}, \"zerolinecolor\": \"white\", \"zerolinewidth\": 2}, \"yaxis\": {\"automargin\": true, \"gridcolor\": \"white\", \"linecolor\": \"white\", \"ticks\": \"\", \"title\": {\"standoff\": 15}, \"zerolinecolor\": \"white\", \"zerolinewidth\": 2}}}},                        {\"responsive\": true}                    ).then(function(){\n",
       "                            \n",
       "var gd = document.getElementById('58039d39-60a4-4753-b578-ed4e509c015b');\n",
       "var x = new MutationObserver(function (mutations, observer) {{\n",
       "        var display = window.getComputedStyle(gd).display;\n",
       "        if (!display || display === 'none') {{\n",
       "            console.log([gd, 'removed!']);\n",
       "            Plotly.purge(gd);\n",
       "            observer.disconnect();\n",
       "        }}\n",
       "}});\n",
       "\n",
       "// Listen for the removal of the full notebook cells\n",
       "var notebookContainer = gd.closest('#notebook-container');\n",
       "if (notebookContainer) {{\n",
       "    x.observe(notebookContainer, {childList: true});\n",
       "}}\n",
       "\n",
       "// Listen for the clearing of the current output cell\n",
       "var outputEl = gd.closest('.output');\n",
       "if (outputEl) {{\n",
       "    x.observe(outputEl, {childList: true});\n",
       "}}\n",
       "\n",
       "                        })                };                });            </script>        </div>"
      ]
     },
     "metadata": {},
     "output_type": "display_data"
    }
   ],
   "source": [
    "fig = px.choropleth(data_frame=test2,locationmode='ISO-3',locations='Country Code',scope='world',color='Life Exp.',labels={'2018': 'Life Expectancy'},hover_name='Country Name',color_continuous_scale='Jet',facet_col='Year')\n",
    "fig.show()"
   ]
  },
  {
   "cell_type": "code",
   "execution_count": 38,
   "id": "suited-correspondence",
   "metadata": {},
   "outputs": [],
   "source": [
    "test3 = pd.read_csv(file_name,skiprows=2,header=1,usecols=['Country Name','Country Code','1960','2018'])"
   ]
  },
  {
   "cell_type": "code",
   "execution_count": 39,
   "id": "french-radio",
   "metadata": {},
   "outputs": [
    {
     "data": {
      "text/html": [
       "<div>\n",
       "<style scoped>\n",
       "    .dataframe tbody tr th:only-of-type {\n",
       "        vertical-align: middle;\n",
       "    }\n",
       "\n",
       "    .dataframe tbody tr th {\n",
       "        vertical-align: top;\n",
       "    }\n",
       "\n",
       "    .dataframe thead th {\n",
       "        text-align: right;\n",
       "    }\n",
       "</style>\n",
       "<table border=\"1\" class=\"dataframe\">\n",
       "  <thead>\n",
       "    <tr style=\"text-align: right;\">\n",
       "      <th></th>\n",
       "      <th>Country Name</th>\n",
       "      <th>Country Code</th>\n",
       "      <th>1960</th>\n",
       "      <th>2018</th>\n",
       "    </tr>\n",
       "  </thead>\n",
       "  <tbody>\n",
       "    <tr>\n",
       "      <th>0</th>\n",
       "      <td>Aruba</td>\n",
       "      <td>ABW</td>\n",
       "      <td>65.662</td>\n",
       "      <td>76.152000</td>\n",
       "    </tr>\n",
       "    <tr>\n",
       "      <th>1</th>\n",
       "      <td>Afghanistan</td>\n",
       "      <td>AFG</td>\n",
       "      <td>32.446</td>\n",
       "      <td>64.486000</td>\n",
       "    </tr>\n",
       "    <tr>\n",
       "      <th>2</th>\n",
       "      <td>Angola</td>\n",
       "      <td>AGO</td>\n",
       "      <td>37.524</td>\n",
       "      <td>60.782000</td>\n",
       "    </tr>\n",
       "    <tr>\n",
       "      <th>3</th>\n",
       "      <td>Albania</td>\n",
       "      <td>ALB</td>\n",
       "      <td>62.283</td>\n",
       "      <td>78.458000</td>\n",
       "    </tr>\n",
       "    <tr>\n",
       "      <th>4</th>\n",
       "      <td>Andorra</td>\n",
       "      <td>AND</td>\n",
       "      <td>NaN</td>\n",
       "      <td>NaN</td>\n",
       "    </tr>\n",
       "    <tr>\n",
       "      <th>...</th>\n",
       "      <td>...</td>\n",
       "      <td>...</td>\n",
       "      <td>...</td>\n",
       "      <td>...</td>\n",
       "    </tr>\n",
       "    <tr>\n",
       "      <th>259</th>\n",
       "      <td>Kosovo</td>\n",
       "      <td>XKX</td>\n",
       "      <td>NaN</td>\n",
       "      <td>72.195122</td>\n",
       "    </tr>\n",
       "    <tr>\n",
       "      <th>260</th>\n",
       "      <td>Yemen, Rep.</td>\n",
       "      <td>YEM</td>\n",
       "      <td>29.919</td>\n",
       "      <td>66.096000</td>\n",
       "    </tr>\n",
       "    <tr>\n",
       "      <th>261</th>\n",
       "      <td>South Africa</td>\n",
       "      <td>ZAF</td>\n",
       "      <td>48.406</td>\n",
       "      <td>63.857000</td>\n",
       "    </tr>\n",
       "    <tr>\n",
       "      <th>262</th>\n",
       "      <td>Zambia</td>\n",
       "      <td>ZMB</td>\n",
       "      <td>46.687</td>\n",
       "      <td>63.510000</td>\n",
       "    </tr>\n",
       "    <tr>\n",
       "      <th>263</th>\n",
       "      <td>Zimbabwe</td>\n",
       "      <td>ZWE</td>\n",
       "      <td>53.019</td>\n",
       "      <td>61.195000</td>\n",
       "    </tr>\n",
       "  </tbody>\n",
       "</table>\n",
       "<p>264 rows × 4 columns</p>\n",
       "</div>"
      ],
      "text/plain": [
       "     Country Name Country Code    1960       2018\n",
       "0           Aruba          ABW  65.662  76.152000\n",
       "1     Afghanistan          AFG  32.446  64.486000\n",
       "2          Angola          AGO  37.524  60.782000\n",
       "3         Albania          ALB  62.283  78.458000\n",
       "4         Andorra          AND     NaN        NaN\n",
       "..            ...          ...     ...        ...\n",
       "259        Kosovo          XKX     NaN  72.195122\n",
       "260   Yemen, Rep.          YEM  29.919  66.096000\n",
       "261  South Africa          ZAF  48.406  63.857000\n",
       "262        Zambia          ZMB  46.687  63.510000\n",
       "263      Zimbabwe          ZWE  53.019  61.195000\n",
       "\n",
       "[264 rows x 4 columns]"
      ]
     },
     "execution_count": 39,
     "metadata": {},
     "output_type": "execute_result"
    }
   ],
   "source": []
  },
  {
   "cell_type": "code",
   "execution_count": 41,
   "id": "official-february",
   "metadata": {},
   "outputs": [],
   "source": [
    "test3 =test3.melt(id_vars=['Country Name','Country Code'],value_vars=['1960','2018'],value_name='Life Exp.',var_name='Year')"
   ]
  },
  {
   "cell_type": "code",
   "execution_count": 42,
   "id": "selected-physics",
   "metadata": {},
   "outputs": [
    {
     "data": {
      "text/html": [
       "<div>\n",
       "<style scoped>\n",
       "    .dataframe tbody tr th:only-of-type {\n",
       "        vertical-align: middle;\n",
       "    }\n",
       "\n",
       "    .dataframe tbody tr th {\n",
       "        vertical-align: top;\n",
       "    }\n",
       "\n",
       "    .dataframe thead th {\n",
       "        text-align: right;\n",
       "    }\n",
       "</style>\n",
       "<table border=\"1\" class=\"dataframe\">\n",
       "  <thead>\n",
       "    <tr style=\"text-align: right;\">\n",
       "      <th></th>\n",
       "      <th>Country Name</th>\n",
       "      <th>Country Code</th>\n",
       "      <th>Year</th>\n",
       "      <th>Life Exp.</th>\n",
       "    </tr>\n",
       "  </thead>\n",
       "  <tbody>\n",
       "    <tr>\n",
       "      <th>0</th>\n",
       "      <td>Aruba</td>\n",
       "      <td>ABW</td>\n",
       "      <td>1960</td>\n",
       "      <td>65.662000</td>\n",
       "    </tr>\n",
       "    <tr>\n",
       "      <th>1</th>\n",
       "      <td>Afghanistan</td>\n",
       "      <td>AFG</td>\n",
       "      <td>1960</td>\n",
       "      <td>32.446000</td>\n",
       "    </tr>\n",
       "    <tr>\n",
       "      <th>2</th>\n",
       "      <td>Angola</td>\n",
       "      <td>AGO</td>\n",
       "      <td>1960</td>\n",
       "      <td>37.524000</td>\n",
       "    </tr>\n",
       "    <tr>\n",
       "      <th>3</th>\n",
       "      <td>Albania</td>\n",
       "      <td>ALB</td>\n",
       "      <td>1960</td>\n",
       "      <td>62.283000</td>\n",
       "    </tr>\n",
       "    <tr>\n",
       "      <th>4</th>\n",
       "      <td>Andorra</td>\n",
       "      <td>AND</td>\n",
       "      <td>1960</td>\n",
       "      <td>NaN</td>\n",
       "    </tr>\n",
       "    <tr>\n",
       "      <th>...</th>\n",
       "      <td>...</td>\n",
       "      <td>...</td>\n",
       "      <td>...</td>\n",
       "      <td>...</td>\n",
       "    </tr>\n",
       "    <tr>\n",
       "      <th>523</th>\n",
       "      <td>Kosovo</td>\n",
       "      <td>XKX</td>\n",
       "      <td>2018</td>\n",
       "      <td>72.195122</td>\n",
       "    </tr>\n",
       "    <tr>\n",
       "      <th>524</th>\n",
       "      <td>Yemen, Rep.</td>\n",
       "      <td>YEM</td>\n",
       "      <td>2018</td>\n",
       "      <td>66.096000</td>\n",
       "    </tr>\n",
       "    <tr>\n",
       "      <th>525</th>\n",
       "      <td>South Africa</td>\n",
       "      <td>ZAF</td>\n",
       "      <td>2018</td>\n",
       "      <td>63.857000</td>\n",
       "    </tr>\n",
       "    <tr>\n",
       "      <th>526</th>\n",
       "      <td>Zambia</td>\n",
       "      <td>ZMB</td>\n",
       "      <td>2018</td>\n",
       "      <td>63.510000</td>\n",
       "    </tr>\n",
       "    <tr>\n",
       "      <th>527</th>\n",
       "      <td>Zimbabwe</td>\n",
       "      <td>ZWE</td>\n",
       "      <td>2018</td>\n",
       "      <td>61.195000</td>\n",
       "    </tr>\n",
       "  </tbody>\n",
       "</table>\n",
       "<p>528 rows × 4 columns</p>\n",
       "</div>"
      ],
      "text/plain": [
       "     Country Name Country Code  Year  Life Exp.\n",
       "0           Aruba          ABW  1960  65.662000\n",
       "1     Afghanistan          AFG  1960  32.446000\n",
       "2          Angola          AGO  1960  37.524000\n",
       "3         Albania          ALB  1960  62.283000\n",
       "4         Andorra          AND  1960        NaN\n",
       "..            ...          ...   ...        ...\n",
       "523        Kosovo          XKX  2018  72.195122\n",
       "524   Yemen, Rep.          YEM  2018  66.096000\n",
       "525  South Africa          ZAF  2018  63.857000\n",
       "526        Zambia          ZMB  2018  63.510000\n",
       "527      Zimbabwe          ZWE  2018  61.195000\n",
       "\n",
       "[528 rows x 4 columns]"
      ]
     },
     "execution_count": 42,
     "metadata": {},
     "output_type": "execute_result"
    }
   ],
   "source": [
    "test3"
   ]
  },
  {
   "cell_type": "code",
   "execution_count": 44,
   "id": "purple-murder",
   "metadata": {},
   "outputs": [],
   "source": [
    "import plotly.offline as po"
   ]
  },
  {
   "cell_type": "code",
   "execution_count": 45,
   "id": "cognitive-belle",
   "metadata": {},
   "outputs": [
    {
     "data": {
      "text/plain": [
       "'1960vs2018.html'"
      ]
     },
     "execution_count": 45,
     "metadata": {},
     "output_type": "execute_result"
    }
   ],
   "source": [
    "fig = px.choropleth(data_frame=test3,locationmode='ISO-3',locations='Country Code',scope='world',color='Life Exp.',labels={'2018': 'Life Expectancy'},hover_name='Country Name',color_continuous_scale='Jet',facet_col='Year')\n",
    "po.plot(fig,filename='1960vs2018.html')"
   ]
  },
  {
   "cell_type": "code",
   "execution_count": 48,
   "id": "typical-burst",
   "metadata": {},
   "outputs": [
    {
     "data": {
      "application/vnd.plotly.v1+json": {
       "config": {
        "plotlyServerURL": "https://plot.ly"
       },
       "data": [
        {
         "coloraxis": "coloraxis",
         "geo": "geo",
         "hovertemplate": "<b>%{hovertext}</b><br><br>Year=2018<br>Country Code=%{location}<br>Life Exp.=%{z}<extra></extra>",
         "hovertext": [
          "Aruba",
          "Afghanistan",
          "Angola",
          "Albania",
          "Andorra",
          "Arab World",
          "United Arab Emirates",
          "Argentina",
          "Armenia",
          "American Samoa",
          "Antigua and Barbuda",
          "Australia",
          "Austria",
          "Azerbaijan",
          "Burundi",
          "Belgium",
          "Benin",
          "Burkina Faso",
          "Bangladesh",
          "Bulgaria",
          "Bahrain",
          "Bahamas, The",
          "Bosnia and Herzegovina",
          "Belarus",
          "Belize",
          "Bermuda",
          "Bolivia",
          "Brazil",
          "Barbados",
          "Brunei Darussalam",
          "Bhutan",
          "Botswana",
          "Central African Republic",
          "Canada",
          "Central Europe and the Baltics",
          "Switzerland",
          "Channel Islands",
          "Chile",
          "China",
          "Cote d'Ivoire",
          "Cameroon",
          "Congo, Dem. Rep.",
          "Congo, Rep.",
          "Colombia",
          "Comoros",
          "Cabo Verde",
          "Costa Rica",
          "Caribbean small states",
          "Cuba",
          "Curacao",
          "Cayman Islands",
          "Cyprus",
          "Czech Republic",
          "Germany",
          "Djibouti",
          "Dominica",
          "Denmark",
          "Dominican Republic",
          "Algeria",
          "East Asia & Pacific (excluding high income)",
          "Early-demographic dividend",
          "East Asia & Pacific",
          "Europe & Central Asia (excluding high income)",
          "Europe & Central Asia",
          "Ecuador",
          "Egypt, Arab Rep.",
          "Euro area",
          "Eritrea",
          "Spain",
          "Estonia",
          "Ethiopia",
          "European Union",
          "Fragile and conflict affected situations",
          "Finland",
          "Fiji",
          "France",
          "Faroe Islands",
          "Micronesia, Fed. Sts.",
          "Gabon",
          "United Kingdom",
          "Georgia",
          "Ghana",
          "Gibraltar",
          "Guinea",
          "Gambia, The",
          "Guinea-Bissau",
          "Equatorial Guinea",
          "Greece",
          "Grenada",
          "Greenland",
          "Guatemala",
          "Guam",
          "Guyana",
          "High income",
          "Hong Kong SAR, China",
          "Honduras",
          "Heavily indebted poor countries (HIPC)",
          "Croatia",
          "Haiti",
          "Hungary",
          "IBRD only",
          "IDA & IBRD total",
          "IDA total",
          "IDA blend",
          "Indonesia",
          "IDA only",
          "Isle of Man",
          "India",
          "Not classified",
          "Ireland",
          "Iran, Islamic Rep.",
          "Iraq",
          "Iceland",
          "Israel",
          "Italy",
          "Jamaica",
          "Jordan",
          "Japan",
          "Kazakhstan",
          "Kenya",
          "Kyrgyz Republic",
          "Cambodia",
          "Kiribati",
          "St. Kitts and Nevis",
          "Korea, Rep.",
          "Kuwait",
          "Latin America & Caribbean (excluding high income)",
          "Lao PDR",
          "Lebanon",
          "Liberia",
          "Libya",
          "St. Lucia",
          "Latin America & Caribbean",
          "Least developed countries: UN classification",
          "Low income",
          "Liechtenstein",
          "Sri Lanka",
          "Lower middle income",
          "Low & middle income",
          "Lesotho",
          "Late-demographic dividend",
          "Lithuania",
          "Luxembourg",
          "Latvia",
          "Macao SAR, China",
          "St. Martin (French part)",
          "Morocco",
          "Monaco",
          "Moldova",
          "Madagascar",
          "Maldives",
          "Middle East & North Africa",
          "Mexico",
          "Marshall Islands",
          "Middle income",
          "North Macedonia",
          "Mali",
          "Malta",
          "Myanmar",
          "Middle East & North Africa (excluding high income)",
          "Montenegro",
          "Mongolia",
          "Northern Mariana Islands",
          "Mozambique",
          "Mauritania",
          "Mauritius",
          "Malawi",
          "Malaysia",
          "North America",
          "Namibia",
          "New Caledonia",
          "Niger",
          "Nigeria",
          "Nicaragua",
          "Netherlands",
          "Norway",
          "Nepal",
          "Nauru",
          "New Zealand",
          "OECD members",
          "Oman",
          "Other small states",
          "Pakistan",
          "Panama",
          "Peru",
          "Philippines",
          "Palau",
          "Papua New Guinea",
          "Poland",
          "Pre-demographic dividend",
          "Puerto Rico",
          "Korea, Dem. People’s Rep.",
          "Portugal",
          "Paraguay",
          "West Bank and Gaza",
          "Pacific island small states",
          "Post-demographic dividend",
          "French Polynesia",
          "Qatar",
          "Romania",
          "Russian Federation",
          "Rwanda",
          "South Asia",
          "Saudi Arabia",
          "Sudan",
          "Senegal",
          "Singapore",
          "Solomon Islands",
          "Sierra Leone",
          "El Salvador",
          "San Marino",
          "Somalia",
          "Serbia",
          "Sub-Saharan Africa (excluding high income)",
          "South Sudan",
          "Sub-Saharan Africa",
          "Small states",
          "Sao Tome and Principe",
          "Suriname",
          "Slovak Republic",
          "Slovenia",
          "Sweden",
          "Eswatini",
          "Sint Maarten (Dutch part)",
          "Seychelles",
          "Syrian Arab Republic",
          "Turks and Caicos Islands",
          "Chad",
          "East Asia & Pacific (IDA & IBRD countries)",
          "Europe & Central Asia (IDA & IBRD countries)",
          "Togo",
          "Thailand",
          "Tajikistan",
          "Turkmenistan",
          "Latin America & the Caribbean (IDA & IBRD countries)",
          "Timor-Leste",
          "Middle East & North Africa (IDA & IBRD countries)",
          "Tonga",
          "South Asia (IDA & IBRD)",
          "Sub-Saharan Africa (IDA & IBRD countries)",
          "Trinidad and Tobago",
          "Tunisia",
          "Turkey",
          "Tuvalu",
          "Tanzania",
          "Uganda",
          "Ukraine",
          "Upper middle income",
          "Uruguay",
          "United States",
          "Uzbekistan",
          "St. Vincent and the Grenadines",
          "Venezuela, RB",
          "British Virgin Islands",
          "Virgin Islands (U.S.)",
          "Vietnam",
          "Vanuatu",
          "World",
          "Samoa",
          "Kosovo",
          "Yemen, Rep.",
          "South Africa",
          "Zambia",
          "Zimbabwe"
         ],
         "locationmode": "ISO-3",
         "locations": [
          "ABW",
          "AFG",
          "AGO",
          "ALB",
          "AND",
          "ARB",
          "ARE",
          "ARG",
          "ARM",
          "ASM",
          "ATG",
          "AUS",
          "AUT",
          "AZE",
          "BDI",
          "BEL",
          "BEN",
          "BFA",
          "BGD",
          "BGR",
          "BHR",
          "BHS",
          "BIH",
          "BLR",
          "BLZ",
          "BMU",
          "BOL",
          "BRA",
          "BRB",
          "BRN",
          "BTN",
          "BWA",
          "CAF",
          "CAN",
          "CEB",
          "CHE",
          "CHI",
          "CHL",
          "CHN",
          "CIV",
          "CMR",
          "COD",
          "COG",
          "COL",
          "COM",
          "CPV",
          "CRI",
          "CSS",
          "CUB",
          "CUW",
          "CYM",
          "CYP",
          "CZE",
          "DEU",
          "DJI",
          "DMA",
          "DNK",
          "DOM",
          "DZA",
          "EAP",
          "EAR",
          "EAS",
          "ECA",
          "ECS",
          "ECU",
          "EGY",
          "EMU",
          "ERI",
          "ESP",
          "EST",
          "ETH",
          "EUU",
          "FCS",
          "FIN",
          "FJI",
          "FRA",
          "FRO",
          "FSM",
          "GAB",
          "GBR",
          "GEO",
          "GHA",
          "GIB",
          "GIN",
          "GMB",
          "GNB",
          "GNQ",
          "GRC",
          "GRD",
          "GRL",
          "GTM",
          "GUM",
          "GUY",
          "HIC",
          "HKG",
          "HND",
          "HPC",
          "HRV",
          "HTI",
          "HUN",
          "IBD",
          "IBT",
          "IDA",
          "IDB",
          "IDN",
          "IDX",
          "IMN",
          "IND",
          "INX",
          "IRL",
          "IRN",
          "IRQ",
          "ISL",
          "ISR",
          "ITA",
          "JAM",
          "JOR",
          "JPN",
          "KAZ",
          "KEN",
          "KGZ",
          "KHM",
          "KIR",
          "KNA",
          "KOR",
          "KWT",
          "LAC",
          "LAO",
          "LBN",
          "LBR",
          "LBY",
          "LCA",
          "LCN",
          "LDC",
          "LIC",
          "LIE",
          "LKA",
          "LMC",
          "LMY",
          "LSO",
          "LTE",
          "LTU",
          "LUX",
          "LVA",
          "MAC",
          "MAF",
          "MAR",
          "MCO",
          "MDA",
          "MDG",
          "MDV",
          "MEA",
          "MEX",
          "MHL",
          "MIC",
          "MKD",
          "MLI",
          "MLT",
          "MMR",
          "MNA",
          "MNE",
          "MNG",
          "MNP",
          "MOZ",
          "MRT",
          "MUS",
          "MWI",
          "MYS",
          "NAC",
          "NAM",
          "NCL",
          "NER",
          "NGA",
          "NIC",
          "NLD",
          "NOR",
          "NPL",
          "NRU",
          "NZL",
          "OED",
          "OMN",
          "OSS",
          "PAK",
          "PAN",
          "PER",
          "PHL",
          "PLW",
          "PNG",
          "POL",
          "PRE",
          "PRI",
          "PRK",
          "PRT",
          "PRY",
          "PSE",
          "PSS",
          "PST",
          "PYF",
          "QAT",
          "ROU",
          "RUS",
          "RWA",
          "SAS",
          "SAU",
          "SDN",
          "SEN",
          "SGP",
          "SLB",
          "SLE",
          "SLV",
          "SMR",
          "SOM",
          "SRB",
          "SSA",
          "SSD",
          "SSF",
          "SST",
          "STP",
          "SUR",
          "SVK",
          "SVN",
          "SWE",
          "SWZ",
          "SXM",
          "SYC",
          "SYR",
          "TCA",
          "TCD",
          "TEA",
          "TEC",
          "TGO",
          "THA",
          "TJK",
          "TKM",
          "TLA",
          "TLS",
          "TMN",
          "TON",
          "TSA",
          "TSS",
          "TTO",
          "TUN",
          "TUR",
          "TUV",
          "TZA",
          "UGA",
          "UKR",
          "UMC",
          "URY",
          "USA",
          "UZB",
          "VCT",
          "VEN",
          "VGB",
          "VIR",
          "VNM",
          "VUT",
          "WLD",
          "WSM",
          "XKX",
          "YEM",
          "ZAF",
          "ZMB",
          "ZWE"
         ],
         "name": "",
         "type": "choropleth",
         "z": [
          76.152,
          64.486,
          60.782,
          78.458,
          null,
          71.8068251623605,
          77.814,
          76.52,
          74.945,
          null,
          76.885,
          82.7487804878049,
          81.6926829268293,
          72.864,
          61.247,
          81.5951219512195,
          61.47,
          61.174,
          72.32,
          74.9634146341464,
          77.163,
          73.752,
          77.262,
          74.1756097560976,
          74.496,
          81.6517073170732,
          71.239,
          75.672,
          79.081,
          75.722,
          71.46,
          69.275,
          52.805,
          81.9487804878049,
          76.97684517184,
          83.7536585365854,
          82.928,
          80.042,
          76.704,
          57.422,
          58.921,
          60.368,
          64.29,
          77.109,
          64.118,
          72.782,
          80.095,
          73.6371089078694,
          78.726,
          null,
          null,
          80.828,
          79.0292682926829,
          80.8926829268293,
          66.582,
          null,
          80.9536585365854,
          73.892,
          76.693,
          75.2105121056207,
          70.4831906811833,
          76.0683364250094,
          73.590781529875,
          77.9086066864279,
          76.8,
          71.825,
          82.0596172798915,
          65.941,
          83.4317073170732,
          78.2439024390244,
          66.24,
          81.0344092172663,
          61.4999995849382,
          81.7341463414634,
          67.341,
          82.7243902439024,
          82.5487804878049,
          67.755,
          66.187,
          81.2560975609756,
          73.6,
          63.78,
          null,
          61.185,
          61.735,
          58.003,
          58.402,
          81.7878048780488,
          72.384,
          null,
          74.063,
          79.859,
          69.774,
          80.6561046818993,
          84.9341463414634,
          75.088,
          63.1350064011699,
          78.0707317073171,
          63.66,
          76.0658536585366,
          73.4048767291993,
          71.0717380418743,
          64.2478004723441,
          62.1617501399529,
          71.509,
          65.3040915219653,
          null,
          69.416,
          null,
          82.2560975609756,
          76.479,
          70.454,
          82.8609756097561,
          82.8024390243903,
          83.3463414634146,
          74.368,
          74.405,
          84.2109756097561,
          73.15,
          66.342,
          71.4,
          69.57,
          68.116,
          null,
          82.6268292682927,
          75.398,
          75.246114048204,
          67.61,
          78.875,
          63.73,
          72.724,
          76.057,
          75.4409477532745,
          65.0396241212957,
          63.4963387504082,
          83.0414634146342,
          76.812,
          68.4224690868156,
          70.9988194769754,
          53.705,
          76.2244436790799,
          75.6804878048781,
          82.2951219512195,
          74.7829268292683,
          84.118,
          79.8707317073171,
          76.453,
          null,
          71.808,
          66.681,
          78.627,
          74.0889092566827,
          74.992,
          null,
          71.8546257820263,
          75.688,
          58.893,
          82.4487804878049,
          66.867,
          73.5873582148883,
          76.77,
          69.689,
          null,
          60.163,
          64.704,
          74.4163414634146,
          63.798,
          75.997,
          78.8868905457275,
          63.373,
          77.1487804878049,
          62.024,
          54.332,
          74.275,
          81.8121951219512,
          82.7585365853659,
          70.478,
          null,
          81.8585365853659,
          80.0775295859723,
          77.633,
          68.5469317038401,
          67.114,
          78.329,
          76.516,
          71.095,
          null,
          64.263,
          77.6024390243903,
          60.8209562953764,
          79.7781951219512,
          72.095,
          81.3243902439024,
          74.131,
          73.895,
          69.929057966298,
          80.6598920018751,
          77.462,
          80.1,
          75.3585365853659,
          72.6573170731707,
          68.7,
          69.4122476461494,
          74.998,
          65.095,
          67.665,
          83.1463414634146,
          72.835,
          54.309,
          73.096,
          null,
          57.068,
          75.890243902439,
          61.2565331327445,
          57.604,
          61.2730146485793,
          69.5411324592597,
          70.17,
          71.57,
          77.2658536585366,
          81.3780487804878,
          82.5585365853659,
          59.401,
          null,
          72.8414634146341,
          71.779,
          null,
          53.977,
          75.2492291135899,
          74.0376029005072,
          60.76,
          76.931,
          70.879,
          68.073,
          75.3574154976003,
          69.26,
          73.5836428053412,
          70.801,
          69.4122476461494,
          61.2730146485793,
          73.38,
          76.505,
          77.437,
          null,
          65.015,
          62.973,
          71.5826829268293,
          75.3289849763003,
          77.77,
          78.5390243902439,
          71.573,
          72.415,
          72.128,
          null,
          79.5682926829268,
          75.317,
          70.323,
          72.5632818899911,
          73.187,
          72.1951219512195,
          66.096,
          63.857,
          63.51,
          61.195
         ]
        }
       ],
       "frames": [
        {
         "data": [
          {
           "coloraxis": "coloraxis",
           "geo": "geo",
           "hovertemplate": "<b>%{hovertext}</b><br><br>Year=1960<br>Country Code=%{location}<br>Life Exp.=%{z}<extra></extra>",
           "hovertext": [
            "Aruba",
            "Afghanistan",
            "Angola",
            "Albania",
            "Andorra",
            "Arab World",
            "United Arab Emirates",
            "Argentina",
            "Armenia",
            "American Samoa",
            "Antigua and Barbuda",
            "Australia",
            "Austria",
            "Azerbaijan",
            "Burundi",
            "Belgium",
            "Benin",
            "Burkina Faso",
            "Bangladesh",
            "Bulgaria",
            "Bahrain",
            "Bahamas, The",
            "Bosnia and Herzegovina",
            "Belarus",
            "Belize",
            "Bermuda",
            "Bolivia",
            "Brazil",
            "Barbados",
            "Brunei Darussalam",
            "Bhutan",
            "Botswana",
            "Central African Republic",
            "Canada",
            "Central Europe and the Baltics",
            "Switzerland",
            "Channel Islands",
            "Chile",
            "China",
            "Cote d'Ivoire",
            "Cameroon",
            "Congo, Dem. Rep.",
            "Congo, Rep.",
            "Colombia",
            "Comoros",
            "Cabo Verde",
            "Costa Rica",
            "Caribbean small states",
            "Cuba",
            "Curacao",
            "Cayman Islands",
            "Cyprus",
            "Czech Republic",
            "Germany",
            "Djibouti",
            "Dominica",
            "Denmark",
            "Dominican Republic",
            "Algeria",
            "East Asia & Pacific (excluding high income)",
            "Early-demographic dividend",
            "East Asia & Pacific",
            "Europe & Central Asia (excluding high income)",
            "Europe & Central Asia",
            "Ecuador",
            "Egypt, Arab Rep.",
            "Euro area",
            "Eritrea",
            "Spain",
            "Estonia",
            "Ethiopia",
            "European Union",
            "Fragile and conflict affected situations",
            "Finland",
            "Fiji",
            "France",
            "Faroe Islands",
            "Micronesia, Fed. Sts.",
            "Gabon",
            "United Kingdom",
            "Georgia",
            "Ghana",
            "Gibraltar",
            "Guinea",
            "Gambia, The",
            "Guinea-Bissau",
            "Equatorial Guinea",
            "Greece",
            "Grenada",
            "Greenland",
            "Guatemala",
            "Guam",
            "Guyana",
            "High income",
            "Hong Kong SAR, China",
            "Honduras",
            "Heavily indebted poor countries (HIPC)",
            "Croatia",
            "Haiti",
            "Hungary",
            "IBRD only",
            "IDA & IBRD total",
            "IDA total",
            "IDA blend",
            "Indonesia",
            "IDA only",
            "Isle of Man",
            "India",
            "Not classified",
            "Ireland",
            "Iran, Islamic Rep.",
            "Iraq",
            "Iceland",
            "Israel",
            "Italy",
            "Jamaica",
            "Jordan",
            "Japan",
            "Kazakhstan",
            "Kenya",
            "Kyrgyz Republic",
            "Cambodia",
            "Kiribati",
            "St. Kitts and Nevis",
            "Korea, Rep.",
            "Kuwait",
            "Latin America & Caribbean (excluding high income)",
            "Lao PDR",
            "Lebanon",
            "Liberia",
            "Libya",
            "St. Lucia",
            "Latin America & Caribbean",
            "Least developed countries: UN classification",
            "Low income",
            "Liechtenstein",
            "Sri Lanka",
            "Lower middle income",
            "Low & middle income",
            "Lesotho",
            "Late-demographic dividend",
            "Lithuania",
            "Luxembourg",
            "Latvia",
            "Macao SAR, China",
            "St. Martin (French part)",
            "Morocco",
            "Monaco",
            "Moldova",
            "Madagascar",
            "Maldives",
            "Middle East & North Africa",
            "Mexico",
            "Marshall Islands",
            "Middle income",
            "North Macedonia",
            "Mali",
            "Malta",
            "Myanmar",
            "Middle East & North Africa (excluding high income)",
            "Montenegro",
            "Mongolia",
            "Northern Mariana Islands",
            "Mozambique",
            "Mauritania",
            "Mauritius",
            "Malawi",
            "Malaysia",
            "North America",
            "Namibia",
            "New Caledonia",
            "Niger",
            "Nigeria",
            "Nicaragua",
            "Netherlands",
            "Norway",
            "Nepal",
            "Nauru",
            "New Zealand",
            "OECD members",
            "Oman",
            "Other small states",
            "Pakistan",
            "Panama",
            "Peru",
            "Philippines",
            "Palau",
            "Papua New Guinea",
            "Poland",
            "Pre-demographic dividend",
            "Puerto Rico",
            "Korea, Dem. People’s Rep.",
            "Portugal",
            "Paraguay",
            "West Bank and Gaza",
            "Pacific island small states",
            "Post-demographic dividend",
            "French Polynesia",
            "Qatar",
            "Romania",
            "Russian Federation",
            "Rwanda",
            "South Asia",
            "Saudi Arabia",
            "Sudan",
            "Senegal",
            "Singapore",
            "Solomon Islands",
            "Sierra Leone",
            "El Salvador",
            "San Marino",
            "Somalia",
            "Serbia",
            "Sub-Saharan Africa (excluding high income)",
            "South Sudan",
            "Sub-Saharan Africa",
            "Small states",
            "Sao Tome and Principe",
            "Suriname",
            "Slovak Republic",
            "Slovenia",
            "Sweden",
            "Eswatini",
            "Sint Maarten (Dutch part)",
            "Seychelles",
            "Syrian Arab Republic",
            "Turks and Caicos Islands",
            "Chad",
            "East Asia & Pacific (IDA & IBRD countries)",
            "Europe & Central Asia (IDA & IBRD countries)",
            "Togo",
            "Thailand",
            "Tajikistan",
            "Turkmenistan",
            "Latin America & the Caribbean (IDA & IBRD countries)",
            "Timor-Leste",
            "Middle East & North Africa (IDA & IBRD countries)",
            "Tonga",
            "South Asia (IDA & IBRD)",
            "Sub-Saharan Africa (IDA & IBRD countries)",
            "Trinidad and Tobago",
            "Tunisia",
            "Turkey",
            "Tuvalu",
            "Tanzania",
            "Uganda",
            "Ukraine",
            "Upper middle income",
            "Uruguay",
            "United States",
            "Uzbekistan",
            "St. Vincent and the Grenadines",
            "Venezuela, RB",
            "British Virgin Islands",
            "Virgin Islands (U.S.)",
            "Vietnam",
            "Vanuatu",
            "World",
            "Samoa",
            "Kosovo",
            "Yemen, Rep.",
            "South Africa",
            "Zambia",
            "Zimbabwe"
           ],
           "locationmode": "ISO-3",
           "locations": [
            "ABW",
            "AFG",
            "AGO",
            "ALB",
            "AND",
            "ARB",
            "ARE",
            "ARG",
            "ARM",
            "ASM",
            "ATG",
            "AUS",
            "AUT",
            "AZE",
            "BDI",
            "BEL",
            "BEN",
            "BFA",
            "BGD",
            "BGR",
            "BHR",
            "BHS",
            "BIH",
            "BLR",
            "BLZ",
            "BMU",
            "BOL",
            "BRA",
            "BRB",
            "BRN",
            "BTN",
            "BWA",
            "CAF",
            "CAN",
            "CEB",
            "CHE",
            "CHI",
            "CHL",
            "CHN",
            "CIV",
            "CMR",
            "COD",
            "COG",
            "COL",
            "COM",
            "CPV",
            "CRI",
            "CSS",
            "CUB",
            "CUW",
            "CYM",
            "CYP",
            "CZE",
            "DEU",
            "DJI",
            "DMA",
            "DNK",
            "DOM",
            "DZA",
            "EAP",
            "EAR",
            "EAS",
            "ECA",
            "ECS",
            "ECU",
            "EGY",
            "EMU",
            "ERI",
            "ESP",
            "EST",
            "ETH",
            "EUU",
            "FCS",
            "FIN",
            "FJI",
            "FRA",
            "FRO",
            "FSM",
            "GAB",
            "GBR",
            "GEO",
            "GHA",
            "GIB",
            "GIN",
            "GMB",
            "GNB",
            "GNQ",
            "GRC",
            "GRD",
            "GRL",
            "GTM",
            "GUM",
            "GUY",
            "HIC",
            "HKG",
            "HND",
            "HPC",
            "HRV",
            "HTI",
            "HUN",
            "IBD",
            "IBT",
            "IDA",
            "IDB",
            "IDN",
            "IDX",
            "IMN",
            "IND",
            "INX",
            "IRL",
            "IRN",
            "IRQ",
            "ISL",
            "ISR",
            "ITA",
            "JAM",
            "JOR",
            "JPN",
            "KAZ",
            "KEN",
            "KGZ",
            "KHM",
            "KIR",
            "KNA",
            "KOR",
            "KWT",
            "LAC",
            "LAO",
            "LBN",
            "LBR",
            "LBY",
            "LCA",
            "LCN",
            "LDC",
            "LIC",
            "LIE",
            "LKA",
            "LMC",
            "LMY",
            "LSO",
            "LTE",
            "LTU",
            "LUX",
            "LVA",
            "MAC",
            "MAF",
            "MAR",
            "MCO",
            "MDA",
            "MDG",
            "MDV",
            "MEA",
            "MEX",
            "MHL",
            "MIC",
            "MKD",
            "MLI",
            "MLT",
            "MMR",
            "MNA",
            "MNE",
            "MNG",
            "MNP",
            "MOZ",
            "MRT",
            "MUS",
            "MWI",
            "MYS",
            "NAC",
            "NAM",
            "NCL",
            "NER",
            "NGA",
            "NIC",
            "NLD",
            "NOR",
            "NPL",
            "NRU",
            "NZL",
            "OED",
            "OMN",
            "OSS",
            "PAK",
            "PAN",
            "PER",
            "PHL",
            "PLW",
            "PNG",
            "POL",
            "PRE",
            "PRI",
            "PRK",
            "PRT",
            "PRY",
            "PSE",
            "PSS",
            "PST",
            "PYF",
            "QAT",
            "ROU",
            "RUS",
            "RWA",
            "SAS",
            "SAU",
            "SDN",
            "SEN",
            "SGP",
            "SLB",
            "SLE",
            "SLV",
            "SMR",
            "SOM",
            "SRB",
            "SSA",
            "SSD",
            "SSF",
            "SST",
            "STP",
            "SUR",
            "SVK",
            "SVN",
            "SWE",
            "SWZ",
            "SXM",
            "SYC",
            "SYR",
            "TCA",
            "TCD",
            "TEA",
            "TEC",
            "TGO",
            "THA",
            "TJK",
            "TKM",
            "TLA",
            "TLS",
            "TMN",
            "TON",
            "TSA",
            "TSS",
            "TTO",
            "TUN",
            "TUR",
            "TUV",
            "TZA",
            "UGA",
            "UKR",
            "UMC",
            "URY",
            "USA",
            "UZB",
            "VCT",
            "VEN",
            "VGB",
            "VIR",
            "VNM",
            "VUT",
            "WLD",
            "WSM",
            "XKX",
            "YEM",
            "ZAF",
            "ZMB",
            "ZWE"
           ],
           "name": "",
           "type": "choropleth",
           "z": [
            65.662,
            32.446,
            37.524,
            62.283,
            null,
            46.5469088857838,
            51.537,
            65.055,
            65.972,
            null,
            61.968,
            70.8170731707317,
            68.5856097560976,
            61.034,
            41.281,
            69.7019512195122,
            37.271,
            34.432,
            45.379,
            69.2475609756098,
            51.869,
            64.74,
            60.353,
            67.7080975609756,
            59.981,
            null,
            41.82,
            54.143,
            64.472,
            54.81,
            34.526,
            49.179,
            36.249,
            71.1331707317073,
            67.8213886391755,
            71.3134146341463,
            70.739,
            57.219,
            43.725,
            36.095,
            41.785,
            41.098,
            45.721,
            57.269,
            41.447,
            48.461,
            60.381,
            62.7462959437032,
            63.834,
            null,
            null,
            69.618,
            70.3487804878049,
            69.3100243902439,
            44.038,
            null,
            72.1765853658537,
            51.602,
            46.141,
            45.6132420031653,
            45.0908980712581,
            48.4158990605597,
            63.18187385868,
            67.0265416102025,
            52.982,
            48.042,
            69.2905809133318,
            38.419,
            69.1092682926829,
            67.9029024390244,
            38.419,
            69.0208666209947,
            40.5747374121048,
            68.819756097561,
            60.811,
            69.8682926829268,
            null,
            54.513,
            39.694,
            71.1268292682927,
            63.651,
            45.843,
            null,
            34.89,
            32.054,
            37.478,
            36.535,
            68.1639024390244,
            62.231,
            null,
            46.702,
            60.97,
            60.26,
            68.4651278483481,
            66.9616829268293,
            46.274,
            39.7796576682467,
            64.6086585365854,
            41.762,
            68.0031707317073,
            48.6761772149084,
            47.5303441920779,
            41.7404850978892,
            43.2509636036738,
            46.664,
            41.0366595847928,
            null,
            41.422,
            null,
            69.796512195122,
            44.947,
            48.022,
            73.4231707317073,
            null,
            69.1239024390244,
            64.77,
            52.651,
            67.6660975609756,
            58.3675853658537,
            46.76,
            56.1280731707317,
            41.242,
            47.061,
            null,
            55.4155365853659,
            59.343,
            55.6685130080273,
            43.204,
            63.267,
            34.264,
            42.609,
            56.739,
            56.0776667120601,
            40.3074848432961,
            39.724770039454,
            null,
            59.369,
            45.118916244594,
            47.0813446290416,
            47.919,
            50.2472965798124,
            69.8473170731707,
            68.4463902439024,
            69.7868292682927,
            64.828,
            null,
            48.458,
            null,
            61.995,
            39.962,
            37.343,
            46.4416442088771,
            57.077,
            null,
            47.5846815930701,
            60.633,
            28.199,
            69.433243902439,
            42.381,
            46.3631075668055,
            63.82,
            48.392,
            null,
            39.439,
            44.432,
            58.7452195121951,
            36.672,
            59.991,
            69.89360375709,
            46.483,
            58.6390243902439,
            35.053,
            36.976,
            46.998,
            73.3926829268293,
            73.549756097561,
            35.583,
            null,
            71.2365853658537,
            67.2370157246502,
            42.672,
            51.4150047964335,
            45.299,
            60.864,
            48.012,
            61.105,
            null,
            38.935,
            67.6804878048781,
            39.1361000183987,
            68.7196097560976,
            51.297,
            63.2729024390244,
            63.881,
            null,
            56.5054971411929,
            68.8155446840975,
            56.282,
            61.094,
            65.6424390243903,
            66.0552926829268,
            42.616,
            42.120208188067,
            45.638,
            48.194,
            38.223,
            65.6598292682927,
            48.123,
            31.566,
            49.95,
            null,
            36.976,
            null,
            40.3244374679549,
            31.697,
            40.3778979179808,
            55.019876733748,
            50.378,
            59.682,
            69.9236585365854,
            68.9780487804878,
            73.0056097560976,
            43.572,
            null,
            null,
            51.971,
            null,
            38.02,
            45.5397402930785,
            63.7951821308772,
            40.297,
            54.701,
            50.613,
            54.471,
            55.6534267815011,
            33.729,
            46.3631075668055,
            59.885,
            42.120208188067,
            40.3778979179808,
            62.222,
            42.021,
            45.369,
            null,
            43.6,
            44.359,
            68.2995365853659,
            49.3490137155296,
            67.783,
            69.7707317073171,
            58.835,
            59.26,
            59.831,
            null,
            66.2248536585366,
            59.039,
            48.975,
            52.578366546371,
            56.902,
            null,
            29.919,
            48.406,
            46.687,
            53.019
           ]
          }
         ],
         "name": "1960"
        },
        {
         "data": [
          {
           "coloraxis": "coloraxis",
           "geo": "geo",
           "hovertemplate": "<b>%{hovertext}</b><br><br>Year=2018<br>Country Code=%{location}<br>Life Exp.=%{z}<extra></extra>",
           "hovertext": [
            "Aruba",
            "Afghanistan",
            "Angola",
            "Albania",
            "Andorra",
            "Arab World",
            "United Arab Emirates",
            "Argentina",
            "Armenia",
            "American Samoa",
            "Antigua and Barbuda",
            "Australia",
            "Austria",
            "Azerbaijan",
            "Burundi",
            "Belgium",
            "Benin",
            "Burkina Faso",
            "Bangladesh",
            "Bulgaria",
            "Bahrain",
            "Bahamas, The",
            "Bosnia and Herzegovina",
            "Belarus",
            "Belize",
            "Bermuda",
            "Bolivia",
            "Brazil",
            "Barbados",
            "Brunei Darussalam",
            "Bhutan",
            "Botswana",
            "Central African Republic",
            "Canada",
            "Central Europe and the Baltics",
            "Switzerland",
            "Channel Islands",
            "Chile",
            "China",
            "Cote d'Ivoire",
            "Cameroon",
            "Congo, Dem. Rep.",
            "Congo, Rep.",
            "Colombia",
            "Comoros",
            "Cabo Verde",
            "Costa Rica",
            "Caribbean small states",
            "Cuba",
            "Curacao",
            "Cayman Islands",
            "Cyprus",
            "Czech Republic",
            "Germany",
            "Djibouti",
            "Dominica",
            "Denmark",
            "Dominican Republic",
            "Algeria",
            "East Asia & Pacific (excluding high income)",
            "Early-demographic dividend",
            "East Asia & Pacific",
            "Europe & Central Asia (excluding high income)",
            "Europe & Central Asia",
            "Ecuador",
            "Egypt, Arab Rep.",
            "Euro area",
            "Eritrea",
            "Spain",
            "Estonia",
            "Ethiopia",
            "European Union",
            "Fragile and conflict affected situations",
            "Finland",
            "Fiji",
            "France",
            "Faroe Islands",
            "Micronesia, Fed. Sts.",
            "Gabon",
            "United Kingdom",
            "Georgia",
            "Ghana",
            "Gibraltar",
            "Guinea",
            "Gambia, The",
            "Guinea-Bissau",
            "Equatorial Guinea",
            "Greece",
            "Grenada",
            "Greenland",
            "Guatemala",
            "Guam",
            "Guyana",
            "High income",
            "Hong Kong SAR, China",
            "Honduras",
            "Heavily indebted poor countries (HIPC)",
            "Croatia",
            "Haiti",
            "Hungary",
            "IBRD only",
            "IDA & IBRD total",
            "IDA total",
            "IDA blend",
            "Indonesia",
            "IDA only",
            "Isle of Man",
            "India",
            "Not classified",
            "Ireland",
            "Iran, Islamic Rep.",
            "Iraq",
            "Iceland",
            "Israel",
            "Italy",
            "Jamaica",
            "Jordan",
            "Japan",
            "Kazakhstan",
            "Kenya",
            "Kyrgyz Republic",
            "Cambodia",
            "Kiribati",
            "St. Kitts and Nevis",
            "Korea, Rep.",
            "Kuwait",
            "Latin America & Caribbean (excluding high income)",
            "Lao PDR",
            "Lebanon",
            "Liberia",
            "Libya",
            "St. Lucia",
            "Latin America & Caribbean",
            "Least developed countries: UN classification",
            "Low income",
            "Liechtenstein",
            "Sri Lanka",
            "Lower middle income",
            "Low & middle income",
            "Lesotho",
            "Late-demographic dividend",
            "Lithuania",
            "Luxembourg",
            "Latvia",
            "Macao SAR, China",
            "St. Martin (French part)",
            "Morocco",
            "Monaco",
            "Moldova",
            "Madagascar",
            "Maldives",
            "Middle East & North Africa",
            "Mexico",
            "Marshall Islands",
            "Middle income",
            "North Macedonia",
            "Mali",
            "Malta",
            "Myanmar",
            "Middle East & North Africa (excluding high income)",
            "Montenegro",
            "Mongolia",
            "Northern Mariana Islands",
            "Mozambique",
            "Mauritania",
            "Mauritius",
            "Malawi",
            "Malaysia",
            "North America",
            "Namibia",
            "New Caledonia",
            "Niger",
            "Nigeria",
            "Nicaragua",
            "Netherlands",
            "Norway",
            "Nepal",
            "Nauru",
            "New Zealand",
            "OECD members",
            "Oman",
            "Other small states",
            "Pakistan",
            "Panama",
            "Peru",
            "Philippines",
            "Palau",
            "Papua New Guinea",
            "Poland",
            "Pre-demographic dividend",
            "Puerto Rico",
            "Korea, Dem. People’s Rep.",
            "Portugal",
            "Paraguay",
            "West Bank and Gaza",
            "Pacific island small states",
            "Post-demographic dividend",
            "French Polynesia",
            "Qatar",
            "Romania",
            "Russian Federation",
            "Rwanda",
            "South Asia",
            "Saudi Arabia",
            "Sudan",
            "Senegal",
            "Singapore",
            "Solomon Islands",
            "Sierra Leone",
            "El Salvador",
            "San Marino",
            "Somalia",
            "Serbia",
            "Sub-Saharan Africa (excluding high income)",
            "South Sudan",
            "Sub-Saharan Africa",
            "Small states",
            "Sao Tome and Principe",
            "Suriname",
            "Slovak Republic",
            "Slovenia",
            "Sweden",
            "Eswatini",
            "Sint Maarten (Dutch part)",
            "Seychelles",
            "Syrian Arab Republic",
            "Turks and Caicos Islands",
            "Chad",
            "East Asia & Pacific (IDA & IBRD countries)",
            "Europe & Central Asia (IDA & IBRD countries)",
            "Togo",
            "Thailand",
            "Tajikistan",
            "Turkmenistan",
            "Latin America & the Caribbean (IDA & IBRD countries)",
            "Timor-Leste",
            "Middle East & North Africa (IDA & IBRD countries)",
            "Tonga",
            "South Asia (IDA & IBRD)",
            "Sub-Saharan Africa (IDA & IBRD countries)",
            "Trinidad and Tobago",
            "Tunisia",
            "Turkey",
            "Tuvalu",
            "Tanzania",
            "Uganda",
            "Ukraine",
            "Upper middle income",
            "Uruguay",
            "United States",
            "Uzbekistan",
            "St. Vincent and the Grenadines",
            "Venezuela, RB",
            "British Virgin Islands",
            "Virgin Islands (U.S.)",
            "Vietnam",
            "Vanuatu",
            "World",
            "Samoa",
            "Kosovo",
            "Yemen, Rep.",
            "South Africa",
            "Zambia",
            "Zimbabwe"
           ],
           "locationmode": "ISO-3",
           "locations": [
            "ABW",
            "AFG",
            "AGO",
            "ALB",
            "AND",
            "ARB",
            "ARE",
            "ARG",
            "ARM",
            "ASM",
            "ATG",
            "AUS",
            "AUT",
            "AZE",
            "BDI",
            "BEL",
            "BEN",
            "BFA",
            "BGD",
            "BGR",
            "BHR",
            "BHS",
            "BIH",
            "BLR",
            "BLZ",
            "BMU",
            "BOL",
            "BRA",
            "BRB",
            "BRN",
            "BTN",
            "BWA",
            "CAF",
            "CAN",
            "CEB",
            "CHE",
            "CHI",
            "CHL",
            "CHN",
            "CIV",
            "CMR",
            "COD",
            "COG",
            "COL",
            "COM",
            "CPV",
            "CRI",
            "CSS",
            "CUB",
            "CUW",
            "CYM",
            "CYP",
            "CZE",
            "DEU",
            "DJI",
            "DMA",
            "DNK",
            "DOM",
            "DZA",
            "EAP",
            "EAR",
            "EAS",
            "ECA",
            "ECS",
            "ECU",
            "EGY",
            "EMU",
            "ERI",
            "ESP",
            "EST",
            "ETH",
            "EUU",
            "FCS",
            "FIN",
            "FJI",
            "FRA",
            "FRO",
            "FSM",
            "GAB",
            "GBR",
            "GEO",
            "GHA",
            "GIB",
            "GIN",
            "GMB",
            "GNB",
            "GNQ",
            "GRC",
            "GRD",
            "GRL",
            "GTM",
            "GUM",
            "GUY",
            "HIC",
            "HKG",
            "HND",
            "HPC",
            "HRV",
            "HTI",
            "HUN",
            "IBD",
            "IBT",
            "IDA",
            "IDB",
            "IDN",
            "IDX",
            "IMN",
            "IND",
            "INX",
            "IRL",
            "IRN",
            "IRQ",
            "ISL",
            "ISR",
            "ITA",
            "JAM",
            "JOR",
            "JPN",
            "KAZ",
            "KEN",
            "KGZ",
            "KHM",
            "KIR",
            "KNA",
            "KOR",
            "KWT",
            "LAC",
            "LAO",
            "LBN",
            "LBR",
            "LBY",
            "LCA",
            "LCN",
            "LDC",
            "LIC",
            "LIE",
            "LKA",
            "LMC",
            "LMY",
            "LSO",
            "LTE",
            "LTU",
            "LUX",
            "LVA",
            "MAC",
            "MAF",
            "MAR",
            "MCO",
            "MDA",
            "MDG",
            "MDV",
            "MEA",
            "MEX",
            "MHL",
            "MIC",
            "MKD",
            "MLI",
            "MLT",
            "MMR",
            "MNA",
            "MNE",
            "MNG",
            "MNP",
            "MOZ",
            "MRT",
            "MUS",
            "MWI",
            "MYS",
            "NAC",
            "NAM",
            "NCL",
            "NER",
            "NGA",
            "NIC",
            "NLD",
            "NOR",
            "NPL",
            "NRU",
            "NZL",
            "OED",
            "OMN",
            "OSS",
            "PAK",
            "PAN",
            "PER",
            "PHL",
            "PLW",
            "PNG",
            "POL",
            "PRE",
            "PRI",
            "PRK",
            "PRT",
            "PRY",
            "PSE",
            "PSS",
            "PST",
            "PYF",
            "QAT",
            "ROU",
            "RUS",
            "RWA",
            "SAS",
            "SAU",
            "SDN",
            "SEN",
            "SGP",
            "SLB",
            "SLE",
            "SLV",
            "SMR",
            "SOM",
            "SRB",
            "SSA",
            "SSD",
            "SSF",
            "SST",
            "STP",
            "SUR",
            "SVK",
            "SVN",
            "SWE",
            "SWZ",
            "SXM",
            "SYC",
            "SYR",
            "TCA",
            "TCD",
            "TEA",
            "TEC",
            "TGO",
            "THA",
            "TJK",
            "TKM",
            "TLA",
            "TLS",
            "TMN",
            "TON",
            "TSA",
            "TSS",
            "TTO",
            "TUN",
            "TUR",
            "TUV",
            "TZA",
            "UGA",
            "UKR",
            "UMC",
            "URY",
            "USA",
            "UZB",
            "VCT",
            "VEN",
            "VGB",
            "VIR",
            "VNM",
            "VUT",
            "WLD",
            "WSM",
            "XKX",
            "YEM",
            "ZAF",
            "ZMB",
            "ZWE"
           ],
           "name": "",
           "type": "choropleth",
           "z": [
            76.152,
            64.486,
            60.782,
            78.458,
            null,
            71.8068251623605,
            77.814,
            76.52,
            74.945,
            null,
            76.885,
            82.7487804878049,
            81.6926829268293,
            72.864,
            61.247,
            81.5951219512195,
            61.47,
            61.174,
            72.32,
            74.9634146341464,
            77.163,
            73.752,
            77.262,
            74.1756097560976,
            74.496,
            81.6517073170732,
            71.239,
            75.672,
            79.081,
            75.722,
            71.46,
            69.275,
            52.805,
            81.9487804878049,
            76.97684517184,
            83.7536585365854,
            82.928,
            80.042,
            76.704,
            57.422,
            58.921,
            60.368,
            64.29,
            77.109,
            64.118,
            72.782,
            80.095,
            73.6371089078694,
            78.726,
            null,
            null,
            80.828,
            79.0292682926829,
            80.8926829268293,
            66.582,
            null,
            80.9536585365854,
            73.892,
            76.693,
            75.2105121056207,
            70.4831906811833,
            76.0683364250094,
            73.590781529875,
            77.9086066864279,
            76.8,
            71.825,
            82.0596172798915,
            65.941,
            83.4317073170732,
            78.2439024390244,
            66.24,
            81.0344092172663,
            61.4999995849382,
            81.7341463414634,
            67.341,
            82.7243902439024,
            82.5487804878049,
            67.755,
            66.187,
            81.2560975609756,
            73.6,
            63.78,
            null,
            61.185,
            61.735,
            58.003,
            58.402,
            81.7878048780488,
            72.384,
            null,
            74.063,
            79.859,
            69.774,
            80.6561046818993,
            84.9341463414634,
            75.088,
            63.1350064011699,
            78.0707317073171,
            63.66,
            76.0658536585366,
            73.4048767291993,
            71.0717380418743,
            64.2478004723441,
            62.1617501399529,
            71.509,
            65.3040915219653,
            null,
            69.416,
            null,
            82.2560975609756,
            76.479,
            70.454,
            82.8609756097561,
            82.8024390243903,
            83.3463414634146,
            74.368,
            74.405,
            84.2109756097561,
            73.15,
            66.342,
            71.4,
            69.57,
            68.116,
            null,
            82.6268292682927,
            75.398,
            75.246114048204,
            67.61,
            78.875,
            63.73,
            72.724,
            76.057,
            75.4409477532745,
            65.0396241212957,
            63.4963387504082,
            83.0414634146342,
            76.812,
            68.4224690868156,
            70.9988194769754,
            53.705,
            76.2244436790799,
            75.6804878048781,
            82.2951219512195,
            74.7829268292683,
            84.118,
            79.8707317073171,
            76.453,
            null,
            71.808,
            66.681,
            78.627,
            74.0889092566827,
            74.992,
            null,
            71.8546257820263,
            75.688,
            58.893,
            82.4487804878049,
            66.867,
            73.5873582148883,
            76.77,
            69.689,
            null,
            60.163,
            64.704,
            74.4163414634146,
            63.798,
            75.997,
            78.8868905457275,
            63.373,
            77.1487804878049,
            62.024,
            54.332,
            74.275,
            81.8121951219512,
            82.7585365853659,
            70.478,
            null,
            81.8585365853659,
            80.0775295859723,
            77.633,
            68.5469317038401,
            67.114,
            78.329,
            76.516,
            71.095,
            null,
            64.263,
            77.6024390243903,
            60.8209562953764,
            79.7781951219512,
            72.095,
            81.3243902439024,
            74.131,
            73.895,
            69.929057966298,
            80.6598920018751,
            77.462,
            80.1,
            75.3585365853659,
            72.6573170731707,
            68.7,
            69.4122476461494,
            74.998,
            65.095,
            67.665,
            83.1463414634146,
            72.835,
            54.309,
            73.096,
            null,
            57.068,
            75.890243902439,
            61.2565331327445,
            57.604,
            61.2730146485793,
            69.5411324592597,
            70.17,
            71.57,
            77.2658536585366,
            81.3780487804878,
            82.5585365853659,
            59.401,
            null,
            72.8414634146341,
            71.779,
            null,
            53.977,
            75.2492291135899,
            74.0376029005072,
            60.76,
            76.931,
            70.879,
            68.073,
            75.3574154976003,
            69.26,
            73.5836428053412,
            70.801,
            69.4122476461494,
            61.2730146485793,
            73.38,
            76.505,
            77.437,
            null,
            65.015,
            62.973,
            71.5826829268293,
            75.3289849763003,
            77.77,
            78.5390243902439,
            71.573,
            72.415,
            72.128,
            null,
            79.5682926829268,
            75.317,
            70.323,
            72.5632818899911,
            73.187,
            72.1951219512195,
            66.096,
            63.857,
            63.51,
            61.195
           ]
          }
         ],
         "name": "2018"
        }
       ],
       "layout": {
        "autosize": true,
        "coloraxis": {
         "colorbar": {
          "title": {
           "text": "Life Exp."
          }
         },
         "colorscale": [
          [
           0,
           "rgb(0,0,131)"
          ],
          [
           0.2,
           "rgb(0,60,170)"
          ],
          [
           0.4,
           "rgb(5,255,255)"
          ],
          [
           0.6,
           "rgb(255,255,0)"
          ],
          [
           0.8,
           "rgb(250,0,0)"
          ],
          [
           1,
           "rgb(128,0,0)"
          ]
         ]
        },
        "geo": {
         "center": {
          "lat": 36.19343772664687,
          "lon": -3.6760637611053824
         },
         "domain": {
          "x": [
           0,
           1
          ],
          "y": [
           0,
           1
          ]
         },
         "projection": {
          "rotation": {
           "lon": -3.6760637611053824
          },
          "scale": 1.121166078028509
         },
         "scope": "world"
        },
        "legend": {
         "tracegroupgap": 0
        },
        "margin": {
         "t": 60
        },
        "sliders": [
         {
          "active": 1,
          "currentvalue": {
           "prefix": "Year="
          },
          "len": 0.9,
          "pad": {
           "b": 10,
           "t": 60
          },
          "steps": [
           {
            "args": [
             [
              "1960"
             ],
             {
              "frame": {
               "duration": 0,
               "redraw": true
              },
              "fromcurrent": true,
              "mode": "immediate",
              "transition": {
               "duration": 0,
               "easing": "linear"
              }
             }
            ],
            "label": "1960",
            "method": "animate"
           },
           {
            "args": [
             [
              "2018"
             ],
             {
              "frame": {
               "duration": 0,
               "redraw": true
              },
              "fromcurrent": true,
              "mode": "immediate",
              "transition": {
               "duration": 0,
               "easing": "linear"
              }
             }
            ],
            "label": "2018",
            "method": "animate"
           }
          ],
          "x": 0.1,
          "xanchor": "left",
          "y": 0,
          "yanchor": "top"
         }
        ],
        "template": {
         "data": {
          "bar": [
           {
            "error_x": {
             "color": "#2a3f5f"
            },
            "error_y": {
             "color": "#2a3f5f"
            },
            "marker": {
             "line": {
              "color": "#E5ECF6",
              "width": 0.5
             }
            },
            "type": "bar"
           }
          ],
          "barpolar": [
           {
            "marker": {
             "line": {
              "color": "#E5ECF6",
              "width": 0.5
             }
            },
            "type": "barpolar"
           }
          ],
          "carpet": [
           {
            "aaxis": {
             "endlinecolor": "#2a3f5f",
             "gridcolor": "white",
             "linecolor": "white",
             "minorgridcolor": "white",
             "startlinecolor": "#2a3f5f"
            },
            "baxis": {
             "endlinecolor": "#2a3f5f",
             "gridcolor": "white",
             "linecolor": "white",
             "minorgridcolor": "white",
             "startlinecolor": "#2a3f5f"
            },
            "type": "carpet"
           }
          ],
          "choropleth": [
           {
            "colorbar": {
             "outlinewidth": 0,
             "ticks": ""
            },
            "type": "choropleth"
           }
          ],
          "contour": [
           {
            "colorbar": {
             "outlinewidth": 0,
             "ticks": ""
            },
            "colorscale": [
             [
              0,
              "#0d0887"
             ],
             [
              0.1111111111111111,
              "#46039f"
             ],
             [
              0.2222222222222222,
              "#7201a8"
             ],
             [
              0.3333333333333333,
              "#9c179e"
             ],
             [
              0.4444444444444444,
              "#bd3786"
             ],
             [
              0.5555555555555556,
              "#d8576b"
             ],
             [
              0.6666666666666666,
              "#ed7953"
             ],
             [
              0.7777777777777778,
              "#fb9f3a"
             ],
             [
              0.8888888888888888,
              "#fdca26"
             ],
             [
              1,
              "#f0f921"
             ]
            ],
            "type": "contour"
           }
          ],
          "contourcarpet": [
           {
            "colorbar": {
             "outlinewidth": 0,
             "ticks": ""
            },
            "type": "contourcarpet"
           }
          ],
          "heatmap": [
           {
            "colorbar": {
             "outlinewidth": 0,
             "ticks": ""
            },
            "colorscale": [
             [
              0,
              "#0d0887"
             ],
             [
              0.1111111111111111,
              "#46039f"
             ],
             [
              0.2222222222222222,
              "#7201a8"
             ],
             [
              0.3333333333333333,
              "#9c179e"
             ],
             [
              0.4444444444444444,
              "#bd3786"
             ],
             [
              0.5555555555555556,
              "#d8576b"
             ],
             [
              0.6666666666666666,
              "#ed7953"
             ],
             [
              0.7777777777777778,
              "#fb9f3a"
             ],
             [
              0.8888888888888888,
              "#fdca26"
             ],
             [
              1,
              "#f0f921"
             ]
            ],
            "type": "heatmap"
           }
          ],
          "heatmapgl": [
           {
            "colorbar": {
             "outlinewidth": 0,
             "ticks": ""
            },
            "colorscale": [
             [
              0,
              "#0d0887"
             ],
             [
              0.1111111111111111,
              "#46039f"
             ],
             [
              0.2222222222222222,
              "#7201a8"
             ],
             [
              0.3333333333333333,
              "#9c179e"
             ],
             [
              0.4444444444444444,
              "#bd3786"
             ],
             [
              0.5555555555555556,
              "#d8576b"
             ],
             [
              0.6666666666666666,
              "#ed7953"
             ],
             [
              0.7777777777777778,
              "#fb9f3a"
             ],
             [
              0.8888888888888888,
              "#fdca26"
             ],
             [
              1,
              "#f0f921"
             ]
            ],
            "type": "heatmapgl"
           }
          ],
          "histogram": [
           {
            "marker": {
             "colorbar": {
              "outlinewidth": 0,
              "ticks": ""
             }
            },
            "type": "histogram"
           }
          ],
          "histogram2d": [
           {
            "colorbar": {
             "outlinewidth": 0,
             "ticks": ""
            },
            "colorscale": [
             [
              0,
              "#0d0887"
             ],
             [
              0.1111111111111111,
              "#46039f"
             ],
             [
              0.2222222222222222,
              "#7201a8"
             ],
             [
              0.3333333333333333,
              "#9c179e"
             ],
             [
              0.4444444444444444,
              "#bd3786"
             ],
             [
              0.5555555555555556,
              "#d8576b"
             ],
             [
              0.6666666666666666,
              "#ed7953"
             ],
             [
              0.7777777777777778,
              "#fb9f3a"
             ],
             [
              0.8888888888888888,
              "#fdca26"
             ],
             [
              1,
              "#f0f921"
             ]
            ],
            "type": "histogram2d"
           }
          ],
          "histogram2dcontour": [
           {
            "colorbar": {
             "outlinewidth": 0,
             "ticks": ""
            },
            "colorscale": [
             [
              0,
              "#0d0887"
             ],
             [
              0.1111111111111111,
              "#46039f"
             ],
             [
              0.2222222222222222,
              "#7201a8"
             ],
             [
              0.3333333333333333,
              "#9c179e"
             ],
             [
              0.4444444444444444,
              "#bd3786"
             ],
             [
              0.5555555555555556,
              "#d8576b"
             ],
             [
              0.6666666666666666,
              "#ed7953"
             ],
             [
              0.7777777777777778,
              "#fb9f3a"
             ],
             [
              0.8888888888888888,
              "#fdca26"
             ],
             [
              1,
              "#f0f921"
             ]
            ],
            "type": "histogram2dcontour"
           }
          ],
          "mesh3d": [
           {
            "colorbar": {
             "outlinewidth": 0,
             "ticks": ""
            },
            "type": "mesh3d"
           }
          ],
          "parcoords": [
           {
            "line": {
             "colorbar": {
              "outlinewidth": 0,
              "ticks": ""
             }
            },
            "type": "parcoords"
           }
          ],
          "pie": [
           {
            "automargin": true,
            "type": "pie"
           }
          ],
          "scatter": [
           {
            "marker": {
             "colorbar": {
              "outlinewidth": 0,
              "ticks": ""
             }
            },
            "type": "scatter"
           }
          ],
          "scatter3d": [
           {
            "line": {
             "colorbar": {
              "outlinewidth": 0,
              "ticks": ""
             }
            },
            "marker": {
             "colorbar": {
              "outlinewidth": 0,
              "ticks": ""
             }
            },
            "type": "scatter3d"
           }
          ],
          "scattercarpet": [
           {
            "marker": {
             "colorbar": {
              "outlinewidth": 0,
              "ticks": ""
             }
            },
            "type": "scattercarpet"
           }
          ],
          "scattergeo": [
           {
            "marker": {
             "colorbar": {
              "outlinewidth": 0,
              "ticks": ""
             }
            },
            "type": "scattergeo"
           }
          ],
          "scattergl": [
           {
            "marker": {
             "colorbar": {
              "outlinewidth": 0,
              "ticks": ""
             }
            },
            "type": "scattergl"
           }
          ],
          "scattermapbox": [
           {
            "marker": {
             "colorbar": {
              "outlinewidth": 0,
              "ticks": ""
             }
            },
            "type": "scattermapbox"
           }
          ],
          "scatterpolar": [
           {
            "marker": {
             "colorbar": {
              "outlinewidth": 0,
              "ticks": ""
             }
            },
            "type": "scatterpolar"
           }
          ],
          "scatterpolargl": [
           {
            "marker": {
             "colorbar": {
              "outlinewidth": 0,
              "ticks": ""
             }
            },
            "type": "scatterpolargl"
           }
          ],
          "scatterternary": [
           {
            "marker": {
             "colorbar": {
              "outlinewidth": 0,
              "ticks": ""
             }
            },
            "type": "scatterternary"
           }
          ],
          "surface": [
           {
            "colorbar": {
             "outlinewidth": 0,
             "ticks": ""
            },
            "colorscale": [
             [
              0,
              "#0d0887"
             ],
             [
              0.1111111111111111,
              "#46039f"
             ],
             [
              0.2222222222222222,
              "#7201a8"
             ],
             [
              0.3333333333333333,
              "#9c179e"
             ],
             [
              0.4444444444444444,
              "#bd3786"
             ],
             [
              0.5555555555555556,
              "#d8576b"
             ],
             [
              0.6666666666666666,
              "#ed7953"
             ],
             [
              0.7777777777777778,
              "#fb9f3a"
             ],
             [
              0.8888888888888888,
              "#fdca26"
             ],
             [
              1,
              "#f0f921"
             ]
            ],
            "type": "surface"
           }
          ],
          "table": [
           {
            "cells": {
             "fill": {
              "color": "#EBF0F8"
             },
             "line": {
              "color": "white"
             }
            },
            "header": {
             "fill": {
              "color": "#C8D4E3"
             },
             "line": {
              "color": "white"
             }
            },
            "type": "table"
           }
          ]
         },
         "layout": {
          "annotationdefaults": {
           "arrowcolor": "#2a3f5f",
           "arrowhead": 0,
           "arrowwidth": 1
          },
          "autotypenumbers": "strict",
          "coloraxis": {
           "colorbar": {
            "outlinewidth": 0,
            "ticks": ""
           }
          },
          "colorscale": {
           "diverging": [
            [
             0,
             "#8e0152"
            ],
            [
             0.1,
             "#c51b7d"
            ],
            [
             0.2,
             "#de77ae"
            ],
            [
             0.3,
             "#f1b6da"
            ],
            [
             0.4,
             "#fde0ef"
            ],
            [
             0.5,
             "#f7f7f7"
            ],
            [
             0.6,
             "#e6f5d0"
            ],
            [
             0.7,
             "#b8e186"
            ],
            [
             0.8,
             "#7fbc41"
            ],
            [
             0.9,
             "#4d9221"
            ],
            [
             1,
             "#276419"
            ]
           ],
           "sequential": [
            [
             0,
             "#0d0887"
            ],
            [
             0.1111111111111111,
             "#46039f"
            ],
            [
             0.2222222222222222,
             "#7201a8"
            ],
            [
             0.3333333333333333,
             "#9c179e"
            ],
            [
             0.4444444444444444,
             "#bd3786"
            ],
            [
             0.5555555555555556,
             "#d8576b"
            ],
            [
             0.6666666666666666,
             "#ed7953"
            ],
            [
             0.7777777777777778,
             "#fb9f3a"
            ],
            [
             0.8888888888888888,
             "#fdca26"
            ],
            [
             1,
             "#f0f921"
            ]
           ],
           "sequentialminus": [
            [
             0,
             "#0d0887"
            ],
            [
             0.1111111111111111,
             "#46039f"
            ],
            [
             0.2222222222222222,
             "#7201a8"
            ],
            [
             0.3333333333333333,
             "#9c179e"
            ],
            [
             0.4444444444444444,
             "#bd3786"
            ],
            [
             0.5555555555555556,
             "#d8576b"
            ],
            [
             0.6666666666666666,
             "#ed7953"
            ],
            [
             0.7777777777777778,
             "#fb9f3a"
            ],
            [
             0.8888888888888888,
             "#fdca26"
            ],
            [
             1,
             "#f0f921"
            ]
           ]
          },
          "colorway": [
           "#636efa",
           "#EF553B",
           "#00cc96",
           "#ab63fa",
           "#FFA15A",
           "#19d3f3",
           "#FF6692",
           "#B6E880",
           "#FF97FF",
           "#FECB52"
          ],
          "font": {
           "color": "#2a3f5f"
          },
          "geo": {
           "bgcolor": "white",
           "lakecolor": "white",
           "landcolor": "#E5ECF6",
           "showlakes": true,
           "showland": true,
           "subunitcolor": "white"
          },
          "hoverlabel": {
           "align": "left"
          },
          "hovermode": "closest",
          "mapbox": {
           "style": "light"
          },
          "paper_bgcolor": "white",
          "plot_bgcolor": "#E5ECF6",
          "polar": {
           "angularaxis": {
            "gridcolor": "white",
            "linecolor": "white",
            "ticks": ""
           },
           "bgcolor": "#E5ECF6",
           "radialaxis": {
            "gridcolor": "white",
            "linecolor": "white",
            "ticks": ""
           }
          },
          "scene": {
           "xaxis": {
            "backgroundcolor": "#E5ECF6",
            "gridcolor": "white",
            "gridwidth": 2,
            "linecolor": "white",
            "showbackground": true,
            "ticks": "",
            "zerolinecolor": "white"
           },
           "yaxis": {
            "backgroundcolor": "#E5ECF6",
            "gridcolor": "white",
            "gridwidth": 2,
            "linecolor": "white",
            "showbackground": true,
            "ticks": "",
            "zerolinecolor": "white"
           },
           "zaxis": {
            "backgroundcolor": "#E5ECF6",
            "gridcolor": "white",
            "gridwidth": 2,
            "linecolor": "white",
            "showbackground": true,
            "ticks": "",
            "zerolinecolor": "white"
           }
          },
          "shapedefaults": {
           "line": {
            "color": "#2a3f5f"
           }
          },
          "ternary": {
           "aaxis": {
            "gridcolor": "white",
            "linecolor": "white",
            "ticks": ""
           },
           "baxis": {
            "gridcolor": "white",
            "linecolor": "white",
            "ticks": ""
           },
           "bgcolor": "#E5ECF6",
           "caxis": {
            "gridcolor": "white",
            "linecolor": "white",
            "ticks": ""
           }
          },
          "title": {
           "x": 0.05
          },
          "xaxis": {
           "automargin": true,
           "gridcolor": "white",
           "linecolor": "white",
           "ticks": "",
           "title": {
            "standoff": 15
           },
           "zerolinecolor": "white",
           "zerolinewidth": 2
          },
          "yaxis": {
           "automargin": true,
           "gridcolor": "white",
           "linecolor": "white",
           "ticks": "",
           "title": {
            "standoff": 15
           },
           "zerolinecolor": "white",
           "zerolinewidth": 2
          }
         }
        },
        "updatemenus": [
         {
          "active": 0,
          "buttons": [
           {
            "args": [
             null,
             {
              "frame": {
               "duration": 2000,
               "redraw": true
              },
              "fromcurrent": true,
              "mode": "immediate",
              "transition": {
               "duration": 500,
               "easing": "linear"
              }
             }
            ],
            "label": "&#9654;",
            "method": "animate"
           },
           {
            "args": [
             [
              null
             ],
             {
              "frame": {
               "duration": 0,
               "redraw": true
              },
              "fromcurrent": true,
              "mode": "immediate",
              "transition": {
               "duration": 0,
               "easing": "linear"
              }
             }
            ],
            "label": "&#9724;",
            "method": "animate"
           }
          ],
          "direction": "left",
          "pad": {
           "r": 10,
           "t": 70
          },
          "showactive": false,
          "type": "buttons",
          "x": 0.1,
          "xanchor": "right",
          "y": 0,
          "yanchor": "top"
         }
        ]
       }
      },
      "image/png": "[encoded data removed]",
      "text/html": [
       "<div>                            <div id=\"9ccd7639-7674-4db5-9e81-9aa12718bae0\" class=\"plotly-graph-div\" style=\"height:525px; width:100%;\"></div>            <script type=\"text/javascript\">                require([\"plotly\"], function(Plotly) {                    window.PLOTLYENV=window.PLOTLYENV || {};                                    if (document.getElementById(\"9ccd7639-7674-4db5-9e81-9aa12718bae0\")) {                    Plotly.newPlot(                        \"9ccd7639-7674-4db5-9e81-9aa12718bae0\",                        [{\"coloraxis\": \"coloraxis\", \"geo\": \"geo\", \"hovertemplate\": \"<b>%{hovertext}</b><br><br>Year=1960<br>Country Code=%{location}<br>Life Exp.=%{z}<extra></extra>\", \"hovertext\": [\"Aruba\", \"Afghanistan\", \"Angola\", \"Albania\", \"Andorra\", \"Arab World\", \"United Arab Emirates\", \"Argentina\", \"Armenia\", \"American Samoa\", \"Antigua and Barbuda\", \"Australia\", \"Austria\", \"Azerbaijan\", \"Burundi\", \"Belgium\", \"Benin\", \"Burkina Faso\", \"Bangladesh\", \"Bulgaria\", \"Bahrain\", \"Bahamas, The\", \"Bosnia and Herzegovina\", \"Belarus\", \"Belize\", \"Bermuda\", \"Bolivia\", \"Brazil\", \"Barbados\", \"Brunei Darussalam\", \"Bhutan\", \"Botswana\", \"Central African Republic\", \"Canada\", \"Central Europe and the Baltics\", \"Switzerland\", \"Channel Islands\", \"Chile\", \"China\", \"Cote d'Ivoire\", \"Cameroon\", \"Congo, Dem. Rep.\", \"Congo, Rep.\", \"Colombia\", \"Comoros\", \"Cabo Verde\", \"Costa Rica\", \"Caribbean small states\", \"Cuba\", \"Curacao\", \"Cayman Islands\", \"Cyprus\", \"Czech Republic\", \"Germany\", \"Djibouti\", \"Dominica\", \"Denmark\", \"Dominican Republic\", \"Algeria\", \"East Asia & Pacific (excluding high income)\", \"Early-demographic dividend\", \"East Asia & Pacific\", \"Europe & Central Asia (excluding high income)\", \"Europe & Central Asia\", \"Ecuador\", \"Egypt, Arab Rep.\", \"Euro area\", \"Eritrea\", \"Spain\", \"Estonia\", \"Ethiopia\", \"European Union\", \"Fragile and conflict affected situations\", \"Finland\", \"Fiji\", \"France\", \"Faroe Islands\", \"Micronesia, Fed. Sts.\", \"Gabon\", \"United Kingdom\", \"Georgia\", \"Ghana\", \"Gibraltar\", \"Guinea\", \"Gambia, The\", \"Guinea-Bissau\", \"Equatorial Guinea\", \"Greece\", \"Grenada\", \"Greenland\", \"Guatemala\", \"Guam\", \"Guyana\", \"High income\", \"Hong Kong SAR, China\", \"Honduras\", \"Heavily indebted poor countries (HIPC)\", \"Croatia\", \"Haiti\", \"Hungary\", \"IBRD only\", \"IDA & IBRD total\", \"IDA total\", \"IDA blend\", \"Indonesia\", \"IDA only\", \"Isle of Man\", \"India\", \"Not classified\", \"Ireland\", \"Iran, Islamic Rep.\", \"Iraq\", \"Iceland\", \"Israel\", \"Italy\", \"Jamaica\", \"Jordan\", \"Japan\", \"Kazakhstan\", \"Kenya\", \"Kyrgyz Republic\", \"Cambodia\", \"Kiribati\", \"St. Kitts and Nevis\", \"Korea, Rep.\", \"Kuwait\", \"Latin America & Caribbean (excluding high income)\", \"Lao PDR\", \"Lebanon\", \"Liberia\", \"Libya\", \"St. Lucia\", \"Latin America & Caribbean\", \"Least developed countries: UN classification\", \"Low income\", \"Liechtenstein\", \"Sri Lanka\", \"Lower middle income\", \"Low & middle income\", \"Lesotho\", \"Late-demographic dividend\", \"Lithuania\", \"Luxembourg\", \"Latvia\", \"Macao SAR, China\", \"St. Martin (French part)\", \"Morocco\", \"Monaco\", \"Moldova\", \"Madagascar\", \"Maldives\", \"Middle East & North Africa\", \"Mexico\", \"Marshall Islands\", \"Middle income\", \"North Macedonia\", \"Mali\", \"Malta\", \"Myanmar\", \"Middle East & North Africa (excluding high income)\", \"Montenegro\", \"Mongolia\", \"Northern Mariana Islands\", \"Mozambique\", \"Mauritania\", \"Mauritius\", \"Malawi\", \"Malaysia\", \"North America\", \"Namibia\", \"New Caledonia\", \"Niger\", \"Nigeria\", \"Nicaragua\", \"Netherlands\", \"Norway\", \"Nepal\", \"Nauru\", \"New Zealand\", \"OECD members\", \"Oman\", \"Other small states\", \"Pakistan\", \"Panama\", \"Peru\", \"Philippines\", \"Palau\", \"Papua New Guinea\", \"Poland\", \"Pre-demographic dividend\", \"Puerto Rico\", \"Korea, Dem. People\\u2019s Rep.\", \"Portugal\", \"Paraguay\", \"West Bank and Gaza\", \"Pacific island small states\", \"Post-demographic dividend\", \"French Polynesia\", \"Qatar\", \"Romania\", \"Russian Federation\", \"Rwanda\", \"South Asia\", \"Saudi Arabia\", \"Sudan\", \"Senegal\", \"Singapore\", \"Solomon Islands\", \"Sierra Leone\", \"El Salvador\", \"San Marino\", \"Somalia\", \"Serbia\", \"Sub-Saharan Africa (excluding high income)\", \"South Sudan\", \"Sub-Saharan Africa\", \"Small states\", \"Sao Tome and Principe\", \"Suriname\", \"Slovak Republic\", \"Slovenia\", \"Sweden\", \"Eswatini\", \"Sint Maarten (Dutch part)\", \"Seychelles\", \"Syrian Arab Republic\", \"Turks and Caicos Islands\", \"Chad\", \"East Asia & Pacific (IDA & IBRD countries)\", \"Europe & Central Asia (IDA & IBRD countries)\", \"Togo\", \"Thailand\", \"Tajikistan\", \"Turkmenistan\", \"Latin America & the Caribbean (IDA & IBRD countries)\", \"Timor-Leste\", \"Middle East & North Africa (IDA & IBRD countries)\", \"Tonga\", \"South Asia (IDA & IBRD)\", \"Sub-Saharan Africa (IDA & IBRD countries)\", \"Trinidad and Tobago\", \"Tunisia\", \"Turkey\", \"Tuvalu\", \"Tanzania\", \"Uganda\", \"Ukraine\", \"Upper middle income\", \"Uruguay\", \"United States\", \"Uzbekistan\", \"St. Vincent and the Grenadines\", \"Venezuela, RB\", \"British Virgin Islands\", \"Virgin Islands (U.S.)\", \"Vietnam\", \"Vanuatu\", \"World\", \"Samoa\", \"Kosovo\", \"Yemen, Rep.\", \"South Africa\", \"Zambia\", \"Zimbabwe\"], \"locationmode\": \"ISO-3\", \"locations\": [\"ABW\", \"AFG\", \"AGO\", \"ALB\", \"AND\", \"ARB\", \"ARE\", \"ARG\", \"ARM\", \"ASM\", \"ATG\", \"AUS\", \"AUT\", \"AZE\", \"BDI\", \"BEL\", \"BEN\", \"BFA\", \"BGD\", \"BGR\", \"BHR\", \"BHS\", \"BIH\", \"BLR\", \"BLZ\", \"BMU\", \"BOL\", \"BRA\", \"BRB\", \"BRN\", \"BTN\", \"BWA\", \"CAF\", \"CAN\", \"CEB\", \"CHE\", \"CHI\", \"CHL\", \"CHN\", \"CIV\", \"CMR\", \"COD\", \"COG\", \"COL\", \"COM\", \"CPV\", \"CRI\", \"CSS\", \"CUB\", \"CUW\", \"CYM\", \"CYP\", \"CZE\", \"DEU\", \"DJI\", \"DMA\", \"DNK\", \"DOM\", \"DZA\", \"EAP\", \"EAR\", \"EAS\", \"ECA\", \"ECS\", \"ECU\", \"EGY\", \"EMU\", \"ERI\", \"ESP\", \"EST\", \"ETH\", \"EUU\", \"FCS\", \"FIN\", \"FJI\", \"FRA\", \"FRO\", \"FSM\", \"GAB\", \"GBR\", \"GEO\", \"GHA\", \"GIB\", \"GIN\", \"GMB\", \"GNB\", \"GNQ\", \"GRC\", \"GRD\", \"GRL\", \"GTM\", \"GUM\", \"GUY\", \"HIC\", \"HKG\", \"HND\", \"HPC\", \"HRV\", \"HTI\", \"HUN\", \"IBD\", \"IBT\", \"IDA\", \"IDB\", \"IDN\", \"IDX\", \"IMN\", \"IND\", \"INX\", \"IRL\", \"IRN\", \"IRQ\", \"ISL\", \"ISR\", \"ITA\", \"JAM\", \"JOR\", \"JPN\", \"KAZ\", \"KEN\", \"KGZ\", \"KHM\", \"KIR\", \"KNA\", \"KOR\", \"KWT\", \"LAC\", \"LAO\", \"LBN\", \"LBR\", \"LBY\", \"LCA\", \"LCN\", \"LDC\", \"LIC\", \"LIE\", \"LKA\", \"LMC\", \"LMY\", \"LSO\", \"LTE\", \"LTU\", \"LUX\", \"LVA\", \"MAC\", \"MAF\", \"MAR\", \"MCO\", \"MDA\", \"MDG\", \"MDV\", \"MEA\", \"MEX\", \"MHL\", \"MIC\", \"MKD\", \"MLI\", \"MLT\", \"MMR\", \"MNA\", \"MNE\", \"MNG\", \"MNP\", \"MOZ\", \"MRT\", \"MUS\", \"MWI\", \"MYS\", \"NAC\", \"NAM\", \"NCL\", \"NER\", \"NGA\", \"NIC\", \"NLD\", \"NOR\", \"NPL\", \"NRU\", \"NZL\", \"OED\", \"OMN\", \"OSS\", \"PAK\", \"PAN\", \"PER\", \"PHL\", \"PLW\", \"PNG\", \"POL\", \"PRE\", \"PRI\", \"PRK\", \"PRT\", \"PRY\", \"PSE\", \"PSS\", \"PST\", \"PYF\", \"QAT\", \"ROU\", \"RUS\", \"RWA\", \"SAS\", \"SAU\", \"SDN\", \"SEN\", \"SGP\", \"SLB\", \"SLE\", \"SLV\", \"SMR\", \"SOM\", \"SRB\", \"SSA\", \"SSD\", \"SSF\", \"SST\", \"STP\", \"SUR\", \"SVK\", \"SVN\", \"SWE\", \"SWZ\", \"SXM\", \"SYC\", \"SYR\", \"TCA\", \"TCD\", \"TEA\", \"TEC\", \"TGO\", \"THA\", \"TJK\", \"TKM\", \"TLA\", \"TLS\", \"TMN\", \"TON\", \"TSA\", \"TSS\", \"TTO\", \"TUN\", \"TUR\", \"TUV\", \"TZA\", \"UGA\", \"UKR\", \"UMC\", \"URY\", \"USA\", \"UZB\", \"VCT\", \"VEN\", \"VGB\", \"VIR\", \"VNM\", \"VUT\", \"WLD\", \"WSM\", \"XKX\", \"YEM\", \"ZAF\", \"ZMB\", \"ZWE\"], \"name\": \"\", \"type\": \"choropleth\", \"z\": [65.662, 32.446, 37.524, 62.283, null, 46.5469088857838, 51.537, 65.055, 65.972, null, 61.968, 70.8170731707317, 68.5856097560976, 61.034, 41.281, 69.7019512195122, 37.271, 34.432, 45.379, 69.2475609756098, 51.869, 64.74, 60.353, 67.7080975609756, 59.981, null, 41.82, 54.143, 64.472, 54.81, 34.526, 49.179, 36.249, 71.1331707317073, 67.8213886391755, 71.3134146341463, 70.739, 57.219, 43.725, 36.095, 41.785, 41.098, 45.721, 57.269, 41.447, 48.461, 60.381, 62.7462959437032, 63.834, null, null, 69.618, 70.3487804878049, 69.3100243902439, 44.038, null, 72.1765853658537, 51.602, 46.141, 45.6132420031653, 45.0908980712581, 48.4158990605597, 63.18187385868, 67.0265416102025, 52.982, 48.042, 69.2905809133318, 38.419, 69.1092682926829, 67.9029024390244, 38.419, 69.0208666209947, 40.5747374121048, 68.819756097561, 60.811, 69.8682926829268, null, 54.513, 39.694, 71.1268292682927, 63.651, 45.843, null, 34.89, 32.054, 37.478, 36.535, 68.1639024390244, 62.231, null, 46.702, 60.97, 60.26, 68.4651278483481, 66.9616829268293, 46.274, 39.7796576682467, 64.6086585365854, 41.762, 68.0031707317073, 48.6761772149084, 47.5303441920779, 41.7404850978892, 43.2509636036738, 46.664, 41.0366595847928, null, 41.422, null, 69.796512195122, 44.947, 48.022, 73.4231707317073, null, 69.1239024390244, 64.77, 52.651, 67.6660975609756, 58.3675853658537, 46.76, 56.1280731707317, 41.242, 47.061, null, 55.4155365853659, 59.343, 55.6685130080273, 43.204, 63.267, 34.264, 42.609, 56.739, 56.0776667120601, 40.3074848432961, 39.724770039454, null, 59.369, 45.118916244594, 47.0813446290416, 47.919, 50.2472965798124, 69.8473170731707, 68.4463902439024, 69.7868292682927, 64.828, null, 48.458, null, 61.995, 39.962, 37.343, 46.4416442088771, 57.077, null, 47.5846815930701, 60.633, 28.199, 69.433243902439, 42.381, 46.3631075668055, 63.82, 48.392, null, 39.439, 44.432, 58.7452195121951, 36.672, 59.991, 69.89360375709, 46.483, 58.6390243902439, 35.053, 36.976, 46.998, 73.3926829268293, 73.549756097561, 35.583, null, 71.2365853658537, 67.2370157246502, 42.672, 51.4150047964335, 45.299, 60.864, 48.012, 61.105, null, 38.935, 67.6804878048781, 39.1361000183987, 68.7196097560976, 51.297, 63.2729024390244, 63.881, null, 56.5054971411929, 68.8155446840975, 56.282, 61.094, 65.6424390243903, 66.0552926829268, 42.616, 42.120208188067, 45.638, 48.194, 38.223, 65.6598292682927, 48.123, 31.566, 49.95, null, 36.976, null, 40.3244374679549, 31.697, 40.3778979179808, 55.019876733748, 50.378, 59.682, 69.9236585365854, 68.9780487804878, 73.0056097560976, 43.572, null, null, 51.971, null, 38.02, 45.5397402930785, 63.7951821308772, 40.297, 54.701, 50.613, 54.471, 55.6534267815011, 33.729, 46.3631075668055, 59.885, 42.120208188067, 40.3778979179808, 62.222, 42.021, 45.369, null, 43.6, 44.359, 68.2995365853659, 49.3490137155296, 67.783, 69.7707317073171, 58.835, 59.26, 59.831, null, 66.2248536585366, 59.039, 48.975, 52.578366546371, 56.902, null, 29.919, 48.406, 46.687, 53.019]}],                        {\"coloraxis\": {\"colorbar\": {\"title\": {\"text\": \"Life Exp.\"}}, \"colorscale\": [[0.0, \"rgb(0,0,131)\"], [0.2, \"rgb(0,60,170)\"], [0.4, \"rgb(5,255,255)\"], [0.6, \"rgb(255,255,0)\"], [0.8, \"rgb(250,0,0)\"], [1.0, \"rgb(128,0,0)\"]]}, \"geo\": {\"center\": {}, \"domain\": {\"x\": [0.0, 1.0], \"y\": [0.0, 1.0]}, \"scope\": \"world\"}, \"legend\": {\"tracegroupgap\": 0}, \"margin\": {\"t\": 60}, \"sliders\": [{\"active\": 0, \"currentvalue\": {\"prefix\": \"Year=\"}, \"len\": 0.9, \"pad\": {\"b\": 10, \"t\": 60}, \"steps\": [{\"args\": [[\"1960\"], {\"frame\": {\"duration\": 0, \"redraw\": true}, \"fromcurrent\": true, \"mode\": \"immediate\", \"transition\": {\"duration\": 0, \"easing\": \"linear\"}}], \"label\": \"1960\", \"method\": \"animate\"}, {\"args\": [[\"2018\"], {\"frame\": {\"duration\": 0, \"redraw\": true}, \"fromcurrent\": true, \"mode\": \"immediate\", \"transition\": {\"duration\": 0, \"easing\": \"linear\"}}], \"label\": \"2018\", \"method\": \"animate\"}], \"x\": 0.1, \"xanchor\": \"left\", \"y\": 0, \"yanchor\": \"top\"}], \"template\": {\"data\": {\"bar\": [{\"error_x\": {\"color\": \"#2a3f5f\"}, \"error_y\": {\"color\": \"#2a3f5f\"}, \"marker\": {\"line\": {\"color\": \"#E5ECF6\", \"width\": 0.5}}, \"type\": \"bar\"}], \"barpolar\": [{\"marker\": {\"line\": {\"color\": \"#E5ECF6\", \"width\": 0.5}}, \"type\": \"barpolar\"}], \"carpet\": [{\"aaxis\": {\"endlinecolor\": \"#2a3f5f\", \"gridcolor\": \"white\", \"linecolor\": \"white\", \"minorgridcolor\": \"white\", \"startlinecolor\": \"#2a3f5f\"}, \"baxis\": {\"endlinecolor\": \"#2a3f5f\", \"gridcolor\": \"white\", \"linecolor\": \"white\", \"minorgridcolor\": \"white\", \"startlinecolor\": \"#2a3f5f\"}, \"type\": \"carpet\"}], \"choropleth\": [{\"colorbar\": {\"outlinewidth\": 0, \"ticks\": \"\"}, \"type\": \"choropleth\"}], \"contour\": [{\"colorbar\": {\"outlinewidth\": 0, \"ticks\": \"\"}, \"colorscale\": [[0.0, \"#0d0887\"], [0.1111111111111111, \"#46039f\"], [0.2222222222222222, \"#7201a8\"], [0.3333333333333333, \"#9c179e\"], [0.4444444444444444, \"#bd3786\"], [0.5555555555555556, \"#d8576b\"], [0.6666666666666666, \"#ed7953\"], [0.7777777777777778, \"#fb9f3a\"], [0.8888888888888888, \"#fdca26\"], [1.0, \"#f0f921\"]], \"type\": \"contour\"}], \"contourcarpet\": [{\"colorbar\": {\"outlinewidth\": 0, \"ticks\": \"\"}, \"type\": \"contourcarpet\"}], \"heatmap\": [{\"colorbar\": {\"outlinewidth\": 0, \"ticks\": \"\"}, \"colorscale\": [[0.0, \"#0d0887\"], [0.1111111111111111, \"#46039f\"], [0.2222222222222222, \"#7201a8\"], [0.3333333333333333, \"#9c179e\"], [0.4444444444444444, \"#bd3786\"], [0.5555555555555556, \"#d8576b\"], [0.6666666666666666, \"#ed7953\"], [0.7777777777777778, \"#fb9f3a\"], [0.8888888888888888, \"#fdca26\"], [1.0, \"#f0f921\"]], \"type\": \"heatmap\"}], \"heatmapgl\": [{\"colorbar\": {\"outlinewidth\": 0, \"ticks\": \"\"}, \"colorscale\": [[0.0, \"#0d0887\"], [0.1111111111111111, \"#46039f\"], [0.2222222222222222, \"#7201a8\"], [0.3333333333333333, \"#9c179e\"], [0.4444444444444444, \"#bd3786\"], [0.5555555555555556, \"#d8576b\"], [0.6666666666666666, \"#ed7953\"], [0.7777777777777778, \"#fb9f3a\"], [0.8888888888888888, \"#fdca26\"], [1.0, \"#f0f921\"]], \"type\": \"heatmapgl\"}], \"histogram\": [{\"marker\": {\"colorbar\": {\"outlinewidth\": 0, \"ticks\": \"\"}}, \"type\": \"histogram\"}], \"histogram2d\": [{\"colorbar\": {\"outlinewidth\": 0, \"ticks\": \"\"}, \"colorscale\": [[0.0, \"#0d0887\"], [0.1111111111111111, \"#46039f\"], [0.2222222222222222, \"#7201a8\"], [0.3333333333333333, \"#9c179e\"], [0.4444444444444444, \"#bd3786\"], [0.5555555555555556, \"#d8576b\"], [0.6666666666666666, \"#ed7953\"], [0.7777777777777778, \"#fb9f3a\"], [0.8888888888888888, \"#fdca26\"], [1.0, \"#f0f921\"]], \"type\": \"histogram2d\"}], \"histogram2dcontour\": [{\"colorbar\": {\"outlinewidth\": 0, \"ticks\": \"\"}, \"colorscale\": [[0.0, \"#0d0887\"], [0.1111111111111111, \"#46039f\"], [0.2222222222222222, \"#7201a8\"], [0.3333333333333333, \"#9c179e\"], [0.4444444444444444, \"#bd3786\"], [0.5555555555555556, \"#d8576b\"], [0.6666666666666666, \"#ed7953\"], [0.7777777777777778, \"#fb9f3a\"], [0.8888888888888888, \"#fdca26\"], [1.0, \"#f0f921\"]], \"type\": \"histogram2dcontour\"}], \"mesh3d\": [{\"colorbar\": {\"outlinewidth\": 0, \"ticks\": \"\"}, \"type\": \"mesh3d\"}], \"parcoords\": [{\"line\": {\"colorbar\": {\"outlinewidth\": 0, \"ticks\": \"\"}}, \"type\": \"parcoords\"}], \"pie\": [{\"automargin\": true, \"type\": \"pie\"}], \"scatter\": [{\"marker\": {\"colorbar\": {\"outlinewidth\": 0, \"ticks\": \"\"}}, \"type\": \"scatter\"}], \"scatter3d\": [{\"line\": {\"colorbar\": {\"outlinewidth\": 0, \"ticks\": \"\"}}, \"marker\": {\"colorbar\": {\"outlinewidth\": 0, \"ticks\": \"\"}}, \"type\": \"scatter3d\"}], \"scattercarpet\": [{\"marker\": {\"colorbar\": {\"outlinewidth\": 0, \"ticks\": \"\"}}, \"type\": \"scattercarpet\"}], \"scattergeo\": [{\"marker\": {\"colorbar\": {\"outlinewidth\": 0, \"ticks\": \"\"}}, \"type\": \"scattergeo\"}], \"scattergl\": [{\"marker\": {\"colorbar\": {\"outlinewidth\": 0, \"ticks\": \"\"}}, \"type\": \"scattergl\"}], \"scattermapbox\": [{\"marker\": {\"colorbar\": {\"outlinewidth\": 0, \"ticks\": \"\"}}, \"type\": \"scattermapbox\"}], \"scatterpolar\": [{\"marker\": {\"colorbar\": {\"outlinewidth\": 0, \"ticks\": \"\"}}, \"type\": \"scatterpolar\"}], \"scatterpolargl\": [{\"marker\": {\"colorbar\": {\"outlinewidth\": 0, \"ticks\": \"\"}}, \"type\": \"scatterpolargl\"}], \"scatterternary\": [{\"marker\": {\"colorbar\": {\"outlinewidth\": 0, \"ticks\": \"\"}}, \"type\": \"scatterternary\"}], \"surface\": [{\"colorbar\": {\"outlinewidth\": 0, \"ticks\": \"\"}, \"colorscale\": [[0.0, \"#0d0887\"], [0.1111111111111111, \"#46039f\"], [0.2222222222222222, \"#7201a8\"], [0.3333333333333333, \"#9c179e\"], [0.4444444444444444, \"#bd3786\"], [0.5555555555555556, \"#d8576b\"], [0.6666666666666666, \"#ed7953\"], [0.7777777777777778, \"#fb9f3a\"], [0.8888888888888888, \"#fdca26\"], [1.0, \"#f0f921\"]], \"type\": \"surface\"}], \"table\": [{\"cells\": {\"fill\": {\"color\": \"#EBF0F8\"}, \"line\": {\"color\": \"white\"}}, \"header\": {\"fill\": {\"color\": \"#C8D4E3\"}, \"line\": {\"color\": \"white\"}}, \"type\": \"table\"}]}, \"layout\": {\"annotationdefaults\": {\"arrowcolor\": \"#2a3f5f\", \"arrowhead\": 0, \"arrowwidth\": 1}, \"autotypenumbers\": \"strict\", \"coloraxis\": {\"colorbar\": {\"outlinewidth\": 0, \"ticks\": \"\"}}, \"colorscale\": {\"diverging\": [[0, \"#8e0152\"], [0.1, \"#c51b7d\"], [0.2, \"#de77ae\"], [0.3, \"#f1b6da\"], [0.4, \"#fde0ef\"], [0.5, \"#f7f7f7\"], [0.6, \"#e6f5d0\"], [0.7, \"#b8e186\"], [0.8, \"#7fbc41\"], [0.9, \"#4d9221\"], [1, \"#276419\"]], \"sequential\": [[0.0, \"#0d0887\"], [0.1111111111111111, \"#46039f\"], [0.2222222222222222, \"#7201a8\"], [0.3333333333333333, \"#9c179e\"], [0.4444444444444444, \"#bd3786\"], [0.5555555555555556, \"#d8576b\"], [0.6666666666666666, \"#ed7953\"], [0.7777777777777778, \"#fb9f3a\"], [0.8888888888888888, \"#fdca26\"], [1.0, \"#f0f921\"]], \"sequentialminus\": [[0.0, \"#0d0887\"], [0.1111111111111111, \"#46039f\"], [0.2222222222222222, \"#7201a8\"], [0.3333333333333333, \"#9c179e\"], [0.4444444444444444, \"#bd3786\"], [0.5555555555555556, \"#d8576b\"], [0.6666666666666666, \"#ed7953\"], [0.7777777777777778, \"#fb9f3a\"], [0.8888888888888888, \"#fdca26\"], [1.0, \"#f0f921\"]]}, \"colorway\": [\"#636efa\", \"#EF553B\", \"#00cc96\", \"#ab63fa\", \"#FFA15A\", \"#19d3f3\", \"#FF6692\", \"#B6E880\", \"#FF97FF\", \"#FECB52\"], \"font\": {\"color\": \"#2a3f5f\"}, \"geo\": {\"bgcolor\": \"white\", \"lakecolor\": \"white\", \"landcolor\": \"#E5ECF6\", \"showlakes\": true, \"showland\": true, \"subunitcolor\": \"white\"}, \"hoverlabel\": {\"align\": \"left\"}, \"hovermode\": \"closest\", \"mapbox\": {\"style\": \"light\"}, \"paper_bgcolor\": \"white\", \"plot_bgcolor\": \"#E5ECF6\", \"polar\": {\"angularaxis\": {\"gridcolor\": \"white\", \"linecolor\": \"white\", \"ticks\": \"\"}, \"bgcolor\": \"#E5ECF6\", \"radialaxis\": {\"gridcolor\": \"white\", \"linecolor\": \"white\", \"ticks\": \"\"}}, \"scene\": {\"xaxis\": {\"backgroundcolor\": \"#E5ECF6\", \"gridcolor\": \"white\", \"gridwidth\": 2, \"linecolor\": \"white\", \"showbackground\": true, \"ticks\": \"\", \"zerolinecolor\": \"white\"}, \"yaxis\": {\"backgroundcolor\": \"#E5ECF6\", \"gridcolor\": \"white\", \"gridwidth\": 2, \"linecolor\": \"white\", \"showbackground\": true, \"ticks\": \"\", \"zerolinecolor\": \"white\"}, \"zaxis\": {\"backgroundcolor\": \"#E5ECF6\", \"gridcolor\": \"white\", \"gridwidth\": 2, \"linecolor\": \"white\", \"showbackground\": true, \"ticks\": \"\", \"zerolinecolor\": \"white\"}}, \"shapedefaults\": {\"line\": {\"color\": \"#2a3f5f\"}}, \"ternary\": {\"aaxis\": {\"gridcolor\": \"white\", \"linecolor\": \"white\", \"ticks\": \"\"}, \"baxis\": {\"gridcolor\": \"white\", \"linecolor\": \"white\", \"ticks\": \"\"}, \"bgcolor\": \"#E5ECF6\", \"caxis\": {\"gridcolor\": \"white\", \"linecolor\": \"white\", \"ticks\": \"\"}}, \"title\": {\"x\": 0.05}, \"xaxis\": {\"automargin\": true, \"gridcolor\": \"white\", \"linecolor\": \"white\", \"ticks\": \"\", \"title\": {\"standoff\": 15}, \"zerolinecolor\": \"white\", \"zerolinewidth\": 2}, \"yaxis\": {\"automargin\": true, \"gridcolor\": \"white\", \"linecolor\": \"white\", \"ticks\": \"\", \"title\": {\"standoff\": 15}, \"zerolinecolor\": \"white\", \"zerolinewidth\": 2}}}, \"updatemenus\": [{\"buttons\": [{\"args\": [null, {\"frame\": {\"duration\": 2000, \"redraw\": true}, \"fromcurrent\": true, \"mode\": \"immediate\", \"transition\": {\"duration\": 500, \"easing\": \"linear\"}}], \"label\": \"&#9654;\", \"method\": \"animate\"}, {\"args\": [[null], {\"frame\": {\"duration\": 0, \"redraw\": true}, \"fromcurrent\": true, \"mode\": \"immediate\", \"transition\": {\"duration\": 0, \"easing\": \"linear\"}}], \"label\": \"&#9724;\", \"method\": \"animate\"}], \"direction\": \"left\", \"pad\": {\"r\": 10, \"t\": 70}, \"showactive\": false, \"type\": \"buttons\", \"x\": 0.1, \"xanchor\": \"right\", \"y\": 0, \"yanchor\": \"top\"}]},                        {\"responsive\": true}                    ).then(function(){\n",
       "                            Plotly.addFrames('9ccd7639-7674-4db5-9e81-9aa12718bae0', [{\"data\": [{\"coloraxis\": \"coloraxis\", \"geo\": \"geo\", \"hovertemplate\": \"<b>%{hovertext}</b><br><br>Year=1960<br>Country Code=%{location}<br>Life Exp.=%{z}<extra></extra>\", \"hovertext\": [\"Aruba\", \"Afghanistan\", \"Angola\", \"Albania\", \"Andorra\", \"Arab World\", \"United Arab Emirates\", \"Argentina\", \"Armenia\", \"American Samoa\", \"Antigua and Barbuda\", \"Australia\", \"Austria\", \"Azerbaijan\", \"Burundi\", \"Belgium\", \"Benin\", \"Burkina Faso\", \"Bangladesh\", \"Bulgaria\", \"Bahrain\", \"Bahamas, The\", \"Bosnia and Herzegovina\", \"Belarus\", \"Belize\", \"Bermuda\", \"Bolivia\", \"Brazil\", \"Barbados\", \"Brunei Darussalam\", \"Bhutan\", \"Botswana\", \"Central African Republic\", \"Canada\", \"Central Europe and the Baltics\", \"Switzerland\", \"Channel Islands\", \"Chile\", \"China\", \"Cote d'Ivoire\", \"Cameroon\", \"Congo, Dem. Rep.\", \"Congo, Rep.\", \"Colombia\", \"Comoros\", \"Cabo Verde\", \"Costa Rica\", \"Caribbean small states\", \"Cuba\", \"Curacao\", \"Cayman Islands\", \"Cyprus\", \"Czech Republic\", \"Germany\", \"Djibouti\", \"Dominica\", \"Denmark\", \"Dominican Republic\", \"Algeria\", \"East Asia & Pacific (excluding high income)\", \"Early-demographic dividend\", \"East Asia & Pacific\", \"Europe & Central Asia (excluding high income)\", \"Europe & Central Asia\", \"Ecuador\", \"Egypt, Arab Rep.\", \"Euro area\", \"Eritrea\", \"Spain\", \"Estonia\", \"Ethiopia\", \"European Union\", \"Fragile and conflict affected situations\", \"Finland\", \"Fiji\", \"France\", \"Faroe Islands\", \"Micronesia, Fed. Sts.\", \"Gabon\", \"United Kingdom\", \"Georgia\", \"Ghana\", \"Gibraltar\", \"Guinea\", \"Gambia, The\", \"Guinea-Bissau\", \"Equatorial Guinea\", \"Greece\", \"Grenada\", \"Greenland\", \"Guatemala\", \"Guam\", \"Guyana\", \"High income\", \"Hong Kong SAR, China\", \"Honduras\", \"Heavily indebted poor countries (HIPC)\", \"Croatia\", \"Haiti\", \"Hungary\", \"IBRD only\", \"IDA & IBRD total\", \"IDA total\", \"IDA blend\", \"Indonesia\", \"IDA only\", \"Isle of Man\", \"India\", \"Not classified\", \"Ireland\", \"Iran, Islamic Rep.\", \"Iraq\", \"Iceland\", \"Israel\", \"Italy\", \"Jamaica\", \"Jordan\", \"Japan\", \"Kazakhstan\", \"Kenya\", \"Kyrgyz Republic\", \"Cambodia\", \"Kiribati\", \"St. Kitts and Nevis\", \"Korea, Rep.\", \"Kuwait\", \"Latin America & Caribbean (excluding high income)\", \"Lao PDR\", \"Lebanon\", \"Liberia\", \"Libya\", \"St. Lucia\", \"Latin America & Caribbean\", \"Least developed countries: UN classification\", \"Low income\", \"Liechtenstein\", \"Sri Lanka\", \"Lower middle income\", \"Low & middle income\", \"Lesotho\", \"Late-demographic dividend\", \"Lithuania\", \"Luxembourg\", \"Latvia\", \"Macao SAR, China\", \"St. Martin (French part)\", \"Morocco\", \"Monaco\", \"Moldova\", \"Madagascar\", \"Maldives\", \"Middle East & North Africa\", \"Mexico\", \"Marshall Islands\", \"Middle income\", \"North Macedonia\", \"Mali\", \"Malta\", \"Myanmar\", \"Middle East & North Africa (excluding high income)\", \"Montenegro\", \"Mongolia\", \"Northern Mariana Islands\", \"Mozambique\", \"Mauritania\", \"Mauritius\", \"Malawi\", \"Malaysia\", \"North America\", \"Namibia\", \"New Caledonia\", \"Niger\", \"Nigeria\", \"Nicaragua\", \"Netherlands\", \"Norway\", \"Nepal\", \"Nauru\", \"New Zealand\", \"OECD members\", \"Oman\", \"Other small states\", \"Pakistan\", \"Panama\", \"Peru\", \"Philippines\", \"Palau\", \"Papua New Guinea\", \"Poland\", \"Pre-demographic dividend\", \"Puerto Rico\", \"Korea, Dem. People\\u2019s Rep.\", \"Portugal\", \"Paraguay\", \"West Bank and Gaza\", \"Pacific island small states\", \"Post-demographic dividend\", \"French Polynesia\", \"Qatar\", \"Romania\", \"Russian Federation\", \"Rwanda\", \"South Asia\", \"Saudi Arabia\", \"Sudan\", \"Senegal\", \"Singapore\", \"Solomon Islands\", \"Sierra Leone\", \"El Salvador\", \"San Marino\", \"Somalia\", \"Serbia\", \"Sub-Saharan Africa (excluding high income)\", \"South Sudan\", \"Sub-Saharan Africa\", \"Small states\", \"Sao Tome and Principe\", \"Suriname\", \"Slovak Republic\", \"Slovenia\", \"Sweden\", \"Eswatini\", \"Sint Maarten (Dutch part)\", \"Seychelles\", \"Syrian Arab Republic\", \"Turks and Caicos Islands\", \"Chad\", \"East Asia & Pacific (IDA & IBRD countries)\", \"Europe & Central Asia (IDA & IBRD countries)\", \"Togo\", \"Thailand\", \"Tajikistan\", \"Turkmenistan\", \"Latin America & the Caribbean (IDA & IBRD countries)\", \"Timor-Leste\", \"Middle East & North Africa (IDA & IBRD countries)\", \"Tonga\", \"South Asia (IDA & IBRD)\", \"Sub-Saharan Africa (IDA & IBRD countries)\", \"Trinidad and Tobago\", \"Tunisia\", \"Turkey\", \"Tuvalu\", \"Tanzania\", \"Uganda\", \"Ukraine\", \"Upper middle income\", \"Uruguay\", \"United States\", \"Uzbekistan\", \"St. Vincent and the Grenadines\", \"Venezuela, RB\", \"British Virgin Islands\", \"Virgin Islands (U.S.)\", \"Vietnam\", \"Vanuatu\", \"World\", \"Samoa\", \"Kosovo\", \"Yemen, Rep.\", \"South Africa\", \"Zambia\", \"Zimbabwe\"], \"locationmode\": \"ISO-3\", \"locations\": [\"ABW\", \"AFG\", \"AGO\", \"ALB\", \"AND\", \"ARB\", \"ARE\", \"ARG\", \"ARM\", \"ASM\", \"ATG\", \"AUS\", \"AUT\", \"AZE\", \"BDI\", \"BEL\", \"BEN\", \"BFA\", \"BGD\", \"BGR\", \"BHR\", \"BHS\", \"BIH\", \"BLR\", \"BLZ\", \"BMU\", \"BOL\", \"BRA\", \"BRB\", \"BRN\", \"BTN\", \"BWA\", \"CAF\", \"CAN\", \"CEB\", \"CHE\", \"CHI\", \"CHL\", \"CHN\", \"CIV\", \"CMR\", \"COD\", \"COG\", \"COL\", \"COM\", \"CPV\", \"CRI\", \"CSS\", \"CUB\", \"CUW\", \"CYM\", \"CYP\", \"CZE\", \"DEU\", \"DJI\", \"DMA\", \"DNK\", \"DOM\", \"DZA\", \"EAP\", \"EAR\", \"EAS\", \"ECA\", \"ECS\", \"ECU\", \"EGY\", \"EMU\", \"ERI\", \"ESP\", \"EST\", \"ETH\", \"EUU\", \"FCS\", \"FIN\", \"FJI\", \"FRA\", \"FRO\", \"FSM\", \"GAB\", \"GBR\", \"GEO\", \"GHA\", \"GIB\", \"GIN\", \"GMB\", \"GNB\", \"GNQ\", \"GRC\", \"GRD\", \"GRL\", \"GTM\", \"GUM\", \"GUY\", \"HIC\", \"HKG\", \"HND\", \"HPC\", \"HRV\", \"HTI\", \"HUN\", \"IBD\", \"IBT\", \"IDA\", \"IDB\", \"IDN\", \"IDX\", \"IMN\", \"IND\", \"INX\", \"IRL\", \"IRN\", \"IRQ\", \"ISL\", \"ISR\", \"ITA\", \"JAM\", \"JOR\", \"JPN\", \"KAZ\", \"KEN\", \"KGZ\", \"KHM\", \"KIR\", \"KNA\", \"KOR\", \"KWT\", \"LAC\", \"LAO\", \"LBN\", \"LBR\", \"LBY\", \"LCA\", \"LCN\", \"LDC\", \"LIC\", \"LIE\", \"LKA\", \"LMC\", \"LMY\", \"LSO\", \"LTE\", \"LTU\", \"LUX\", \"LVA\", \"MAC\", \"MAF\", \"MAR\", \"MCO\", \"MDA\", \"MDG\", \"MDV\", \"MEA\", \"MEX\", \"MHL\", \"MIC\", \"MKD\", \"MLI\", \"MLT\", \"MMR\", \"MNA\", \"MNE\", \"MNG\", \"MNP\", \"MOZ\", \"MRT\", \"MUS\", \"MWI\", \"MYS\", \"NAC\", \"NAM\", \"NCL\", \"NER\", \"NGA\", \"NIC\", \"NLD\", \"NOR\", \"NPL\", \"NRU\", \"NZL\", \"OED\", \"OMN\", \"OSS\", \"PAK\", \"PAN\", \"PER\", \"PHL\", \"PLW\", \"PNG\", \"POL\", \"PRE\", \"PRI\", \"PRK\", \"PRT\", \"PRY\", \"PSE\", \"PSS\", \"PST\", \"PYF\", \"QAT\", \"ROU\", \"RUS\", \"RWA\", \"SAS\", \"SAU\", \"SDN\", \"SEN\", \"SGP\", \"SLB\", \"SLE\", \"SLV\", \"SMR\", \"SOM\", \"SRB\", \"SSA\", \"SSD\", \"SSF\", \"SST\", \"STP\", \"SUR\", \"SVK\", \"SVN\", \"SWE\", \"SWZ\", \"SXM\", \"SYC\", \"SYR\", \"TCA\", \"TCD\", \"TEA\", \"TEC\", \"TGO\", \"THA\", \"TJK\", \"TKM\", \"TLA\", \"TLS\", \"TMN\", \"TON\", \"TSA\", \"TSS\", \"TTO\", \"TUN\", \"TUR\", \"TUV\", \"TZA\", \"UGA\", \"UKR\", \"UMC\", \"URY\", \"USA\", \"UZB\", \"VCT\", \"VEN\", \"VGB\", \"VIR\", \"VNM\", \"VUT\", \"WLD\", \"WSM\", \"XKX\", \"YEM\", \"ZAF\", \"ZMB\", \"ZWE\"], \"name\": \"\", \"z\": [65.662, 32.446, 37.524, 62.283, null, 46.5469088857838, 51.537, 65.055, 65.972, null, 61.968, 70.8170731707317, 68.5856097560976, 61.034, 41.281, 69.7019512195122, 37.271, 34.432, 45.379, 69.2475609756098, 51.869, 64.74, 60.353, 67.7080975609756, 59.981, null, 41.82, 54.143, 64.472, 54.81, 34.526, 49.179, 36.249, 71.1331707317073, 67.8213886391755, 71.3134146341463, 70.739, 57.219, 43.725, 36.095, 41.785, 41.098, 45.721, 57.269, 41.447, 48.461, 60.381, 62.7462959437032, 63.834, null, null, 69.618, 70.3487804878049, 69.3100243902439, 44.038, null, 72.1765853658537, 51.602, 46.141, 45.6132420031653, 45.0908980712581, 48.4158990605597, 63.18187385868, 67.0265416102025, 52.982, 48.042, 69.2905809133318, 38.419, 69.1092682926829, 67.9029024390244, 38.419, 69.0208666209947, 40.5747374121048, 68.819756097561, 60.811, 69.8682926829268, null, 54.513, 39.694, 71.1268292682927, 63.651, 45.843, null, 34.89, 32.054, 37.478, 36.535, 68.1639024390244, 62.231, null, 46.702, 60.97, 60.26, 68.4651278483481, 66.9616829268293, 46.274, 39.7796576682467, 64.6086585365854, 41.762, 68.0031707317073, 48.6761772149084, 47.5303441920779, 41.7404850978892, 43.2509636036738, 46.664, 41.0366595847928, null, 41.422, null, 69.796512195122, 44.947, 48.022, 73.4231707317073, null, 69.1239024390244, 64.77, 52.651, 67.6660975609756, 58.3675853658537, 46.76, 56.1280731707317, 41.242, 47.061, null, 55.4155365853659, 59.343, 55.6685130080273, 43.204, 63.267, 34.264, 42.609, 56.739, 56.0776667120601, 40.3074848432961, 39.724770039454, null, 59.369, 45.118916244594, 47.0813446290416, 47.919, 50.2472965798124, 69.8473170731707, 68.4463902439024, 69.7868292682927, 64.828, null, 48.458, null, 61.995, 39.962, 37.343, 46.4416442088771, 57.077, null, 47.5846815930701, 60.633, 28.199, 69.433243902439, 42.381, 46.3631075668055, 63.82, 48.392, null, 39.439, 44.432, 58.7452195121951, 36.672, 59.991, 69.89360375709, 46.483, 58.6390243902439, 35.053, 36.976, 46.998, 73.3926829268293, 73.549756097561, 35.583, null, 71.2365853658537, 67.2370157246502, 42.672, 51.4150047964335, 45.299, 60.864, 48.012, 61.105, null, 38.935, 67.6804878048781, 39.1361000183987, 68.7196097560976, 51.297, 63.2729024390244, 63.881, null, 56.5054971411929, 68.8155446840975, 56.282, 61.094, 65.6424390243903, 66.0552926829268, 42.616, 42.120208188067, 45.638, 48.194, 38.223, 65.6598292682927, 48.123, 31.566, 49.95, null, 36.976, null, 40.3244374679549, 31.697, 40.3778979179808, 55.019876733748, 50.378, 59.682, 69.9236585365854, 68.9780487804878, 73.0056097560976, 43.572, null, null, 51.971, null, 38.02, 45.5397402930785, 63.7951821308772, 40.297, 54.701, 50.613, 54.471, 55.6534267815011, 33.729, 46.3631075668055, 59.885, 42.120208188067, 40.3778979179808, 62.222, 42.021, 45.369, null, 43.6, 44.359, 68.2995365853659, 49.3490137155296, 67.783, 69.7707317073171, 58.835, 59.26, 59.831, null, 66.2248536585366, 59.039, 48.975, 52.578366546371, 56.902, null, 29.919, 48.406, 46.687, 53.019], \"type\": \"choropleth\"}], \"name\": \"1960\"}, {\"data\": [{\"coloraxis\": \"coloraxis\", \"geo\": \"geo\", \"hovertemplate\": \"<b>%{hovertext}</b><br><br>Year=2018<br>Country Code=%{location}<br>Life Exp.=%{z}<extra></extra>\", \"hovertext\": [\"Aruba\", \"Afghanistan\", \"Angola\", \"Albania\", \"Andorra\", \"Arab World\", \"United Arab Emirates\", \"Argentina\", \"Armenia\", \"American Samoa\", \"Antigua and Barbuda\", \"Australia\", \"Austria\", \"Azerbaijan\", \"Burundi\", \"Belgium\", \"Benin\", \"Burkina Faso\", \"Bangladesh\", \"Bulgaria\", \"Bahrain\", \"Bahamas, The\", \"Bosnia and Herzegovina\", \"Belarus\", \"Belize\", \"Bermuda\", \"Bolivia\", \"Brazil\", \"Barbados\", \"Brunei Darussalam\", \"Bhutan\", \"Botswana\", \"Central African Republic\", \"Canada\", \"Central Europe and the Baltics\", \"Switzerland\", \"Channel Islands\", \"Chile\", \"China\", \"Cote d'Ivoire\", \"Cameroon\", \"Congo, Dem. Rep.\", \"Congo, Rep.\", \"Colombia\", \"Comoros\", \"Cabo Verde\", \"Costa Rica\", \"Caribbean small states\", \"Cuba\", \"Curacao\", \"Cayman Islands\", \"Cyprus\", \"Czech Republic\", \"Germany\", \"Djibouti\", \"Dominica\", \"Denmark\", \"Dominican Republic\", \"Algeria\", \"East Asia & Pacific (excluding high income)\", \"Early-demographic dividend\", \"East Asia & Pacific\", \"Europe & Central Asia (excluding high income)\", \"Europe & Central Asia\", \"Ecuador\", \"Egypt, Arab Rep.\", \"Euro area\", \"Eritrea\", \"Spain\", \"Estonia\", \"Ethiopia\", \"European Union\", \"Fragile and conflict affected situations\", \"Finland\", \"Fiji\", \"France\", \"Faroe Islands\", \"Micronesia, Fed. Sts.\", \"Gabon\", \"United Kingdom\", \"Georgia\", \"Ghana\", \"Gibraltar\", \"Guinea\", \"Gambia, The\", \"Guinea-Bissau\", \"Equatorial Guinea\", \"Greece\", \"Grenada\", \"Greenland\", \"Guatemala\", \"Guam\", \"Guyana\", \"High income\", \"Hong Kong SAR, China\", \"Honduras\", \"Heavily indebted poor countries (HIPC)\", \"Croatia\", \"Haiti\", \"Hungary\", \"IBRD only\", \"IDA & IBRD total\", \"IDA total\", \"IDA blend\", \"Indonesia\", \"IDA only\", \"Isle of Man\", \"India\", \"Not classified\", \"Ireland\", \"Iran, Islamic Rep.\", \"Iraq\", \"Iceland\", \"Israel\", \"Italy\", \"Jamaica\", \"Jordan\", \"Japan\", \"Kazakhstan\", \"Kenya\", \"Kyrgyz Republic\", \"Cambodia\", \"Kiribati\", \"St. Kitts and Nevis\", \"Korea, Rep.\", \"Kuwait\", \"Latin America & Caribbean (excluding high income)\", \"Lao PDR\", \"Lebanon\", \"Liberia\", \"Libya\", \"St. Lucia\", \"Latin America & Caribbean\", \"Least developed countries: UN classification\", \"Low income\", \"Liechtenstein\", \"Sri Lanka\", \"Lower middle income\", \"Low & middle income\", \"Lesotho\", \"Late-demographic dividend\", \"Lithuania\", \"Luxembourg\", \"Latvia\", \"Macao SAR, China\", \"St. Martin (French part)\", \"Morocco\", \"Monaco\", \"Moldova\", \"Madagascar\", \"Maldives\", \"Middle East & North Africa\", \"Mexico\", \"Marshall Islands\", \"Middle income\", \"North Macedonia\", \"Mali\", \"Malta\", \"Myanmar\", \"Middle East & North Africa (excluding high income)\", \"Montenegro\", \"Mongolia\", \"Northern Mariana Islands\", \"Mozambique\", \"Mauritania\", \"Mauritius\", \"Malawi\", \"Malaysia\", \"North America\", \"Namibia\", \"New Caledonia\", \"Niger\", \"Nigeria\", \"Nicaragua\", \"Netherlands\", \"Norway\", \"Nepal\", \"Nauru\", \"New Zealand\", \"OECD members\", \"Oman\", \"Other small states\", \"Pakistan\", \"Panama\", \"Peru\", \"Philippines\", \"Palau\", \"Papua New Guinea\", \"Poland\", \"Pre-demographic dividend\", \"Puerto Rico\", \"Korea, Dem. People\\u2019s Rep.\", \"Portugal\", \"Paraguay\", \"West Bank and Gaza\", \"Pacific island small states\", \"Post-demographic dividend\", \"French Polynesia\", \"Qatar\", \"Romania\", \"Russian Federation\", \"Rwanda\", \"South Asia\", \"Saudi Arabia\", \"Sudan\", \"Senegal\", \"Singapore\", \"Solomon Islands\", \"Sierra Leone\", \"El Salvador\", \"San Marino\", \"Somalia\", \"Serbia\", \"Sub-Saharan Africa (excluding high income)\", \"South Sudan\", \"Sub-Saharan Africa\", \"Small states\", \"Sao Tome and Principe\", \"Suriname\", \"Slovak Republic\", \"Slovenia\", \"Sweden\", \"Eswatini\", \"Sint Maarten (Dutch part)\", \"Seychelles\", \"Syrian Arab Republic\", \"Turks and Caicos Islands\", \"Chad\", \"East Asia & Pacific (IDA & IBRD countries)\", \"Europe & Central Asia (IDA & IBRD countries)\", \"Togo\", \"Thailand\", \"Tajikistan\", \"Turkmenistan\", \"Latin America & the Caribbean (IDA & IBRD countries)\", \"Timor-Leste\", \"Middle East & North Africa (IDA & IBRD countries)\", \"Tonga\", \"South Asia (IDA & IBRD)\", \"Sub-Saharan Africa (IDA & IBRD countries)\", \"Trinidad and Tobago\", \"Tunisia\", \"Turkey\", \"Tuvalu\", \"Tanzania\", \"Uganda\", \"Ukraine\", \"Upper middle income\", \"Uruguay\", \"United States\", \"Uzbekistan\", \"St. Vincent and the Grenadines\", \"Venezuela, RB\", \"British Virgin Islands\", \"Virgin Islands (U.S.)\", \"Vietnam\", \"Vanuatu\", \"World\", \"Samoa\", \"Kosovo\", \"Yemen, Rep.\", \"South Africa\", \"Zambia\", \"Zimbabwe\"], \"locationmode\": \"ISO-3\", \"locations\": [\"ABW\", \"AFG\", \"AGO\", \"ALB\", \"AND\", \"ARB\", \"ARE\", \"ARG\", \"ARM\", \"ASM\", \"ATG\", \"AUS\", \"AUT\", \"AZE\", \"BDI\", \"BEL\", \"BEN\", \"BFA\", \"BGD\", \"BGR\", \"BHR\", \"BHS\", \"BIH\", \"BLR\", \"BLZ\", \"BMU\", \"BOL\", \"BRA\", \"BRB\", \"BRN\", \"BTN\", \"BWA\", \"CAF\", \"CAN\", \"CEB\", \"CHE\", \"CHI\", \"CHL\", \"CHN\", \"CIV\", \"CMR\", \"COD\", \"COG\", \"COL\", \"COM\", \"CPV\", \"CRI\", \"CSS\", \"CUB\", \"CUW\", \"CYM\", \"CYP\", \"CZE\", \"DEU\", \"DJI\", \"DMA\", \"DNK\", \"DOM\", \"DZA\", \"EAP\", \"EAR\", \"EAS\", \"ECA\", \"ECS\", \"ECU\", \"EGY\", \"EMU\", \"ERI\", \"ESP\", \"EST\", \"ETH\", \"EUU\", \"FCS\", \"FIN\", \"FJI\", \"FRA\", \"FRO\", \"FSM\", \"GAB\", \"GBR\", \"GEO\", \"GHA\", \"GIB\", \"GIN\", \"GMB\", \"GNB\", \"GNQ\", \"GRC\", \"GRD\", \"GRL\", \"GTM\", \"GUM\", \"GUY\", \"HIC\", \"HKG\", \"HND\", \"HPC\", \"HRV\", \"HTI\", \"HUN\", \"IBD\", \"IBT\", \"IDA\", \"IDB\", \"IDN\", \"IDX\", \"IMN\", \"IND\", \"INX\", \"IRL\", \"IRN\", \"IRQ\", \"ISL\", \"ISR\", \"ITA\", \"JAM\", \"JOR\", \"JPN\", \"KAZ\", \"KEN\", \"KGZ\", \"KHM\", \"KIR\", \"KNA\", \"KOR\", \"KWT\", \"LAC\", \"LAO\", \"LBN\", \"LBR\", \"LBY\", \"LCA\", \"LCN\", \"LDC\", \"LIC\", \"LIE\", \"LKA\", \"LMC\", \"LMY\", \"LSO\", \"LTE\", \"LTU\", \"LUX\", \"LVA\", \"MAC\", \"MAF\", \"MAR\", \"MCO\", \"MDA\", \"MDG\", \"MDV\", \"MEA\", \"MEX\", \"MHL\", \"MIC\", \"MKD\", \"MLI\", \"MLT\", \"MMR\", \"MNA\", \"MNE\", \"MNG\", \"MNP\", \"MOZ\", \"MRT\", \"MUS\", \"MWI\", \"MYS\", \"NAC\", \"NAM\", \"NCL\", \"NER\", \"NGA\", \"NIC\", \"NLD\", \"NOR\", \"NPL\", \"NRU\", \"NZL\", \"OED\", \"OMN\", \"OSS\", \"PAK\", \"PAN\", \"PER\", \"PHL\", \"PLW\", \"PNG\", \"POL\", \"PRE\", \"PRI\", \"PRK\", \"PRT\", \"PRY\", \"PSE\", \"PSS\", \"PST\", \"PYF\", \"QAT\", \"ROU\", \"RUS\", \"RWA\", \"SAS\", \"SAU\", \"SDN\", \"SEN\", \"SGP\", \"SLB\", \"SLE\", \"SLV\", \"SMR\", \"SOM\", \"SRB\", \"SSA\", \"SSD\", \"SSF\", \"SST\", \"STP\", \"SUR\", \"SVK\", \"SVN\", \"SWE\", \"SWZ\", \"SXM\", \"SYC\", \"SYR\", \"TCA\", \"TCD\", \"TEA\", \"TEC\", \"TGO\", \"THA\", \"TJK\", \"TKM\", \"TLA\", \"TLS\", \"TMN\", \"TON\", \"TSA\", \"TSS\", \"TTO\", \"TUN\", \"TUR\", \"TUV\", \"TZA\", \"UGA\", \"UKR\", \"UMC\", \"URY\", \"USA\", \"UZB\", \"VCT\", \"VEN\", \"VGB\", \"VIR\", \"VNM\", \"VUT\", \"WLD\", \"WSM\", \"XKX\", \"YEM\", \"ZAF\", \"ZMB\", \"ZWE\"], \"name\": \"\", \"z\": [76.152, 64.486, 60.782, 78.458, null, 71.8068251623605, 77.814, 76.52, 74.945, null, 76.885, 82.7487804878049, 81.6926829268293, 72.864, 61.247, 81.5951219512195, 61.47, 61.174, 72.32, 74.9634146341464, 77.163, 73.752, 77.262, 74.1756097560976, 74.496, 81.6517073170732, 71.239, 75.672, 79.081, 75.722, 71.46, 69.275, 52.805, 81.9487804878049, 76.97684517184, 83.7536585365854, 82.928, 80.042, 76.704, 57.422, 58.921, 60.368, 64.29, 77.109, 64.118, 72.782, 80.095, 73.6371089078694, 78.726, null, null, 80.828, 79.0292682926829, 80.8926829268293, 66.582, null, 80.9536585365854, 73.892, 76.693, 75.2105121056207, 70.4831906811833, 76.0683364250094, 73.590781529875, 77.9086066864279, 76.8, 71.825, 82.0596172798915, 65.941, 83.4317073170732, 78.2439024390244, 66.24, 81.0344092172663, 61.4999995849382, 81.7341463414634, 67.341, 82.7243902439024, 82.5487804878049, 67.755, 66.187, 81.2560975609756, 73.6, 63.78, null, 61.185, 61.735, 58.003, 58.402, 81.7878048780488, 72.384, null, 74.063, 79.859, 69.774, 80.6561046818993, 84.9341463414634, 75.088, 63.1350064011699, 78.0707317073171, 63.66, 76.0658536585366, 73.4048767291993, 71.0717380418743, 64.2478004723441, 62.1617501399529, 71.509, 65.3040915219653, null, 69.416, null, 82.2560975609756, 76.479, 70.454, 82.8609756097561, 82.8024390243903, 83.3463414634146, 74.368, 74.405, 84.2109756097561, 73.15, 66.342, 71.4, 69.57, 68.116, null, 82.6268292682927, 75.398, 75.246114048204, 67.61, 78.875, 63.73, 72.724, 76.057, 75.4409477532745, 65.0396241212957, 63.4963387504082, 83.0414634146342, 76.812, 68.4224690868156, 70.9988194769754, 53.705, 76.2244436790799, 75.6804878048781, 82.2951219512195, 74.7829268292683, 84.118, 79.8707317073171, 76.453, null, 71.808, 66.681, 78.627, 74.0889092566827, 74.992, null, 71.8546257820263, 75.688, 58.893, 82.4487804878049, 66.867, 73.5873582148883, 76.77, 69.689, null, 60.163, 64.704, 74.4163414634146, 63.798, 75.997, 78.8868905457275, 63.373, 77.1487804878049, 62.024, 54.332, 74.275, 81.8121951219512, 82.7585365853659, 70.478, null, 81.8585365853659, 80.0775295859723, 77.633, 68.5469317038401, 67.114, 78.329, 76.516, 71.095, null, 64.263, 77.6024390243903, 60.8209562953764, 79.7781951219512, 72.095, 81.3243902439024, 74.131, 73.895, 69.929057966298, 80.6598920018751, 77.462, 80.1, 75.3585365853659, 72.6573170731707, 68.7, 69.4122476461494, 74.998, 65.095, 67.665, 83.1463414634146, 72.835, 54.309, 73.096, null, 57.068, 75.890243902439, 61.2565331327445, 57.604, 61.2730146485793, 69.5411324592597, 70.17, 71.57, 77.2658536585366, 81.3780487804878, 82.5585365853659, 59.401, null, 72.8414634146341, 71.779, null, 53.977, 75.2492291135899, 74.0376029005072, 60.76, 76.931, 70.879, 68.073, 75.3574154976003, 69.26, 73.5836428053412, 70.801, 69.4122476461494, 61.2730146485793, 73.38, 76.505, 77.437, null, 65.015, 62.973, 71.5826829268293, 75.3289849763003, 77.77, 78.5390243902439, 71.573, 72.415, 72.128, null, 79.5682926829268, 75.317, 70.323, 72.5632818899911, 73.187, 72.1951219512195, 66.096, 63.857, 63.51, 61.195], \"type\": \"choropleth\"}], \"name\": \"2018\"}]);\n",
       "                        }).then(function(){\n",
       "                            \n",
       "var gd = document.getElementById('9ccd7639-7674-4db5-9e81-9aa12718bae0');\n",
       "var x = new MutationObserver(function (mutations, observer) {{\n",
       "        var display = window.getComputedStyle(gd).display;\n",
       "        if (!display || display === 'none') {{\n",
       "            console.log([gd, 'removed!']);\n",
       "            Plotly.purge(gd);\n",
       "            observer.disconnect();\n",
       "        }}\n",
       "}});\n",
       "\n",
       "// Listen for the removal of the full notebook cells\n",
       "var notebookContainer = gd.closest('#notebook-container');\n",
       "if (notebookContainer) {{\n",
       "    x.observe(notebookContainer, {childList: true});\n",
       "}}\n",
       "\n",
       "// Listen for the clearing of the current output cell\n",
       "var outputEl = gd.closest('.output');\n",
       "if (outputEl) {{\n",
       "    x.observe(outputEl, {childList: true});\n",
       "}}\n",
       "\n",
       "                        })                };                });            </script>        </div>"
      ]
     },
     "metadata": {},
     "output_type": "display_data"
    }
   ],
   "source": [
    "fig = px.choropleth(data_frame=test3,locationmode='ISO-3',locations='Country Code',scope='world',color='Life Exp.',labels={'2018': 'Life Expectancy'},hover_name='Country Name',color_continuous_scale='Jet',animation_frame='Year')\n",
    "fig.layout.updatemenus[0].buttons[0].args[1]['frame']['duration'] = 2000\n",
    "fig.layout.updatemenus[0].buttons[0].args[1]['transition']['duration'] = 500\n",
    "fig.show()"
   ]
  },
  {
   "cell_type": "code",
   "execution_count": null,
   "id": "streaming-civilian",
   "metadata": {},
   "outputs": [],
   "source": []
  },
  {
   "cell_type": "code",
   "execution_count": null,
   "id": "protected-cincinnati",
   "metadata": {},
   "outputs": [],
   "source": []
  }
 ],
 "metadata": {
  "kernelspec": {
   "display_name": "Python 3",
   "language": "python",
   "name": "python3"
  },
  "language_info": {
   "codemirror_mode": {
    "name": "ipython",
    "version": 3
   },
   "file_extension": ".py",
   "mimetype": "text/x-python",
   "name": "python",
   "nbconvert_exporter": "python",
   "pygments_lexer": "ipython3",
   "version": "3.7.9"
  }
 },
 "nbformat": 4,
 "nbformat_minor": 5
}
